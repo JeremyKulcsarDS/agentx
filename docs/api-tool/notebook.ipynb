{
 "cells": [
  {
   "cell_type": "markdown",
   "metadata": {},
   "source": [
    "# Develop and publish tools - API\n",
    "\n",
    "A common pattern for developing tools is to connect RESTful APIs with LLM Agents. This pattern is used in the `xentropy-geocoding` tool where the Google Map API is used to perform geocoding."
   ]
  },
  {
   "cell_type": "code",
   "execution_count": 1,
   "metadata": {},
   "outputs": [],
   "source": [
    "from xentropy.client import Client"
   ]
  },
  {
   "cell_type": "code",
   "execution_count": null,
   "metadata": {},
   "outputs": [],
   "source": [
    "client = Client(api_key='YOUR_API_KEY')"
   ]
  },
  {
   "cell_type": "code",
   "execution_count": null,
   "metadata": {},
   "outputs": [],
   "source": [
    "from hashlib import sha256\n",
    "import time\n",
    "# XEntropy will send a Webhook-Secret header to your endpoint for authentication.\n",
    "# You can replace YOUR_OWN_SEED with time.time() or other random string.\n",
    "webhook_secret = sha256(b'YOUR_OWN_SEED').hexdigest()\n",
    "\n",
    "# Replace with your own google cloud api key\n",
    "env = {\n",
    "    \"WEBHOOK_SECRET\": webhook_secret,\n",
    "    \"GOOGLE_CLOUD_API_KEY\": \"YOUR_GOOGLE_CLOUD_API_KEY\",\n",
    "}\n",
    "\n",
    "with open('.env', 'w') as f:\n",
    "    f.write('\\n'.join([f'{key}={value}' for key, value in env.items()]))"
   ]
  },
  {
   "cell_type": "code",
   "execution_count": null,
   "metadata": {},
   "outputs": [],
   "source": [
    "# Code snippet of wrapping an API into a tool to be published on XEntropy\n",
    "\n",
    "from pydantic import BaseModel\n",
    "import os\n",
    "import requests\n",
    "\n",
    "class Address(BaseModel):\n",
    "    address: str\n",
    "\n",
    "\n",
    "class Coordinate(BaseModel):\n",
    "    latitude: float\n",
    "    longitude: float\n",
    "\n",
    "\n",
    "def geocoding(address: Address):\n",
    "\n",
    "    geocoding = requests.get(\n",
    "        'https://maps.googleapis.com/maps/api/geocode/json',\n",
    "        params={\n",
    "            'address': address.address,\n",
    "            # YOUR Google Cloud API Key\n",
    "            'key': os.environ.get('GOOGLE_CLOUD_API_KEY')\n",
    "        }\n",
    "    ).json()\n",
    "    location = geocoding.get('results')[0].get('geometry').get('location')\n",
    "    result = {'latitude': location.get(\n",
    "        'lat'), 'longitude': location.get('lng')}\n",
    "\n",
    "    return result"
   ]
  },
  {
   "cell_type": "code",
   "execution_count": null,
   "metadata": {},
   "outputs": [],
   "source": [
    "# Test if the code snippet works\n",
    "geocoding(address=Address(address='ENTER_YOUR_ADDRESS'))"
   ]
  },
  {
   "cell_type": "markdown",
   "metadata": {},
   "source": [
    "Execute the following to start a FastAPI server on your virtual machine.\n",
    "```bash\n",
    "uvicorn server:app --host 0.0.0.0 --port 80 --reload\n",
    "```"
   ]
  },
  {
   "cell_type": "code",
   "execution_count": null,
   "metadata": {},
   "outputs": [],
   "source": [
    "import requests\n",
    "\n",
    "# Test if the server is working\n",
    "url = f'http://IP_OF_YOUR_VIRTUAL_MACHINE/geocoding'\n",
    "response = requests.post(\n",
    "    url,\n",
    "    json={\n",
    "        'address': 'JFK International Airport'\n",
    "    },\n",
    "    headers={\n",
    "        'Webhook-Secret': webhook_secret\n",
    "    }\n",
    ")\n",
    "response.json()"
   ]
  },
  {
   "cell_type": "code",
   "execution_count": null,
   "metadata": {},
   "outputs": [],
   "source": [
    "from xentropy.tool import Tool\n",
    "\n",
    "geocoding = Tool(\n",
    "    api_key=client.api_key,\n",
    "    name='geocoding', # name of the tool published, must be unique in your account\n",
    "    description='Retrieve the latitude and longitude given an address using the highly accurate Google Map API.', # subject to prompt engineering optimisation\n",
    "    endpoint=url,\n",
    "    input_model=Address,\n",
    "    output_model=Coordinate, # optional. If you have a output model defined it will aid user to write better code.\n",
    "    price=1000, # xentropy_credit per request. 0 means free to use. 1 USD = 100,000 xentropy_credit\n",
    "    free_quota=20,  # free use quota per user per day\n",
    ")\n",
    "\n",
    "tool_upload = geocoding.publish(\n",
    "    webhook_secret=webhook_secret,\n",
    "    # set to False if you want to test the tool before publishing it, or you want to keep it private.\n",
    "    public=True\n",
    ")"
   ]
  },
  {
   "cell_type": "code",
   "execution_count": null,
   "metadata": {},
   "outputs": [],
   "source": [
    "# confirm that the tool works\n",
    "geocoding = Tool.load(tool_upload['name'], api_key=client.api_key)\n",
    "# you are not charged for using your own tool\n",
    "geocoding.run(address='JFK International Airport')"
   ]
  }
 ],
 "metadata": {
  "kernelspec": {
   "display_name": "Python 3.9.6 64-bit",
   "language": "python",
   "name": "python3"
  },
  "language_info": {
   "codemirror_mode": {
    "name": "ipython",
    "version": 3
   },
   "file_extension": ".py",
   "mimetype": "text/x-python",
   "name": "python",
   "nbconvert_exporter": "python",
   "pygments_lexer": "ipython3",
   "version": "3.9.6"
  },
  "orig_nbformat": 4,
  "vscode": {
   "interpreter": {
    "hash": "31f2aee4e71d21fbe5cf8b01ff0e069b9275f58929596ceb00d14d90e3e16cd6"
   }
  }
 },
 "nbformat": 4,
 "nbformat_minor": 2
}

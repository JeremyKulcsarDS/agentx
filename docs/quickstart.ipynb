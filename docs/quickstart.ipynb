{
 "cells": [
  {
   "cell_type": "markdown",
   "id": "fa5aa9c5",
   "metadata": {},
   "source": [
    "# XEntropy Quickstart\n",
    "\n",
    "Welcome to the XEntropy quickstart guide, your first step in exploring the world of application development with agent-based large language models (or in short, agentic llm).\n",
    "\n",
    "XEntropy is an innovative development platform designed to elevate the ease at which developers can construct intelligent applications. Throughout this tutorial, we will navigate the following key areas:\n",
    "\n",
    "1. **Account creation:** We guide you step-by-step in establishing your XEntropy account:the gateway to a host of agentic llm tools.\n",
    "\n",
    "2. **Loading tools from XEntropy:** Learn how to seamlessly and efficiently import tools from the platform into your environment to kickstart your foray into developing llm agents and intelligent applications.\n",
    "\n",
    "3. **Managing your account:** Your XEntropy account is useful for many things. Learn how to:\n",
    "    - **Purchase credit**: Convenience and accessibility are core to XEntropy. Understand how to replenish your account balance in a straightforward, user-friendly manner.\n",
    "\n",
    "   - **Get paid**: Having created applications or tools that other developers find useful? Here's how to benefit from your creations.\n",
    "\n",
    "   - **Modify and delete tools**: As your skill level advances, so might your tools and applications. Learn how to adjust and remove tools from your portfolio.\n",
    "\n",
    "   - **Utilisation of logs**: Track your progress and rectify mistakes by understanding how to make use of logs effectively.\n",
    "\n",
    "   - **Finetune your own agentic llm**: Capture the essence of your application development ideation by discovering how to fine-tune your personal agentic llm to reach peak performance."
   ]
  },
  {
   "cell_type": "markdown",
   "id": "4c6fac97",
   "metadata": {},
   "source": [
    "## Account creation"
   ]
  },
  {
   "cell_type": "code",
   "execution_count": 16,
   "id": "f03f4c9a",
   "metadata": {},
   "outputs": [
    {
     "data": {
      "text/plain": [
       "['/Users/kaheichan/Library/Python/3.9/lib/python/site-packages/xentropy/bedrock_client.py',\n",
       " '/Users/kaheichan/Library/Python/3.9/lib/python/site-packages/xentropy/optimisers.py',\n",
       " '/Users/kaheichan/Library/Python/3.9/lib/python/site-packages/xentropy/client.py',\n",
       " '/Users/kaheichan/Library/Python/3.9/lib/python/site-packages/xentropy/__init__.py',\n",
       " '/Users/kaheichan/Library/Python/3.9/lib/python/site-packages/xentropy/oai_client.py',\n",
       " '/Users/kaheichan/Library/Python/3.9/lib/python/site-packages/xentropy/models/__init__.py',\n",
       " '/Users/kaheichan/Library/Python/3.9/lib/python/site-packages/xentropy/models/.gitignore',\n",
       " '/Users/kaheichan/Library/Python/3.9/lib/python/site-packages/xentropy/models/xentropy_tool_search_output_model.py',\n",
       " '/Users/kaheichan/Library/Python/3.9/lib/python/site-packages/xentropy/models/xentropy_tool_search_input_model.py',\n",
       " '/Users/kaheichan/Library/Python/3.9/lib/python/site-packages/xentropy/utils.py',\n",
       " '/Users/kaheichan/Library/Python/3.9/lib/python/site-packages/xentropy/astar.py',\n",
       " '/Users/kaheichan/Library/Python/3.9/lib/python/site-packages/xentropy/agent.py',\n",
       " '/Users/kaheichan/Library/Python/3.9/lib/python/site-packages/xentropy/tool.py',\n",
       " '/Users/kaheichan/Library/Python/3.9/lib/python/site-packages/xentropy/vertexai_client.py',\n",
       " '/Users/kaheichan/Library/Python/3.9/lib/python/site-packages/xentropy/schema.py']"
      ]
     },
     "execution_count": 16,
     "metadata": {},
     "output_type": "execute_result"
    }
   ],
   "source": [
    "# Install XEntropy\n",
    "from distutils.dir_util import copy_tree, remove_tree\n",
    "import os\n",
    "import sys\n",
    "\n",
    "site_packages_path = [x for x in sys.path if x.endswith('site-packages')][0]\n",
    "# remove any existing installation\n",
    "if os.path.exists(f'{site_packages_path}/xentropy'):\n",
    "    remove_tree(f'{site_packages_path}/xentropy')\n",
    "copy_tree(f'../xentropy', f'{site_packages_path}/xentropy')"
   ]
  },
  {
   "cell_type": "code",
   "execution_count": null,
   "id": "25e1482d",
   "metadata": {},
   "outputs": [],
   "source": [
    "# Install dependencies to complete this tutorial\n",
    "%pip install -r requirements.txt"
   ]
  },
  {
   "cell_type": "code",
   "execution_count": 163,
   "id": "9b0c4bba",
   "metadata": {},
   "outputs": [],
   "source": [
    "from xentropy.client import Client"
   ]
  },
  {
   "cell_type": "code",
   "execution_count": null,
   "id": "417b020b",
   "metadata": {},
   "outputs": [],
   "source": [
    "account_creation = Client.create_account(\n",
    "    user_id='xentropy', # replace with your own user_id\n",
    "    email='chankahei360@gmail.com' # replace with your email\n",
    ")"
   ]
  },
  {
   "cell_type": "code",
   "execution_count": null,
   "id": "8c132ed5",
   "metadata": {},
   "outputs": [],
   "source": [
    "print(account_creation)"
   ]
  },
  {
   "cell_type": "code",
   "execution_count": null,
   "id": "102cebae",
   "metadata": {},
   "outputs": [],
   "source": [
    "email_code_received = 'YOUR_EMAIL_CODE' # replace with the code you received in your email\n",
    "api_key = account_creation['api_key'].replace('<EMAIL_CODE>', email_code_received)"
   ]
  },
  {
   "cell_type": "markdown",
   "id": "82c7f30f",
   "metadata": {},
   "source": [
    "## Loading tools from XEntropy\n",
    "\n",
    "Agentic LLM is valuable in deducing, predicting, and problem-solving tasks where results need to be accomplished through sequential midsteps. When applying this pattern, you need to consider the following:\n",
    "\n",
    "1. Define a clear Objective: This is the end goal that the agent wants to achieve. Explicitly specifying the objective helps guide the agent throughout the process.\n",
    "\n",
    "2. Break down the Problem: Define the context of the problem in chunks that the model can handle within its cognitive limit. This will facilitate better understanding and allow the model to take it one step at a time. You can create an agent for each chunk to faciliate the process. Refer to `composite-agents-tool` for more information.\n",
    "\n",
    "3. Formulate Actionable Steps: The agent needs to have means or steps to achieve the objective. Search on XEntropy to see if you can utilize existing tools to help with the process. If not, you can create your own tools to help with the process.\n",
    "\n",
    "4. Monitor Progress: Track the progress of the model in each step to make sure it is on track and making progress towards the objective. If not, adjustments might be necessary.\n",
    "\n",
    "Addressing Hallucination: One of the challenges with LLMs is that they may end up creating information that is not accurate, also known as hallucinating. This can be managed in the following ways:\n",
    "\n",
    "1. Utilize Verifiable Sources: Whenever possible, try feeding the model with prompt that encourages the use of verifiable sources or requires the provision of source-based information. This increases the probability of information accuracy. You may refer to `rag-tool` and `api-tool` for more information.\n",
    "\n",
    "2. Use Continual Feedback Loop: Applying a feedback loop between the user and the model’s output also helps in curbing hallucination issues. If the model’s output is incorrect, it can be traced back, analyzed, and altered.\n",
    "\n",
    "3. External Calculation and Validation: For tasks that require high preciseness and accuracy, external computations should be conducted. Also, results generated by the model should be cross-verified with facts. You may refer to `logic-tool` for more information.\n",
    "\n",
    "\n",
    "You can import specific tools from XEntropy. These tools are designed to provide updated and accurate information, alleviate model hallucination, and help with external calculations. These can be easily integrated into your existing applications and designed workflows to foster effective problem-solving using agentic LLM."
   ]
  },
  {
   "cell_type": "code",
   "execution_count": 1,
   "id": "51837f92",
   "metadata": {},
   "outputs": [],
   "source": [
    "import os\n",
    "\n",
    "# Azure OpenAI\n",
    "os.environ['AZURE_OPENAI_KEY'] = 'YOUR_AZURE_OPENAI_KEY' # replace with your own Azure OpenAI key\n",
    "os.environ['AZURE_OPENAI_ENDPOINT'] = 'YOUR_AZURE_OPENAI_ENDPOINT' # replace with your own Azure OpenAI endpoint\n",
    "\n",
    "# OpenAI\n",
    "# os.environ['OPENAI_API_KEY'] = 'YOUR OPENAI_API_KEY' # replace with your own OpenAI key\n",
    "\n",
    "with open('.env', 'w') as f:\n",
    "    f.write('\\n'.join(\n",
    "        [\n",
    "            f'{key}={value}' for key, value in {\n",
    "                'AZURE_OPENAI_KEY': os.environ['AZURE_OPENAI_KEY'],\n",
    "                'AZURE_OPENAI_ENDPOINT': os.environ['AZURE_OPENAI_ENDPOINT'],\n",
    "                'XENTROPY_API_KEY': api_key,\n",
    "            }\n",
    "        ]\n",
    "    ))"
   ]
  },
  {
   "cell_type": "code",
   "execution_count": 2,
   "id": "cd6652e4",
   "metadata": {},
   "outputs": [
    {
     "data": {
      "text/plain": [
       "True"
      ]
     },
     "execution_count": 2,
     "metadata": {},
     "output_type": "execute_result"
    }
   ],
   "source": [
    "# load environment variables\n",
    "from dotenv import load_dotenv\n",
    "\n",
    "load_dotenv()"
   ]
  },
  {
   "cell_type": "markdown",
   "id": "c0ddde11",
   "metadata": {},
   "source": [
    "### XEntropy Marketplace\n",
    "XEntropy maintains a marketplace for tools. You can search suitable tools to complete an objective."
   ]
  },
  {
   "cell_type": "code",
   "execution_count": 3,
   "id": "d08ee459",
   "metadata": {},
   "outputs": [
    {
     "data": {
      "text/plain": [
       "{'title': 'SearchQuery',\n",
       " 'type': 'object',\n",
       " 'properties': {'query': {'title': 'Query', 'type': 'string'}},\n",
       " 'required': ['query']}"
      ]
     },
     "execution_count": 3,
     "metadata": {},
     "output_type": "execute_result"
    }
   ],
   "source": [
    "from xentropy.tool import Tool\n",
    "import os\n",
    "\n",
    "tool_search = Tool.load(\n",
    "    'xentropy--tool_search', \n",
    "    api_key=os.environ.get('XENTROPY_API_KEY')\n",
    ")\n",
    "\n",
    "# display the function call schema\n",
    "tool_search.input_json_schema"
   ]
  },
  {
   "cell_type": "code",
   "execution_count": 5,
   "id": "3265998e",
   "metadata": {},
   "outputs": [
    {
     "data": {
      "text/html": [
       "<pre style=\"white-space:pre;overflow-x:auto;line-height:normal;font-family:Menlo,'DejaVu Sans Mono',consolas,'Courier New',monospace\"><span style=\"font-weight: bold\">[</span>\n",
       "    <span style=\"font-weight: bold\">{</span>\n",
       "        <span style=\"color: #008000; text-decoration-color: #008000\">'tool_id'</span>: <span style=\"color: #008000; text-decoration-color: #008000\">'xentropy--geocoding'</span>,\n",
       "        <span style=\"color: #008000; text-decoration-color: #008000\">'description'</span>: <span style=\"color: #008000; text-decoration-color: #008000\">'Retrieve the latitude and longitude given an address using the highly accurate Google Map </span>\n",
       "<span style=\"color: #008000; text-decoration-color: #008000\">API.'</span>,\n",
       "        <span style=\"color: #008000; text-decoration-color: #008000\">'score'</span>: <span style=\"color: #008080; text-decoration-color: #008080; font-weight: bold\">0.85867697</span>\n",
       "    <span style=\"font-weight: bold\">}</span>,\n",
       "    <span style=\"font-weight: bold\">{</span>\n",
       "        <span style=\"color: #008000; text-decoration-color: #008000\">'tool_id'</span>: <span style=\"color: #008000; text-decoration-color: #008000\">'xentropy--geodesic'</span>,\n",
       "        <span style=\"color: #008000; text-decoration-color: #008000\">'description'</span>: <span style=\"color: #008000; text-decoration-color: #008000\">'Calculate the earth surface distance between two latitude and longitude coordinate'</span>,\n",
       "        <span style=\"color: #008000; text-decoration-color: #008000\">'score'</span>: <span style=\"color: #008080; text-decoration-color: #008080; font-weight: bold\">0.792058647</span>\n",
       "    <span style=\"font-weight: bold\">}</span>,\n",
       "    <span style=\"font-weight: bold\">{</span>\n",
       "        <span style=\"color: #008000; text-decoration-color: #008000\">'tool_id'</span>: <span style=\"color: #008000; text-decoration-color: #008000\">'xentropy--tool_search'</span>,\n",
       "        <span style=\"color: #008000; text-decoration-color: #008000\">'description'</span>: <span style=\"color: #008000; text-decoration-color: #008000\">'Search for relevant tools to accomplish a task.'</span>,\n",
       "        <span style=\"color: #008000; text-decoration-color: #008000\">'score'</span>: <span style=\"color: #008080; text-decoration-color: #008080; font-weight: bold\">0.686780155</span>\n",
       "    <span style=\"font-weight: bold\">}</span>,\n",
       "    <span style=\"font-weight: bold\">{</span>\n",
       "        <span style=\"color: #008000; text-decoration-color: #008000\">'tool_id'</span>: <span style=\"color: #008000; text-decoration-color: #008000\">'xentropy--etf_search'</span>,\n",
       "        <span style=\"color: #008000; text-decoration-color: #008000\">'description'</span>: <span style=\"color: #008000; text-decoration-color: #008000\">'Search for ETFs that satisfy a given description.'</span>,\n",
       "        <span style=\"color: #008000; text-decoration-color: #008000\">'score'</span>: <span style=\"color: #008080; text-decoration-color: #008080; font-weight: bold\">0.674237192</span>\n",
       "    <span style=\"font-weight: bold\">}</span>,\n",
       "    <span style=\"font-weight: bold\">{</span>\n",
       "        <span style=\"color: #008000; text-decoration-color: #008000\">'tool_id'</span>: <span style=\"color: #008000; text-decoration-color: #008000\">'xentropy--question_answering_by_product_brochure'</span>,\n",
       "        <span style=\"color: #008000; text-decoration-color: #008000\">'description'</span>: <span style=\"color: #008000; text-decoration-color: #008000\">'Base on an insurance product brochure answer the query page by page.'</span>,\n",
       "        <span style=\"color: #008000; text-decoration-color: #008000\">'score'</span>: <span style=\"color: #008080; text-decoration-color: #008080; font-weight: bold\">0.668316543</span>\n",
       "    <span style=\"font-weight: bold\">}</span>\n",
       "<span style=\"font-weight: bold\">]</span>\n",
       "</pre>\n"
      ],
      "text/plain": [
       "\u001b[1m[\u001b[0m\n",
       "    \u001b[1m{\u001b[0m\n",
       "        \u001b[32m'tool_id'\u001b[0m: \u001b[32m'xentropy--geocoding'\u001b[0m,\n",
       "        \u001b[32m'description'\u001b[0m: \u001b[32m'Retrieve the latitude and longitude given an address using the highly accurate Google Map \u001b[0m\n",
       "\u001b[32mAPI.'\u001b[0m,\n",
       "        \u001b[32m'score'\u001b[0m: \u001b[1;36m0.85867697\u001b[0m\n",
       "    \u001b[1m}\u001b[0m,\n",
       "    \u001b[1m{\u001b[0m\n",
       "        \u001b[32m'tool_id'\u001b[0m: \u001b[32m'xentropy--geodesic'\u001b[0m,\n",
       "        \u001b[32m'description'\u001b[0m: \u001b[32m'Calculate the earth surface distance between two latitude and longitude coordinate'\u001b[0m,\n",
       "        \u001b[32m'score'\u001b[0m: \u001b[1;36m0.792058647\u001b[0m\n",
       "    \u001b[1m}\u001b[0m,\n",
       "    \u001b[1m{\u001b[0m\n",
       "        \u001b[32m'tool_id'\u001b[0m: \u001b[32m'xentropy--tool_search'\u001b[0m,\n",
       "        \u001b[32m'description'\u001b[0m: \u001b[32m'Search for relevant tools to accomplish a task.'\u001b[0m,\n",
       "        \u001b[32m'score'\u001b[0m: \u001b[1;36m0.686780155\u001b[0m\n",
       "    \u001b[1m}\u001b[0m,\n",
       "    \u001b[1m{\u001b[0m\n",
       "        \u001b[32m'tool_id'\u001b[0m: \u001b[32m'xentropy--etf_search'\u001b[0m,\n",
       "        \u001b[32m'description'\u001b[0m: \u001b[32m'Search for ETFs that satisfy a given description.'\u001b[0m,\n",
       "        \u001b[32m'score'\u001b[0m: \u001b[1;36m0.674237192\u001b[0m\n",
       "    \u001b[1m}\u001b[0m,\n",
       "    \u001b[1m{\u001b[0m\n",
       "        \u001b[32m'tool_id'\u001b[0m: \u001b[32m'xentropy--question_answering_by_product_brochure'\u001b[0m,\n",
       "        \u001b[32m'description'\u001b[0m: \u001b[32m'Base on an insurance product brochure answer the query page by page.'\u001b[0m,\n",
       "        \u001b[32m'score'\u001b[0m: \u001b[1;36m0.668316543\u001b[0m\n",
       "    \u001b[1m}\u001b[0m\n",
       "\u001b[1m]\u001b[0m\n"
      ]
     },
     "metadata": {},
     "output_type": "display_data"
    }
   ],
   "source": [
    "from rich import print as rich_print\n",
    "import json\n",
    "# run the tool\n",
    "rich_print(\n",
    "    json.loads(\n",
    "        tool_search.run(query='convert an address to geolocation')\n",
    "    )\n",
    ")"
   ]
  },
  {
   "cell_type": "code",
   "execution_count": 6,
   "id": "6913ddbb",
   "metadata": {},
   "outputs": [],
   "source": [
    "# Get a tool that converts address to latitude longitude coordinate\n",
    "geocoding = Tool.load('xentropy--geocoding', api_key=os.environ.get('XENTROPY_API_KEY'))\n",
    "# Get a tool that computes the earth surface distance between two coordinates\n",
    "geodesic = Tool.load('xentropy--geodesic', api_key=os.environ.get('XENTROPY_API_KEY'))"
   ]
  },
  {
   "cell_type": "markdown",
   "id": "59fca493",
   "metadata": {},
   "source": [
    "## Creating Agents with the loaded tools"
   ]
  },
  {
   "cell_type": "code",
   "execution_count": 7,
   "id": "30226af1",
   "metadata": {},
   "outputs": [],
   "source": [
    "from xentropy.agent import Agent\n",
    "from xentropy.schema import GenerationConfig, Function, Message, Content\n",
    "from typing import List\n",
    "\n",
    "tools = [geocoding, geodesic]\n",
    "\n",
    "generation_config = GenerationConfig(\n",
    "    api_type='azure',\n",
    "    api_key=os.environ.get('AZURE_OPENAI_KEY'),\n",
    "    base_url=os.environ.get('AZURE_OPENAI_ENDPOINT'),\n",
    ")\n",
    "\n",
    "# replace with your own azure deployment to choose different models\n",
    "generation_config.azure_deployment = 'gpt-35'\n",
    "\n",
    "# register tools in the generation_config\n",
    "generation_config.tools = [\n",
    "    Function(\n",
    "        name=tool.name,\n",
    "        description=tool.description,\n",
    "        parameters=tool.input_json_schema,\n",
    "    ) for tool in tools\n",
    "]\n",
    "\n",
    "def terminate_function(history:List[Message]):\n",
    "    if history[-1].role == 'tool':\n",
    "        if history[-1].content.tool_response.name == 'geodesic':\n",
    "            return True\n",
    "    return False\n",
    "    \n",
    "agent = Agent(\n",
    "    name='agent',\n",
    "    generation_config=generation_config,\n",
    "    system_prompt='Use the functions you have been provided to solve the problem. Reply TERMINATE to end the conversation when the problem is solved.',\n",
    "    function_map={\n",
    "        tool.name: tool.run for tool in tools\n",
    "    },\n",
    "    termination_function=terminate_function,\n",
    "    reduce_function=lambda x: x[-1], # placeholder for implmeneting self consistency style algorithms \n",
    ")"
   ]
  },
  {
   "cell_type": "code",
   "execution_count": 15,
   "id": "b3ff7ece",
   "metadata": {},
   "outputs": [],
   "source": [
    "from xentropy.utils import add_to_messages\n",
    "\n",
    "messages = [\n",
    "    Message(\n",
    "        role='user',\n",
    "        content=Content(\n",
    "            text='What is the distance between Gare Port La Goulette - Sud in Tunisia and Porto di Napoli in Italy?',\n",
    "        ),\n",
    "    )\n",
    "]"
   ]
  },
  {
   "cell_type": "code",
   "execution_count": null,
   "id": "f98463ab",
   "metadata": {},
   "outputs": [],
   "source": []
  },
  {
   "cell_type": "code",
   "execution_count": 9,
   "id": "78a9591d",
   "metadata": {},
   "outputs": [
    {
     "name": "stdout",
     "output_type": "stream",
     "text": [
      "[{'role': 'user', 'content': 'What is the distance between Gare Port La Goulette - Sud in Tunisia and Porto di Napoli in Italy?'}]\n",
      "role='assistant' content=Content(text=None, files=None, urls=None, tool_calls=[ToolCall(id='call_vAvcEPOdiE0c82J56dbUXL2E', type='function', function_call=FunctionCall(name='xentropy--geocoding', arguments='{\"address\": \"Gare Port La Goulette - Sud, Tunisia\"}')), ToolCall(id='call_oHJ1jKYGf6IAcIa3ZV9zESgS', type='function', function_call=FunctionCall(name='xentropy--geocoding', arguments='{\"address\": \"Porto di Napoli, Italy\"}'))], tool_response=None) name='agent'\n"
     ]
    }
   ],
   "source": [
    "new_message = agent.generate_response(\n",
    "    messages=messages,\n",
    ")\n",
    "print(new_message)\n",
    "messages = add_to_messages(messages, new_message)"
   ]
  },
  {
   "cell_type": "code",
   "execution_count": 10,
   "id": "f96d63c4",
   "metadata": {},
   "outputs": [
    {
     "name": "stdout",
     "output_type": "stream",
     "text": [
      "[Message(role='tool', content=Content(text=None, files=None, urls=None, tool_calls=None, tool_response=ToolResponse(id='call_vAvcEPOdiE0c82J56dbUXL2E', content='{\"latitude\":36.8051055,\"longitude\":10.2880257}')), name='xentropy--geocoding'), Message(role='tool', content=Content(text=None, files=None, urls=None, tool_calls=None, tool_response=ToolResponse(id='call_oHJ1jKYGf6IAcIa3ZV9zESgS', content='{\"latitude\":40.8333333,\"longitude\":14.2666667}')), name='xentropy--geocoding')]\n"
     ]
    }
   ],
   "source": [
    "new_message = agent.generate_response(\n",
    "    messages=messages,\n",
    ")\n",
    "print(new_message)\n",
    "messages = add_to_messages(messages, new_message)"
   ]
  },
  {
   "cell_type": "code",
   "execution_count": 11,
   "id": "e5e5bc11",
   "metadata": {},
   "outputs": [
    {
     "name": "stdout",
     "output_type": "stream",
     "text": [
      "[{'role': 'user', 'content': 'What is the distance between Gare Port La Goulette - Sud in Tunisia and Porto di Napoli in Italy?'}, {'role': 'assistant', 'content': '', 'tool_calls': [{'id': 'call_vAvcEPOdiE0c82J56dbUXL2E', 'type': 'function', 'function': {'name': 'xentropy--geocoding', 'arguments': '{\"address\": \"Gare Port La Goulette - Sud, Tunisia\"}'}}, {'id': 'call_oHJ1jKYGf6IAcIa3ZV9zESgS', 'type': 'function', 'function': {'name': 'xentropy--geocoding', 'arguments': '{\"address\": \"Porto di Napoli, Italy\"}'}}], 'name': 'agent'}, {'role': 'tool', 'content': '{\"latitude\":36.8051055,\"longitude\":10.2880257}', 'tool_call_id': 'call_vAvcEPOdiE0c82J56dbUXL2E'}, {'role': 'tool', 'content': '{\"latitude\":40.8333333,\"longitude\":14.2666667}', 'tool_call_id': 'call_oHJ1jKYGf6IAcIa3ZV9zESgS'}]\n"
     ]
    },
    {
     "data": {
      "text/html": [
       "<pre style=\"white-space:pre;overflow-x:auto;line-height:normal;font-family:Menlo,'DejaVu Sans Mono',consolas,'Courier New',monospace\"><span style=\"color: #800080; text-decoration-color: #800080; font-weight: bold\">Message</span><span style=\"font-weight: bold\">(</span>\n",
       "    <span style=\"color: #808000; text-decoration-color: #808000\">role</span>=<span style=\"color: #008000; text-decoration-color: #008000\">'assistant'</span>,\n",
       "    <span style=\"color: #808000; text-decoration-color: #808000\">content</span>=<span style=\"color: #800080; text-decoration-color: #800080; font-weight: bold\">Content</span><span style=\"font-weight: bold\">(</span>\n",
       "        <span style=\"color: #808000; text-decoration-color: #808000\">text</span>=<span style=\"color: #800080; text-decoration-color: #800080; font-style: italic\">None</span>,\n",
       "        <span style=\"color: #808000; text-decoration-color: #808000\">files</span>=<span style=\"color: #800080; text-decoration-color: #800080; font-style: italic\">None</span>,\n",
       "        <span style=\"color: #808000; text-decoration-color: #808000\">urls</span>=<span style=\"color: #800080; text-decoration-color: #800080; font-style: italic\">None</span>,\n",
       "        <span style=\"color: #808000; text-decoration-color: #808000\">tool_calls</span>=<span style=\"font-weight: bold\">[</span>\n",
       "            <span style=\"color: #800080; text-decoration-color: #800080; font-weight: bold\">ToolCall</span><span style=\"font-weight: bold\">(</span>\n",
       "                <span style=\"color: #808000; text-decoration-color: #808000\">id</span>=<span style=\"color: #008000; text-decoration-color: #008000\">'call_57cazNckU2LKsZT1YoTMorUC'</span>,\n",
       "                <span style=\"color: #808000; text-decoration-color: #808000\">type</span>=<span style=\"color: #008000; text-decoration-color: #008000\">'function'</span>,\n",
       "                <span style=\"color: #808000; text-decoration-color: #808000\">function_call</span>=<span style=\"color: #800080; text-decoration-color: #800080; font-weight: bold\">FunctionCall</span><span style=\"font-weight: bold\">(</span>\n",
       "                    <span style=\"color: #808000; text-decoration-color: #808000\">name</span>=<span style=\"color: #008000; text-decoration-color: #008000\">'xentropy--geodesic'</span>,\n",
       "                    <span style=\"color: #808000; text-decoration-color: #808000\">arguments</span>=<span style=\"color: #008000; text-decoration-color: #008000\">'{\"coordinate_0\":{\"latitude\":36.8051055,\"longitude\":10.2880257},\"coordinate_1\":{\"lati</span>\n",
       "<span style=\"color: #008000; text-decoration-color: #008000\">tude\":40.8333333,\"longitude\":14.2666667}}'</span>\n",
       "                <span style=\"font-weight: bold\">)</span>\n",
       "            <span style=\"font-weight: bold\">)</span>\n",
       "        <span style=\"font-weight: bold\">]</span>,\n",
       "        <span style=\"color: #808000; text-decoration-color: #808000\">tool_response</span>=<span style=\"color: #800080; text-decoration-color: #800080; font-style: italic\">None</span>\n",
       "    <span style=\"font-weight: bold\">)</span>,\n",
       "    <span style=\"color: #808000; text-decoration-color: #808000\">name</span>=<span style=\"color: #008000; text-decoration-color: #008000\">'agent'</span>\n",
       "<span style=\"font-weight: bold\">)</span>\n",
       "</pre>\n"
      ],
      "text/plain": [
       "\u001b[1;35mMessage\u001b[0m\u001b[1m(\u001b[0m\n",
       "    \u001b[33mrole\u001b[0m=\u001b[32m'assistant'\u001b[0m,\n",
       "    \u001b[33mcontent\u001b[0m=\u001b[1;35mContent\u001b[0m\u001b[1m(\u001b[0m\n",
       "        \u001b[33mtext\u001b[0m=\u001b[3;35mNone\u001b[0m,\n",
       "        \u001b[33mfiles\u001b[0m=\u001b[3;35mNone\u001b[0m,\n",
       "        \u001b[33murls\u001b[0m=\u001b[3;35mNone\u001b[0m,\n",
       "        \u001b[33mtool_calls\u001b[0m=\u001b[1m[\u001b[0m\n",
       "            \u001b[1;35mToolCall\u001b[0m\u001b[1m(\u001b[0m\n",
       "                \u001b[33mid\u001b[0m=\u001b[32m'call_57cazNckU2LKsZT1YoTMorUC'\u001b[0m,\n",
       "                \u001b[33mtype\u001b[0m=\u001b[32m'function'\u001b[0m,\n",
       "                \u001b[33mfunction_call\u001b[0m=\u001b[1;35mFunctionCall\u001b[0m\u001b[1m(\u001b[0m\n",
       "                    \u001b[33mname\u001b[0m=\u001b[32m'xentropy--geodesic'\u001b[0m,\n",
       "                    \u001b[33marguments\u001b[0m=\u001b[32m'\u001b[0m\u001b[32m{\u001b[0m\u001b[32m\"coordinate_0\":\u001b[0m\u001b[32m{\u001b[0m\u001b[32m\"latitude\":36.8051055,\"longitude\":10.2880257\u001b[0m\u001b[32m}\u001b[0m\u001b[32m,\"coordinate_1\":\u001b[0m\u001b[32m{\u001b[0m\u001b[32m\"lati\u001b[0m\n",
       "\u001b[32mtude\":40.8333333,\"longitude\":14.2666667\u001b[0m\u001b[32m}\u001b[0m\u001b[32m}\u001b[0m\u001b[32m'\u001b[0m\n",
       "                \u001b[1m)\u001b[0m\n",
       "            \u001b[1m)\u001b[0m\n",
       "        \u001b[1m]\u001b[0m,\n",
       "        \u001b[33mtool_response\u001b[0m=\u001b[3;35mNone\u001b[0m\n",
       "    \u001b[1m)\u001b[0m,\n",
       "    \u001b[33mname\u001b[0m=\u001b[32m'agent'\u001b[0m\n",
       "\u001b[1m)\u001b[0m\n"
      ]
     },
     "metadata": {},
     "output_type": "display_data"
    }
   ],
   "source": [
    "new_message = agent.generate_response(\n",
    "    messages=messages,\n",
    ")\n",
    "rich_print(new_message)\n",
    "messages = add_to_messages(messages, new_message)"
   ]
  },
  {
   "cell_type": "code",
   "execution_count": 12,
   "id": "dcb6275c",
   "metadata": {},
   "outputs": [
    {
     "data": {
      "text/html": [
       "<pre style=\"white-space:pre;overflow-x:auto;line-height:normal;font-family:Menlo,'DejaVu Sans Mono',consolas,'Courier New',monospace\"><span style=\"font-weight: bold\">[</span>\n",
       "    <span style=\"color: #800080; text-decoration-color: #800080; font-weight: bold\">Message</span><span style=\"font-weight: bold\">(</span>\n",
       "        <span style=\"color: #808000; text-decoration-color: #808000\">role</span>=<span style=\"color: #008000; text-decoration-color: #008000\">'tool'</span>,\n",
       "        <span style=\"color: #808000; text-decoration-color: #808000\">content</span>=<span style=\"color: #800080; text-decoration-color: #800080; font-weight: bold\">Content</span><span style=\"font-weight: bold\">(</span>\n",
       "            <span style=\"color: #808000; text-decoration-color: #808000\">text</span>=<span style=\"color: #800080; text-decoration-color: #800080; font-style: italic\">None</span>,\n",
       "            <span style=\"color: #808000; text-decoration-color: #808000\">files</span>=<span style=\"color: #800080; text-decoration-color: #800080; font-style: italic\">None</span>,\n",
       "            <span style=\"color: #808000; text-decoration-color: #808000\">urls</span>=<span style=\"color: #800080; text-decoration-color: #800080; font-style: italic\">None</span>,\n",
       "            <span style=\"color: #808000; text-decoration-color: #808000\">tool_calls</span>=<span style=\"color: #800080; text-decoration-color: #800080; font-style: italic\">None</span>,\n",
       "            <span style=\"color: #808000; text-decoration-color: #808000\">tool_response</span>=<span style=\"color: #800080; text-decoration-color: #800080; font-weight: bold\">ToolResponse</span><span style=\"font-weight: bold\">(</span>\n",
       "                <span style=\"color: #808000; text-decoration-color: #808000\">id</span>=<span style=\"color: #008000; text-decoration-color: #008000\">'call_57cazNckU2LKsZT1YoTMorUC'</span>,\n",
       "                <span style=\"color: #808000; text-decoration-color: #808000\">content</span>=<span style=\"color: #008000; text-decoration-color: #008000\">'{\"geodesic_distance\":564.9774980514812,\"unit\":\"km\"}'</span>\n",
       "            <span style=\"font-weight: bold\">)</span>\n",
       "        <span style=\"font-weight: bold\">)</span>,\n",
       "        <span style=\"color: #808000; text-decoration-color: #808000\">name</span>=<span style=\"color: #008000; text-decoration-color: #008000\">'xentropy--geodesic'</span>\n",
       "    <span style=\"font-weight: bold\">)</span>\n",
       "<span style=\"font-weight: bold\">]</span>\n",
       "</pre>\n"
      ],
      "text/plain": [
       "\u001b[1m[\u001b[0m\n",
       "    \u001b[1;35mMessage\u001b[0m\u001b[1m(\u001b[0m\n",
       "        \u001b[33mrole\u001b[0m=\u001b[32m'tool'\u001b[0m,\n",
       "        \u001b[33mcontent\u001b[0m=\u001b[1;35mContent\u001b[0m\u001b[1m(\u001b[0m\n",
       "            \u001b[33mtext\u001b[0m=\u001b[3;35mNone\u001b[0m,\n",
       "            \u001b[33mfiles\u001b[0m=\u001b[3;35mNone\u001b[0m,\n",
       "            \u001b[33murls\u001b[0m=\u001b[3;35mNone\u001b[0m,\n",
       "            \u001b[33mtool_calls\u001b[0m=\u001b[3;35mNone\u001b[0m,\n",
       "            \u001b[33mtool_response\u001b[0m=\u001b[1;35mToolResponse\u001b[0m\u001b[1m(\u001b[0m\n",
       "                \u001b[33mid\u001b[0m=\u001b[32m'call_57cazNckU2LKsZT1YoTMorUC'\u001b[0m,\n",
       "                \u001b[33mcontent\u001b[0m=\u001b[32m'\u001b[0m\u001b[32m{\u001b[0m\u001b[32m\"geodesic_distance\":564.9774980514812,\"unit\":\"km\"\u001b[0m\u001b[32m}\u001b[0m\u001b[32m'\u001b[0m\n",
       "            \u001b[1m)\u001b[0m\n",
       "        \u001b[1m)\u001b[0m,\n",
       "        \u001b[33mname\u001b[0m=\u001b[32m'xentropy--geodesic'\u001b[0m\n",
       "    \u001b[1m)\u001b[0m\n",
       "\u001b[1m]\u001b[0m\n"
      ]
     },
     "metadata": {},
     "output_type": "display_data"
    }
   ],
   "source": [
    "new_message = agent.generate_response(\n",
    "    messages=messages,\n",
    ")\n",
    "rich_print(new_message)\n",
    "messages = add_to_messages(messages, new_message)"
   ]
  },
  {
   "cell_type": "code",
   "execution_count": 13,
   "id": "a001e7a4",
   "metadata": {},
   "outputs": [
    {
     "name": "stdout",
     "output_type": "stream",
     "text": [
      "[{'role': 'user', 'content': 'What is the distance between Gare Port La Goulette - Sud in Tunisia and Porto di Napoli in Italy?'}, {'role': 'assistant', 'content': '', 'tool_calls': [{'id': 'call_vAvcEPOdiE0c82J56dbUXL2E', 'type': 'function', 'function': {'name': 'xentropy--geocoding', 'arguments': '{\"address\": \"Gare Port La Goulette - Sud, Tunisia\"}'}}, {'id': 'call_oHJ1jKYGf6IAcIa3ZV9zESgS', 'type': 'function', 'function': {'name': 'xentropy--geocoding', 'arguments': '{\"address\": \"Porto di Napoli, Italy\"}'}}], 'name': 'agent'}, {'role': 'tool', 'content': '{\"latitude\":36.8051055,\"longitude\":10.2880257}', 'tool_call_id': 'call_vAvcEPOdiE0c82J56dbUXL2E'}, {'role': 'tool', 'content': '{\"latitude\":40.8333333,\"longitude\":14.2666667}', 'tool_call_id': 'call_oHJ1jKYGf6IAcIa3ZV9zESgS'}, {'role': 'assistant', 'content': '', 'tool_calls': [{'id': 'call_57cazNckU2LKsZT1YoTMorUC', 'type': 'function', 'function': {'name': 'xentropy--geodesic', 'arguments': '{\"coordinate_0\":{\"latitude\":36.8051055,\"longitude\":10.2880257},\"coordinate_1\":{\"latitude\":40.8333333,\"longitude\":14.2666667}}'}}], 'name': 'agent'}, {'role': 'tool', 'content': '{\"geodesic_distance\":564.9774980514812,\"unit\":\"km\"}', 'tool_call_id': 'call_57cazNckU2LKsZT1YoTMorUC'}]\n"
     ]
    },
    {
     "data": {
      "text/html": [
       "<pre style=\"white-space:pre;overflow-x:auto;line-height:normal;font-family:Menlo,'DejaVu Sans Mono',consolas,'Courier New',monospace\"><span style=\"color: #800080; text-decoration-color: #800080; font-weight: bold\">Message</span><span style=\"font-weight: bold\">(</span>\n",
       "    <span style=\"color: #808000; text-decoration-color: #808000\">role</span>=<span style=\"color: #008000; text-decoration-color: #008000\">'assistant'</span>,\n",
       "    <span style=\"color: #808000; text-decoration-color: #808000\">content</span>=<span style=\"color: #800080; text-decoration-color: #800080; font-weight: bold\">Content</span><span style=\"font-weight: bold\">(</span>\n",
       "        <span style=\"color: #808000; text-decoration-color: #808000\">text</span>=<span style=\"color: #008000; text-decoration-color: #008000\">'The distance between Gare Port La Goulette - Sud in Tunisia and Porto di Napoli in Italy is </span>\n",
       "<span style=\"color: #008000; text-decoration-color: #008000\">approximately 564.98 kilometers.'</span>,\n",
       "        <span style=\"color: #808000; text-decoration-color: #808000\">files</span>=<span style=\"color: #800080; text-decoration-color: #800080; font-style: italic\">None</span>,\n",
       "        <span style=\"color: #808000; text-decoration-color: #808000\">urls</span>=<span style=\"color: #800080; text-decoration-color: #800080; font-style: italic\">None</span>,\n",
       "        <span style=\"color: #808000; text-decoration-color: #808000\">tool_calls</span>=<span style=\"color: #800080; text-decoration-color: #800080; font-style: italic\">None</span>,\n",
       "        <span style=\"color: #808000; text-decoration-color: #808000\">tool_response</span>=<span style=\"color: #800080; text-decoration-color: #800080; font-style: italic\">None</span>\n",
       "    <span style=\"font-weight: bold\">)</span>,\n",
       "    <span style=\"color: #808000; text-decoration-color: #808000\">name</span>=<span style=\"color: #008000; text-decoration-color: #008000\">'agent'</span>\n",
       "<span style=\"font-weight: bold\">)</span>\n",
       "</pre>\n"
      ],
      "text/plain": [
       "\u001b[1;35mMessage\u001b[0m\u001b[1m(\u001b[0m\n",
       "    \u001b[33mrole\u001b[0m=\u001b[32m'assistant'\u001b[0m,\n",
       "    \u001b[33mcontent\u001b[0m=\u001b[1;35mContent\u001b[0m\u001b[1m(\u001b[0m\n",
       "        \u001b[33mtext\u001b[0m=\u001b[32m'The distance between Gare Port La Goulette - Sud in Tunisia and Porto di Napoli in Italy is \u001b[0m\n",
       "\u001b[32mapproximately 564.98 kilometers.'\u001b[0m,\n",
       "        \u001b[33mfiles\u001b[0m=\u001b[3;35mNone\u001b[0m,\n",
       "        \u001b[33murls\u001b[0m=\u001b[3;35mNone\u001b[0m,\n",
       "        \u001b[33mtool_calls\u001b[0m=\u001b[3;35mNone\u001b[0m,\n",
       "        \u001b[33mtool_response\u001b[0m=\u001b[3;35mNone\u001b[0m\n",
       "    \u001b[1m)\u001b[0m,\n",
       "    \u001b[33mname\u001b[0m=\u001b[32m'agent'\u001b[0m\n",
       "\u001b[1m)\u001b[0m\n"
      ]
     },
     "metadata": {},
     "output_type": "display_data"
    }
   ],
   "source": [
    "new_message = agent.generate_response(\n",
    "    messages=messages,\n",
    ")\n",
    "rich_print(new_message)\n",
    "messages = add_to_messages(messages, new_message)"
   ]
  },
  {
   "cell_type": "code",
   "execution_count": 14,
   "id": "364c43e8",
   "metadata": {},
   "outputs": [
    {
     "name": "stdout",
     "output_type": "stream",
     "text": [
      "[{'role': 'user', 'content': 'What is the distance between Gare Port La Goulette - Sud in Tunisia and Porto di Napoli in Italy?'}, {'role': 'assistant', 'content': '', 'tool_calls': [{'id': 'call_vAvcEPOdiE0c82J56dbUXL2E', 'type': 'function', 'function': {'name': 'xentropy--geocoding', 'arguments': '{\"address\": \"Gare Port La Goulette - Sud, Tunisia\"}'}}, {'id': 'call_oHJ1jKYGf6IAcIa3ZV9zESgS', 'type': 'function', 'function': {'name': 'xentropy--geocoding', 'arguments': '{\"address\": \"Porto di Napoli, Italy\"}'}}], 'name': 'agent'}, {'role': 'tool', 'content': '{\"latitude\":36.8051055,\"longitude\":10.2880257}', 'tool_call_id': 'call_vAvcEPOdiE0c82J56dbUXL2E'}, {'role': 'tool', 'content': '{\"latitude\":40.8333333,\"longitude\":14.2666667}', 'tool_call_id': 'call_oHJ1jKYGf6IAcIa3ZV9zESgS'}, {'role': 'assistant', 'content': '', 'tool_calls': [{'id': 'call_57cazNckU2LKsZT1YoTMorUC', 'type': 'function', 'function': {'name': 'xentropy--geodesic', 'arguments': '{\"coordinate_0\":{\"latitude\":36.8051055,\"longitude\":10.2880257},\"coordinate_1\":{\"latitude\":40.8333333,\"longitude\":14.2666667}}'}}], 'name': 'agent'}, {'role': 'tool', 'content': '{\"geodesic_distance\":564.9774980514812,\"unit\":\"km\"}', 'tool_call_id': 'call_57cazNckU2LKsZT1YoTMorUC'}, {'role': 'assistant', 'content': 'The distance between Gare Port La Goulette - Sud in Tunisia and Porto di Napoli in Italy is approximately 564.98 kilometers.', 'name': 'agent'}]\n"
     ]
    },
    {
     "data": {
      "text/html": [
       "<pre style=\"white-space:pre;overflow-x:auto;line-height:normal;font-family:Menlo,'DejaVu Sans Mono',consolas,'Courier New',monospace\"><span style=\"color: #800080; text-decoration-color: #800080; font-weight: bold\">Message</span><span style=\"font-weight: bold\">(</span>\n",
       "    <span style=\"color: #808000; text-decoration-color: #808000\">role</span>=<span style=\"color: #008000; text-decoration-color: #008000\">'assistant'</span>,\n",
       "    <span style=\"color: #808000; text-decoration-color: #808000\">content</span>=<span style=\"color: #800080; text-decoration-color: #800080; font-weight: bold\">Content</span><span style=\"font-weight: bold\">(</span>\n",
       "        <span style=\"color: #808000; text-decoration-color: #808000\">text</span>=<span style=\"color: #008000; text-decoration-color: #008000\">'The distance between Gare Port La Goulette - Sud in Tunisia and Porto di Napoli in Italy is </span>\n",
       "<span style=\"color: #008000; text-decoration-color: #008000\">approximately 564.98 kilometers.'</span>,\n",
       "        <span style=\"color: #808000; text-decoration-color: #808000\">files</span>=<span style=\"color: #800080; text-decoration-color: #800080; font-style: italic\">None</span>,\n",
       "        <span style=\"color: #808000; text-decoration-color: #808000\">urls</span>=<span style=\"color: #800080; text-decoration-color: #800080; font-style: italic\">None</span>,\n",
       "        <span style=\"color: #808000; text-decoration-color: #808000\">tool_calls</span>=<span style=\"color: #800080; text-decoration-color: #800080; font-style: italic\">None</span>,\n",
       "        <span style=\"color: #808000; text-decoration-color: #808000\">tool_response</span>=<span style=\"color: #800080; text-decoration-color: #800080; font-style: italic\">None</span>\n",
       "    <span style=\"font-weight: bold\">)</span>,\n",
       "    <span style=\"color: #808000; text-decoration-color: #808000\">name</span>=<span style=\"color: #008000; text-decoration-color: #008000\">'agent'</span>\n",
       "<span style=\"font-weight: bold\">)</span>\n",
       "</pre>\n"
      ],
      "text/plain": [
       "\u001b[1;35mMessage\u001b[0m\u001b[1m(\u001b[0m\n",
       "    \u001b[33mrole\u001b[0m=\u001b[32m'assistant'\u001b[0m,\n",
       "    \u001b[33mcontent\u001b[0m=\u001b[1;35mContent\u001b[0m\u001b[1m(\u001b[0m\n",
       "        \u001b[33mtext\u001b[0m=\u001b[32m'The distance between Gare Port La Goulette - Sud in Tunisia and Porto di Napoli in Italy is \u001b[0m\n",
       "\u001b[32mapproximately 564.98 kilometers.'\u001b[0m,\n",
       "        \u001b[33mfiles\u001b[0m=\u001b[3;35mNone\u001b[0m,\n",
       "        \u001b[33murls\u001b[0m=\u001b[3;35mNone\u001b[0m,\n",
       "        \u001b[33mtool_calls\u001b[0m=\u001b[3;35mNone\u001b[0m,\n",
       "        \u001b[33mtool_response\u001b[0m=\u001b[3;35mNone\u001b[0m\n",
       "    \u001b[1m)\u001b[0m,\n",
       "    \u001b[33mname\u001b[0m=\u001b[32m'agent'\u001b[0m\n",
       "\u001b[1m)\u001b[0m\n"
      ]
     },
     "metadata": {},
     "output_type": "display_data"
    }
   ],
   "source": [
    "new_message = agent.generate_response(\n",
    "    messages=messages,\n",
    ")\n",
    "rich_print(new_message)\n",
    "messages = add_to_messages(messages, new_message)"
   ]
  },
  {
   "cell_type": "markdown",
   "id": "29a74ef2",
   "metadata": {},
   "source": [
    "### A* Chat"
   ]
  },
  {
   "cell_type": "markdown",
   "id": "92a34186",
   "metadata": {},
   "source": [
    "## Managing your account\n",
    "\n",
    "The `Client` class has a few other utilities to access XEntropy platform."
   ]
  },
  {
   "cell_type": "code",
   "execution_count": 164,
   "id": "5244d591",
   "metadata": {},
   "outputs": [
    {
     "data": {
      "text/plain": [
       "{'balance': 0,\n",
       " 'xentropy--tool_search': 21,\n",
       " 'payout': 0,\n",
       " 'xentropy--geocoding': 24,\n",
       " 'xentropy--geodesic': 3,\n",
       " 'email': 'chankahei360@gmail.com',\n",
       " 'fmtool--geocoding': 3,\n",
       " 'xentropy--etf_search': 59}"
      ]
     },
     "execution_count": 164,
     "metadata": {},
     "output_type": "execute_result"
    }
   ],
   "source": [
    "client = Client(api_key=api_key)\n",
    "\n",
    "# See your account summary and usage data on each tool\n",
    "client.summary()"
   ]
  },
  {
   "cell_type": "code",
   "execution_count": null,
   "id": "3e634354",
   "metadata": {},
   "outputs": [],
   "source": [
    "# XEntropy credit can be used to pay for tool usage, if the tool is not free.\n",
    "# You can top up your XEntropy credit by paying with credit card by navigating to the payment link.\n",
    "print(client.summary().get('payment_link'))"
   ]
  },
  {
   "cell_type": "code",
   "execution_count": null,
   "id": "2561b2ad",
   "metadata": {},
   "outputs": [],
   "source": [
    "# Alternatively you can also top up your XEntropy credit by paying with cryptocurrency.\n",
    "# We accept USDT, USDC, and DAI on the ethereum blockchain.\n",
    "# First, register your address.\n",
    "from eth_account import Account\n",
    "account = Account.from_key('YOUR_PRIVATE_KEY')\n",
    "# you can also use mnemonic phrase\n",
    "# account = Account.from_mnemonic('YOUR_MNEMONIC_PHRASE')\n",
    "response = client.register_ethereum_address(account=account)\n",
    "print(response.json())"
   ]
  },
  {
   "cell_type": "code",
   "execution_count": null,
   "id": "6f6d83ec",
   "metadata": {},
   "outputs": [],
   "source": [
    "# Sometimes you'd like to modify your published tool\n",
    "# Example 1: Making the tool public to XEntropy platform user\n",
    "client.modify_tool(\n",
    "    tool=\"YOUR_TOOL_NAME\",\n",
    "    key=\"public\",\n",
    "    value=True,\n",
    ")"
   ]
  },
  {
   "cell_type": "code",
   "execution_count": null,
   "id": "98d08e51",
   "metadata": {},
   "outputs": [],
   "source": [
    "# Example 2: Tool description acts as a prompt to LLM, and hence it can be optimised through prompt engineering.\n",
    "# You may want to modify it for improved performance.\n",
    "# Check out https://github.com/microsoft/LMOps/tree/main/prompt_optimization for inspiration.\n",
    "client.modify_tool(\n",
    "    tool=\"YOUR_TOOL_NAME\",\n",
    "    key=\"description\",\n",
    "    value=\"YOU_NEW_DESCRIPTION\",\n",
    ")"
   ]
  },
  {
   "cell_type": "code",
   "execution_count": null,
   "id": "ec90d792",
   "metadata": {},
   "outputs": [],
   "source": [
    "# You can take your tool away anytime.\n",
    "client.delete_tool(\n",
    "    tool=\"YOUR_TOOL_NAME\"\n",
    ")"
   ]
  },
  {
   "cell_type": "markdown",
   "id": "0996095c",
   "metadata": {},
   "source": [
    "XEntropy pays 80% of the tool-use revenue to tool developers's `payout` wallet. There is also a 10% bonus paid to the `balance` wallet to incentivize tool developers for consuming other tools on XEntropy.\n",
    "\n",
    "At this moment we only support withdrawl on the ethereum network for selected stable coins. More withdrawal method is on the way."
   ]
  },
  {
   "cell_type": "code",
   "execution_count": null,
   "id": "b30b09a1",
   "metadata": {},
   "outputs": [],
   "source": [
    "# To withdraw from your payout wallet\n",
    "client.stable_coin_payout(\n",
    "    amount=100000,  # amount to withdraw denominated in XEntropy Credit. i.e. 100000 XEntropy Credit = 1 USD\n",
    "    address=\"YOUR_ETHEREUM_ADDRESS\", # your ethereum network address\n",
    "    stable_coin='USDT' # choose between ['USDT', 'USDC', 'DAI']\n",
    ")"
   ]
  }
 ],
 "metadata": {
  "kernelspec": {
   "display_name": "Python 3.9.6 64-bit",
   "language": "python",
   "name": "python3"
  },
  "language_info": {
   "codemirror_mode": {
    "name": "ipython",
    "version": 3
   },
   "file_extension": ".py",
   "mimetype": "text/x-python",
   "name": "python",
   "nbconvert_exporter": "python",
   "pygments_lexer": "ipython3",
   "version": "3.9.6"
  },
  "vscode": {
   "interpreter": {
    "hash": "31f2aee4e71d21fbe5cf8b01ff0e069b9275f58929596ceb00d14d90e3e16cd6"
   }
  }
 },
 "nbformat": 4,
 "nbformat_minor": 5
}

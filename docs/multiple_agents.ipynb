{
 "cells": [
  {
   "cell_type": "markdown",
   "metadata": {},
   "source": [
    "# Group Chat\n",
    "\n",
    "As your application grows bigger, you may want to create more than one agent, each with a different set of tools and purpose to handle different part of the problem. One common pattern of utilizing multiple agents is to create a group chat between a producer and reviewer, where the two iteratively improve the generated answer."
   ]
  },
  {
   "cell_type": "markdown",
   "metadata": {},
   "source": [
    "## Group Chat to write test problems and solutions according to Bloom’s Taxonomy of Educational Objectives\n",
    "We will use a group chat to orchestrate a conversation between a two agents:\n",
    "- test_writer: writes a set of questions and marking scheme about a subject\n",
    "- reviewer: apply [Bloom’s Taxonomy of Educational Objectives](https://en.wikipedia.org/wiki/Bloom%27s_taxonomy#:~:text=Bloom's%20taxonomy%20is%20a%20set,cognitive%2C%20affective%20and%20psychomotor%20domains.) to evaluate the quality of the test problems"
   ]
  },
  {
   "cell_type": "code",
   "execution_count": 1,
   "metadata": {},
   "outputs": [],
   "source": [
    "from agentx.agent import Agent\n",
    "from agentx.schema import GenerationConfig, Message, Content\n",
    "from agentx.groupchat import astar_chat, reconstruct_path\n",
    "from agentx.tool import Tool\n",
    "from pydantic import BaseModel, Field\n",
    "from typing import Dict, List, Literal\n",
    "from functools import partial\n",
    "from dotenv import load_dotenv\n",
    "from rich import print as rich_print\n",
    "import os\n",
    "\n",
    "load_dotenv()\n",
    "\n",
    "generation_config = GenerationConfig(\n",
    "    api_type='azure',\n",
    "    api_key=os.environ.get('AZURE_OPENAI_KEY'),\n",
    "    base_url=os.environ.get('AZURE_OPENAI_ENDPOINT'),\n",
    "    azure_deployment='gpt-35',\n",
    ")\n",
    "\n",
    "# this agent will write the question / answer pair\n",
    "test_writer = Agent(\n",
    "    name='test_writer',\n",
    "    generation_config=generation_config,\n",
    "    system_prompt='''You are an experience teacher. According to the user request and reviewer feedback, write a test question / answer pair.''',\n",
    ")\n"
   ]
  },
  {
   "cell_type": "code",
   "execution_count": 2,
   "metadata": {},
   "outputs": [
    {
     "data": {
      "text/html": [
       "<pre style=\"white-space:pre;overflow-x:auto;line-height:normal;font-family:Menlo,'DejaVu Sans Mono',consolas,'Courier New',monospace\">Question:\n",
       "A committee of <span style=\"color: #008080; text-decoration-color: #008080; font-weight: bold\">5</span> people is randomly selected from a group of <span style=\"color: #008080; text-decoration-color: #008080; font-weight: bold\">10</span> men and <span style=\"color: #008080; text-decoration-color: #008080; font-weight: bold\">5</span> women. What is the probability that the \n",
       "committee has at least <span style=\"color: #008080; text-decoration-color: #008080; font-weight: bold\">3</span> men on it?\n",
       "\n",
       "A<span style=\"font-weight: bold\">)</span> <span style=\"color: #008080; text-decoration-color: #008080; font-weight: bold\">0.50</span>\n",
       "B<span style=\"font-weight: bold\">)</span> <span style=\"color: #008080; text-decoration-color: #008080; font-weight: bold\">0.65</span>\n",
       "C<span style=\"font-weight: bold\">)</span> <span style=\"color: #008080; text-decoration-color: #008080; font-weight: bold\">0.70</span>\n",
       "D<span style=\"font-weight: bold\">)</span> <span style=\"color: #008080; text-decoration-color: #008080; font-weight: bold\">0.80</span>\n",
       "\n",
       "Reasoning:\n",
       "To solve this problem, we can use the concept of conditional probability. We first find the total number of ways to\n",
       "choose a committee of <span style=\"color: #008080; text-decoration-color: #008080; font-weight: bold\">5</span> people from the group of <span style=\"color: #008080; text-decoration-color: #008080; font-weight: bold\">15</span> <span style=\"font-weight: bold\">(</span><span style=\"color: #008080; text-decoration-color: #008080; font-weight: bold\">10</span> men and <span style=\"color: #008080; text-decoration-color: #008080; font-weight: bold\">5</span> women<span style=\"font-weight: bold\">)</span>, which is given by $<span style=\"font-weight: bold\">{</span><span style=\"color: #008080; text-decoration-color: #008080; font-weight: bold\">15</span> \\choose <span style=\"color: #008080; text-decoration-color: #008080; font-weight: bold\">5</span><span style=\"font-weight: bold\">}</span>$. Then,\n",
       "we find the number of ways to choose a committee with at least <span style=\"color: #008080; text-decoration-color: #008080; font-weight: bold\">3</span> men, which includes the following scenarios:\n",
       "<span style=\"color: #008080; text-decoration-color: #008080; font-weight: bold\">1</span>. <span style=\"color: #008080; text-decoration-color: #008080; font-weight: bold\">3</span> men and <span style=\"color: #008080; text-decoration-color: #008080; font-weight: bold\">2</span> women\n",
       "<span style=\"color: #008080; text-decoration-color: #008080; font-weight: bold\">2</span>. <span style=\"color: #008080; text-decoration-color: #008080; font-weight: bold\">4</span> men and <span style=\"color: #008080; text-decoration-color: #008080; font-weight: bold\">1</span> woman\n",
       "<span style=\"color: #008080; text-decoration-color: #008080; font-weight: bold\">3</span>. <span style=\"color: #008080; text-decoration-color: #008080; font-weight: bold\">5</span> men \n",
       "We calculate the probability for each scenario and sum the probabilities to find the final answer.\n",
       "\n",
       "Correct Answer:\n",
       "C<span style=\"font-weight: bold\">)</span> <span style=\"color: #008080; text-decoration-color: #008080; font-weight: bold\">0.70</span>\n",
       "</pre>\n"
      ],
      "text/plain": [
       "Question:\n",
       "A committee of \u001b[1;36m5\u001b[0m people is randomly selected from a group of \u001b[1;36m10\u001b[0m men and \u001b[1;36m5\u001b[0m women. What is the probability that the \n",
       "committee has at least \u001b[1;36m3\u001b[0m men on it?\n",
       "\n",
       "A\u001b[1m)\u001b[0m \u001b[1;36m0.50\u001b[0m\n",
       "B\u001b[1m)\u001b[0m \u001b[1;36m0.65\u001b[0m\n",
       "C\u001b[1m)\u001b[0m \u001b[1;36m0.70\u001b[0m\n",
       "D\u001b[1m)\u001b[0m \u001b[1;36m0.80\u001b[0m\n",
       "\n",
       "Reasoning:\n",
       "To solve this problem, we can use the concept of conditional probability. We first find the total number of ways to\n",
       "choose a committee of \u001b[1;36m5\u001b[0m people from the group of \u001b[1;36m15\u001b[0m \u001b[1m(\u001b[0m\u001b[1;36m10\u001b[0m men and \u001b[1;36m5\u001b[0m women\u001b[1m)\u001b[0m, which is given by $\u001b[1m{\u001b[0m\u001b[1;36m15\u001b[0m \\choose \u001b[1;36m5\u001b[0m\u001b[1m}\u001b[0m$. Then,\n",
       "we find the number of ways to choose a committee with at least \u001b[1;36m3\u001b[0m men, which includes the following scenarios:\n",
       "\u001b[1;36m1\u001b[0m. \u001b[1;36m3\u001b[0m men and \u001b[1;36m2\u001b[0m women\n",
       "\u001b[1;36m2\u001b[0m. \u001b[1;36m4\u001b[0m men and \u001b[1;36m1\u001b[0m woman\n",
       "\u001b[1;36m3\u001b[0m. \u001b[1;36m5\u001b[0m men \n",
       "We calculate the probability for each scenario and sum the probabilities to find the final answer.\n",
       "\n",
       "Correct Answer:\n",
       "C\u001b[1m)\u001b[0m \u001b[1;36m0.70\u001b[0m\n"
      ]
     },
     "metadata": {},
     "output_type": "display_data"
    }
   ],
   "source": [
    "# test test_writer agent\n",
    "response = test_writer.generate_response(\n",
    "    messages=[\n",
    "        Message(\n",
    "            role='user',\n",
    "            content=Content(\n",
    "                text='''The question should test student's {bloom_objective} of the topic.\n",
    "Write a multiple choice question about {topic}.\n",
    "Give reasoning to solve the question.\n",
    "Lastly, specify the correct answer.'''.format(\n",
    "                    bloom_objective='application',\n",
    "                    topic = 'Conditional probability'\n",
    "                ),\n",
    "            ),\n",
    "        ),\n",
    "    ],\n",
    ")\n",
    "\n",
    "rich_print(response[-1].content.text)"
   ]
  },
  {
   "cell_type": "markdown",
   "metadata": {},
   "source": [
    "That's not a bad response out of the box, but can we do better? Let's try to add a reviewer to the mix."
   ]
  },
  {
   "cell_type": "code",
   "execution_count": 3,
   "metadata": {},
   "outputs": [],
   "source": [
    "\n",
    "# taken from wikipedia: https://en.wikipedia.org/wiki/Bloom%27s_taxonomy\n",
    "bloom_objectives = {\n",
    "    'knowledge': '''involves recognizing or remembering facts, terms, basic concepts, or answers without necessarily understanding what they mean. Some characteristics may include:\n",
    "Knowledge of specifics—terminology, specific facts\n",
    "Knowledge of ways and means of dealing with specifics—conventions, trends and sequences, classifications and categories\n",
    "Knowledge of the universals and abstractions in a field—principles and generalizations, theories and structures''',\n",
    "    'comprehension': 'involves demonstrating an understanding of facts and ideas by organizing, summarizing, translating, generalizing, giving descriptions, and stating the main ideas.',\n",
    "    'application': 'involves using acquired knowledge to solve problems in new situations. This involves applying acquired knowledge, facts, techniques and rules. Learners should be able to use prior knowledge to solve problems, identify connections and relationships and how they apply in new situations.',\n",
    "    'analysis': '''involves examining and breaking information into component parts, determining how the parts relate to one another, identifying motives or causes, making inferences, and finding evidence to support generalizations. Its characteristics include:\n",
    "Analysis of elements\n",
    "Analysis of relationships\n",
    "Analysis of organization''',\n",
    "    'synthesis': '''involves building a structure or pattern from diverse elements; it also refers to the act of putting parts together to form a whole or bringing pieces of information together to form a new meaning. Its characteristics include:\n",
    "Production of a unique communication\n",
    "Production of a plan, or proposed set of operations\n",
    "Derivation of a set of abstract relations''',\n",
    "    'evaluation': '''involves presenting and defending opinions by making judgments about information, the validity of ideas, or quality of work based on a set of criteria. Its characteristics include:\n",
    "Judgments in terms of internal evidence\n",
    "Judgments in terms of external criteria''',\n",
    "}\n",
    "\n",
    "bloom_reviewers = {\n",
    "    objective:Agent(\n",
    "        name='bloom_reviewer_specialty_{objective}'.format(objective=objective),\n",
    "        generation_config=generation_config,\n",
    "        system_prompt='''You specialize in reviewing {objective} questions, which {description}.\n",
    "Critically access if the test question is at the right level and quality of Bloom's Taxonomy.\n",
    "Then, give a score out of 10 and actionable feedback on how to improve the question.'''.format(objective=objective, description=description),\n",
    "    ) for objective, description in bloom_objectives.items()\n",
    "}\n",
    "\n",
    "correctness_reviewer = Agent(\n",
    "    name='correctness_reviewer',\n",
    "    generation_config=generation_config,\n",
    "    system_prompt='Work out the test question independently and verify the answer.',\n",
    ")"
   ]
  },
  {
   "cell_type": "code",
   "execution_count": 4,
   "metadata": {},
   "outputs": [],
   "source": [
    "# Test reviewer\n",
    "\n",
    "review = bloom_reviewers['application'].generate_response(\n",
    "    messages=[\n",
    "        Message(\n",
    "            role='user',\n",
    "            content=Content(\n",
    "                text=response[-1].content.text,\n",
    "            ),\n",
    "        )\n",
    "    ]\n",
    ")"
   ]
  },
  {
   "cell_type": "code",
   "execution_count": 5,
   "metadata": {},
   "outputs": [
    {
     "data": {
      "text/html": [
       "<pre style=\"white-space:pre;overflow-x:auto;line-height:normal;font-family:Menlo,'DejaVu Sans Mono',consolas,'Courier New',monospace\">The given question is at the application level of Bloom's Taxonomy as it requires the application of the concept of\n",
       "conditional probability to solve a real-world problem. The learner needs to apply their understanding of \n",
       "probability and combinations in a new context to find the probability of selecting a committee with at least <span style=\"color: #008080; text-decoration-color: #008080; font-weight: bold\">3</span> men \n",
       "from a given group.\n",
       "\n",
       "I would give this question a score of <span style=\"color: #008080; text-decoration-color: #008080; font-weight: bold\">8</span> out of <span style=\"color: #008080; text-decoration-color: #008080; font-weight: bold\">10</span>. \n",
       "\n",
       "To further improve the question, I would suggest the following:\n",
       "<span style=\"color: #008080; text-decoration-color: #008080; font-weight: bold\">1</span>. Provide a clear explanation of the concept of conditional probability for the learners who might not be familiar\n",
       "with it. This will help them connect the application to the underlying concept.\n",
       "<span style=\"color: #008080; text-decoration-color: #008080; font-weight: bold\">2</span>. Consider providing a brief rationale for why the chosen scenarios <span style=\"font-weight: bold\">(</span><span style=\"color: #008080; text-decoration-color: #008080; font-weight: bold\">3</span> men and <span style=\"color: #008080; text-decoration-color: #008080; font-weight: bold\">2</span> women, <span style=\"color: #008080; text-decoration-color: #008080; font-weight: bold\">4</span> men and <span style=\"color: #008080; text-decoration-color: #008080; font-weight: bold\">1</span> woman, <span style=\"color: #008080; text-decoration-color: #008080; font-weight: bold\">5</span> men<span style=\"font-weight: bold\">)</span> \n",
       "cover all possible cases of having at least <span style=\"color: #008080; text-decoration-color: #008080; font-weight: bold\">3</span> men on the committee. This would help learners understand the \n",
       "comprehensiveness of the approach.\n",
       "\n",
       "Overall, this is a well-constructed application-level question that tests the learner's ability to apply their \n",
       "understanding of probability in a new context. With the suggested improvements, it can further enhance the \n",
       "understanding and clarity for the learners.\n",
       "</pre>\n"
      ],
      "text/plain": [
       "The given question is at the application level of Bloom's Taxonomy as it requires the application of the concept of\n",
       "conditional probability to solve a real-world problem. The learner needs to apply their understanding of \n",
       "probability and combinations in a new context to find the probability of selecting a committee with at least \u001b[1;36m3\u001b[0m men \n",
       "from a given group.\n",
       "\n",
       "I would give this question a score of \u001b[1;36m8\u001b[0m out of \u001b[1;36m10\u001b[0m. \n",
       "\n",
       "To further improve the question, I would suggest the following:\n",
       "\u001b[1;36m1\u001b[0m. Provide a clear explanation of the concept of conditional probability for the learners who might not be familiar\n",
       "with it. This will help them connect the application to the underlying concept.\n",
       "\u001b[1;36m2\u001b[0m. Consider providing a brief rationale for why the chosen scenarios \u001b[1m(\u001b[0m\u001b[1;36m3\u001b[0m men and \u001b[1;36m2\u001b[0m women, \u001b[1;36m4\u001b[0m men and \u001b[1;36m1\u001b[0m woman, \u001b[1;36m5\u001b[0m men\u001b[1m)\u001b[0m \n",
       "cover all possible cases of having at least \u001b[1;36m3\u001b[0m men on the committee. This would help learners understand the \n",
       "comprehensiveness of the approach.\n",
       "\n",
       "Overall, this is a well-constructed application-level question that tests the learner's ability to apply their \n",
       "understanding of probability in a new context. With the suggested improvements, it can further enhance the \n",
       "understanding and clarity for the learners.\n"
      ]
     },
     "metadata": {},
     "output_type": "display_data"
    }
   ],
   "source": [
    "rich_print(review[-1].content.text)"
   ]
  },
  {
   "cell_type": "code",
   "execution_count": 6,
   "metadata": {},
   "outputs": [],
   "source": [
    "# Test correctness\n",
    "# From time to time the agent will write incorrect answer so it will be nice to have a checker in place.\n",
    "\n",
    "correctness = correctness_reviewer.generate_response(\n",
    "    messages=[\n",
    "        Message(\n",
    "            role='user',\n",
    "            content=Content(\n",
    "                text=response[-1].content.text,\n",
    "            ),\n",
    "        )\n",
    "    ]\n",
    ")"
   ]
  },
  {
   "cell_type": "code",
   "execution_count": 7,
   "metadata": {},
   "outputs": [
    {
     "data": {
      "text/html": [
       "<pre style=\"white-space:pre;overflow-x:auto;line-height:normal;font-family:Menlo,'DejaVu Sans Mono',consolas,'Courier New',monospace\">First, let's calculate the total number of ways to choose a committee of <span style=\"color: #008080; text-decoration-color: #008080; font-weight: bold\">5</span> people from the group of <span style=\"color: #008080; text-decoration-color: #008080; font-weight: bold\">10</span> men and <span style=\"color: #008080; text-decoration-color: #008080; font-weight: bold\">5</span> \n",
       "women:\n",
       "\n",
       "Total ways = $<span style=\"font-weight: bold\">{</span><span style=\"color: #008080; text-decoration-color: #008080; font-weight: bold\">15</span> \\choose <span style=\"color: #008080; text-decoration-color: #008080; font-weight: bold\">5</span><span style=\"font-weight: bold\">}</span>$\n",
       "\n",
       "Now, we find the number of ways to choose a committee with at least <span style=\"color: #008080; text-decoration-color: #008080; font-weight: bold\">3</span> men:\n",
       "\n",
       "<span style=\"color: #008080; text-decoration-color: #008080; font-weight: bold\">1</span>. <span style=\"color: #008080; text-decoration-color: #008080; font-weight: bold\">3</span> men and <span style=\"color: #008080; text-decoration-color: #008080; font-weight: bold\">2</span> women: $<span style=\"font-weight: bold\">{</span><span style=\"color: #008080; text-decoration-color: #008080; font-weight: bold\">10</span> \\choose <span style=\"color: #008080; text-decoration-color: #008080; font-weight: bold\">3</span><span style=\"font-weight: bold\">}</span> * <span style=\"font-weight: bold\">{</span><span style=\"color: #008080; text-decoration-color: #008080; font-weight: bold\">5</span> \\choose <span style=\"color: #008080; text-decoration-color: #008080; font-weight: bold\">2</span><span style=\"font-weight: bold\">}</span>$\n",
       "<span style=\"color: #008080; text-decoration-color: #008080; font-weight: bold\">2</span>. <span style=\"color: #008080; text-decoration-color: #008080; font-weight: bold\">4</span> men and <span style=\"color: #008080; text-decoration-color: #008080; font-weight: bold\">1</span> woman: $<span style=\"font-weight: bold\">{</span><span style=\"color: #008080; text-decoration-color: #008080; font-weight: bold\">10</span> \\choose <span style=\"color: #008080; text-decoration-color: #008080; font-weight: bold\">4</span><span style=\"font-weight: bold\">}</span> * <span style=\"font-weight: bold\">{</span><span style=\"color: #008080; text-decoration-color: #008080; font-weight: bold\">5</span> \\choose <span style=\"color: #008080; text-decoration-color: #008080; font-weight: bold\">1</span><span style=\"font-weight: bold\">}</span>$\n",
       "<span style=\"color: #008080; text-decoration-color: #008080; font-weight: bold\">3</span>. <span style=\"color: #008080; text-decoration-color: #008080; font-weight: bold\">5</span> men: $<span style=\"font-weight: bold\">{</span><span style=\"color: #008080; text-decoration-color: #008080; font-weight: bold\">10</span> \\choose <span style=\"color: #008080; text-decoration-color: #008080; font-weight: bold\">5</span><span style=\"font-weight: bold\">}</span>$\n",
       "\n",
       "The total number of ways to choose a committee with at least <span style=\"color: #008080; text-decoration-color: #008080; font-weight: bold\">3</span> men is the sum of the above three scenarios.\n",
       "\n",
       "So, the probability of selecting a committee with at least <span style=\"color: #008080; text-decoration-color: #008080; font-weight: bold\">3</span> men is given by:\n",
       "<span style=\"font-weight: bold\">[</span> P = \\frac<span style=\"font-weight: bold\">{{</span>\\text<span style=\"font-weight: bold\">{</span>Total ways with at least <span style=\"color: #008080; text-decoration-color: #008080; font-weight: bold\">3</span> men<span style=\"font-weight: bold\">}}}{{</span>\\text<span style=\"font-weight: bold\">{</span>Total ways<span style=\"font-weight: bold\">}}}</span> \\<span style=\"font-weight: bold\">]</span>\n",
       "\n",
       "Now, calculate the probability:\n",
       "<span style=\"font-weight: bold\">[</span> P = \\frac<span style=\"font-weight: bold\">{{</span>\\<span style=\"color: #800080; text-decoration-color: #800080; font-weight: bold\">left</span><span style=\"font-weight: bold\">(</span> <span style=\"font-weight: bold\">{</span><span style=\"color: #008080; text-decoration-color: #008080; font-weight: bold\">10</span> \\choose <span style=\"color: #008080; text-decoration-color: #008080; font-weight: bold\">3</span><span style=\"font-weight: bold\">}</span> \\times <span style=\"font-weight: bold\">{</span><span style=\"color: #008080; text-decoration-color: #008080; font-weight: bold\">5</span> \\choose <span style=\"color: #008080; text-decoration-color: #008080; font-weight: bold\">2</span><span style=\"font-weight: bold\">}</span> \\right<span style=\"font-weight: bold\">)</span> + \\<span style=\"color: #800080; text-decoration-color: #800080; font-weight: bold\">left</span><span style=\"font-weight: bold\">(</span> <span style=\"font-weight: bold\">{</span><span style=\"color: #008080; text-decoration-color: #008080; font-weight: bold\">10</span> \\choose <span style=\"color: #008080; text-decoration-color: #008080; font-weight: bold\">4</span><span style=\"font-weight: bold\">}</span> \\times <span style=\"font-weight: bold\">{</span><span style=\"color: #008080; text-decoration-color: #008080; font-weight: bold\">5</span> \\choose <span style=\"color: #008080; text-decoration-color: #008080; font-weight: bold\">1</span><span style=\"font-weight: bold\">}</span> \n",
       "\\right<span style=\"font-weight: bold\">)</span> + <span style=\"font-weight: bold\">{</span><span style=\"color: #008080; text-decoration-color: #008080; font-weight: bold\">10</span> \\choose <span style=\"color: #008080; text-decoration-color: #008080; font-weight: bold\">5</span><span style=\"font-weight: bold\">}}}{{</span> <span style=\"font-weight: bold\">{</span><span style=\"color: #008080; text-decoration-color: #008080; font-weight: bold\">15</span> \\choose <span style=\"color: #008080; text-decoration-color: #008080; font-weight: bold\">5</span><span style=\"font-weight: bold\">}}}</span> \\<span style=\"font-weight: bold\">]</span>\n",
       "\n",
       "Calculating this probability gives us P = <span style=\"color: #008080; text-decoration-color: #008080; font-weight: bold\">0.70</span>\n",
       "\n",
       "So, the correct answer is C<span style=\"font-weight: bold\">)</span> <span style=\"color: #008080; text-decoration-color: #008080; font-weight: bold\">0.70</span>.\n",
       "\n",
       "Given the above reasoning and calculation, the correct answer is C<span style=\"font-weight: bold\">)</span> <span style=\"color: #008080; text-decoration-color: #008080; font-weight: bold\">0.70</span>.\n",
       "</pre>\n"
      ],
      "text/plain": [
       "First, let's calculate the total number of ways to choose a committee of \u001b[1;36m5\u001b[0m people from the group of \u001b[1;36m10\u001b[0m men and \u001b[1;36m5\u001b[0m \n",
       "women:\n",
       "\n",
       "Total ways = $\u001b[1m{\u001b[0m\u001b[1;36m15\u001b[0m \\choose \u001b[1;36m5\u001b[0m\u001b[1m}\u001b[0m$\n",
       "\n",
       "Now, we find the number of ways to choose a committee with at least \u001b[1;36m3\u001b[0m men:\n",
       "\n",
       "\u001b[1;36m1\u001b[0m. \u001b[1;36m3\u001b[0m men and \u001b[1;36m2\u001b[0m women: $\u001b[1m{\u001b[0m\u001b[1;36m10\u001b[0m \\choose \u001b[1;36m3\u001b[0m\u001b[1m}\u001b[0m * \u001b[1m{\u001b[0m\u001b[1;36m5\u001b[0m \\choose \u001b[1;36m2\u001b[0m\u001b[1m}\u001b[0m$\n",
       "\u001b[1;36m2\u001b[0m. \u001b[1;36m4\u001b[0m men and \u001b[1;36m1\u001b[0m woman: $\u001b[1m{\u001b[0m\u001b[1;36m10\u001b[0m \\choose \u001b[1;36m4\u001b[0m\u001b[1m}\u001b[0m * \u001b[1m{\u001b[0m\u001b[1;36m5\u001b[0m \\choose \u001b[1;36m1\u001b[0m\u001b[1m}\u001b[0m$\n",
       "\u001b[1;36m3\u001b[0m. \u001b[1;36m5\u001b[0m men: $\u001b[1m{\u001b[0m\u001b[1;36m10\u001b[0m \\choose \u001b[1;36m5\u001b[0m\u001b[1m}\u001b[0m$\n",
       "\n",
       "The total number of ways to choose a committee with at least \u001b[1;36m3\u001b[0m men is the sum of the above three scenarios.\n",
       "\n",
       "So, the probability of selecting a committee with at least \u001b[1;36m3\u001b[0m men is given by:\n",
       "\u001b[1m[\u001b[0m P = \\frac\u001b[1m{\u001b[0m\u001b[1m{\u001b[0m\\text\u001b[1m{\u001b[0mTotal ways with at least \u001b[1;36m3\u001b[0m men\u001b[1m}\u001b[0m\u001b[1m}\u001b[0m\u001b[1m}\u001b[0m\u001b[1m{\u001b[0m\u001b[1m{\u001b[0m\\text\u001b[1m{\u001b[0mTotal ways\u001b[1m}\u001b[0m\u001b[1m}\u001b[0m\u001b[1m}\u001b[0m \\\u001b[1m]\u001b[0m\n",
       "\n",
       "Now, calculate the probability:\n",
       "\u001b[1m[\u001b[0m P = \\frac\u001b[1m{\u001b[0m\u001b[1m{\u001b[0m\\\u001b[1;35mleft\u001b[0m\u001b[1m(\u001b[0m \u001b[1m{\u001b[0m\u001b[1;36m10\u001b[0m \\choose \u001b[1;36m3\u001b[0m\u001b[1m}\u001b[0m \\times \u001b[1m{\u001b[0m\u001b[1;36m5\u001b[0m \\choose \u001b[1;36m2\u001b[0m\u001b[1m}\u001b[0m \\right\u001b[1m)\u001b[0m + \\\u001b[1;35mleft\u001b[0m\u001b[1m(\u001b[0m \u001b[1m{\u001b[0m\u001b[1;36m10\u001b[0m \\choose \u001b[1;36m4\u001b[0m\u001b[1m}\u001b[0m \\times \u001b[1m{\u001b[0m\u001b[1;36m5\u001b[0m \\choose \u001b[1;36m1\u001b[0m\u001b[1m}\u001b[0m \n",
       "\\right\u001b[1m)\u001b[0m + \u001b[1m{\u001b[0m\u001b[1;36m10\u001b[0m \\choose \u001b[1;36m5\u001b[0m\u001b[1m}\u001b[0m\u001b[1m}\u001b[0m\u001b[1m}\u001b[0m\u001b[1m{\u001b[0m\u001b[1m{\u001b[0m \u001b[1m{\u001b[0m\u001b[1;36m15\u001b[0m \\choose \u001b[1;36m5\u001b[0m\u001b[1m}\u001b[0m\u001b[1m}\u001b[0m\u001b[1m}\u001b[0m \\\u001b[1m]\u001b[0m\n",
       "\n",
       "Calculating this probability gives us P = \u001b[1;36m0.70\u001b[0m\n",
       "\n",
       "So, the correct answer is C\u001b[1m)\u001b[0m \u001b[1;36m0.70\u001b[0m.\n",
       "\n",
       "Given the above reasoning and calculation, the correct answer is C\u001b[1m)\u001b[0m \u001b[1;36m0.70\u001b[0m.\n"
      ]
     },
     "metadata": {},
     "output_type": "display_data"
    }
   ],
   "source": [
    "rich_print(correctness[-1].content.text)"
   ]
  },
  {
   "cell_type": "code",
   "execution_count": 8,
   "metadata": {},
   "outputs": [],
   "source": [
    "# Let's construct a group chat to chain these agents together\n",
    "\n",
    "from agentx.groupchat import group_chat\n",
    "\n",
    "messages, _ = await group_chat(\n",
    "    agents=[\n",
    "        test_writer,\n",
    "        bloom_reviewers['application'],\n",
    "        correctness_reviewer,\n",
    "    ],\n",
    "    messages=[\n",
    "        Message(\n",
    "            role='user',\n",
    "            content=Content(\n",
    "                text='''The question should test student's {bloom_objective} of the topic.\n",
    "Write a multiple choice question about {topic}.\n",
    "Give reasoning to solve the question.\n",
    "Lastly, specify the correct answer.'''.format(\n",
    "                    bloom_objective='application',\n",
    "                    topic = 'Conditional probability'\n",
    "                ),\n",
    "            ),\n",
    "        ),\n",
    "    ],\n",
    "    max_iteration=10,\n",
    ")\n"
   ]
  },
  {
   "cell_type": "code",
   "execution_count": 18,
   "metadata": {},
   "outputs": [
    {
     "data": {
      "text/html": [
       "<pre style=\"white-space:pre;overflow-x:auto;line-height:normal;font-family:Menlo,'DejaVu Sans Mono',consolas,'Courier New',monospace\">The question has been reviewed and is ready for use:\n",
       "Question:\n",
       "In a survey of <span style=\"color: #008080; text-decoration-color: #008080; font-weight: bold\">100</span> people, it was found that <span style=\"color: #008080; text-decoration-color: #008080; font-weight: bold\">45</span> people own a car and <span style=\"color: #008080; text-decoration-color: #008080; font-weight: bold\">30</span> people own a motorcycle. Out of those who \n",
       "own a car, <span style=\"color: #008080; text-decoration-color: #008080; font-weight: bold\">25</span> also own a motorcycle. What is the probability that a randomly selected person owns both a car and a \n",
       "motorcycle?\n",
       "\n",
       "A<span style=\"font-weight: bold\">)</span> <span style=\"color: #008080; text-decoration-color: #008080; font-weight: bold\">0.15</span>\n",
       "B<span style=\"font-weight: bold\">)</span> <span style=\"color: #008080; text-decoration-color: #008080; font-weight: bold\">0.25</span>\n",
       "C<span style=\"font-weight: bold\">)</span> <span style=\"color: #008080; text-decoration-color: #008080; font-weight: bold\">0.30</span>\n",
       "D<span style=\"font-weight: bold\">)</span> <span style=\"color: #008080; text-decoration-color: #008080; font-weight: bold\">0.50</span>\n",
       "\n",
       "Reasoning to solve the question:\n",
       "To find the probability that a randomly selected person owns both a car and a motorcycle, we need to use the \n",
       "formula for conditional probability. Conditional probability is the probability of an event occurring given that \n",
       "another event has already occurred. In this case, the probability of owning both a car and a motorcycle is given by\n",
       "the number of people who own both divided by the total number of people surveyed. So, we can calculate the \n",
       "conditional probability using the formula:\n",
       "<span style=\"color: #800080; text-decoration-color: #800080; font-weight: bold\">P</span><span style=\"font-weight: bold\">(</span>A | B<span style=\"font-weight: bold\">)</span> = <span style=\"color: #800080; text-decoration-color: #800080; font-weight: bold\">P</span><span style=\"font-weight: bold\">(</span>A and B<span style=\"font-weight: bold\">)</span> <span style=\"color: #800080; text-decoration-color: #800080\">/</span> <span style=\"color: #800080; text-decoration-color: #800080; font-weight: bold\">P</span><span style=\"font-weight: bold\">(</span>B<span style=\"font-weight: bold\">)</span>\n",
       "Where <span style=\"color: #800080; text-decoration-color: #800080; font-weight: bold\">P</span><span style=\"font-weight: bold\">(</span>A | B<span style=\"font-weight: bold\">)</span> is the probability of owning both a car and a motorcycle, <span style=\"color: #800080; text-decoration-color: #800080; font-weight: bold\">P</span><span style=\"font-weight: bold\">(</span>A and B<span style=\"font-weight: bold\">)</span> is the number of people who own\n",
       "both, and <span style=\"color: #800080; text-decoration-color: #800080; font-weight: bold\">P</span><span style=\"font-weight: bold\">(</span>B<span style=\"font-weight: bold\">)</span> is the total number of people surveyed who own a car.\n",
       "\n",
       "Correct answer:\n",
       "B<span style=\"font-weight: bold\">)</span> <span style=\"color: #008080; text-decoration-color: #008080; font-weight: bold\">0.25</span>\n",
       "</pre>\n"
      ],
      "text/plain": [
       "The question has been reviewed and is ready for use:\n",
       "Question:\n",
       "In a survey of \u001b[1;36m100\u001b[0m people, it was found that \u001b[1;36m45\u001b[0m people own a car and \u001b[1;36m30\u001b[0m people own a motorcycle. Out of those who \n",
       "own a car, \u001b[1;36m25\u001b[0m also own a motorcycle. What is the probability that a randomly selected person owns both a car and a \n",
       "motorcycle?\n",
       "\n",
       "A\u001b[1m)\u001b[0m \u001b[1;36m0.15\u001b[0m\n",
       "B\u001b[1m)\u001b[0m \u001b[1;36m0.25\u001b[0m\n",
       "C\u001b[1m)\u001b[0m \u001b[1;36m0.30\u001b[0m\n",
       "D\u001b[1m)\u001b[0m \u001b[1;36m0.50\u001b[0m\n",
       "\n",
       "Reasoning to solve the question:\n",
       "To find the probability that a randomly selected person owns both a car and a motorcycle, we need to use the \n",
       "formula for conditional probability. Conditional probability is the probability of an event occurring given that \n",
       "another event has already occurred. In this case, the probability of owning both a car and a motorcycle is given by\n",
       "the number of people who own both divided by the total number of people surveyed. So, we can calculate the \n",
       "conditional probability using the formula:\n",
       "\u001b[1;35mP\u001b[0m\u001b[1m(\u001b[0mA | B\u001b[1m)\u001b[0m = \u001b[1;35mP\u001b[0m\u001b[1m(\u001b[0mA and B\u001b[1m)\u001b[0m \u001b[35m/\u001b[0m \u001b[1;35mP\u001b[0m\u001b[1m(\u001b[0mB\u001b[1m)\u001b[0m\n",
       "Where \u001b[1;35mP\u001b[0m\u001b[1m(\u001b[0mA | B\u001b[1m)\u001b[0m is the probability of owning both a car and a motorcycle, \u001b[1;35mP\u001b[0m\u001b[1m(\u001b[0mA and B\u001b[1m)\u001b[0m is the number of people who own\n",
       "both, and \u001b[1;35mP\u001b[0m\u001b[1m(\u001b[0mB\u001b[1m)\u001b[0m is the total number of people surveyed who own a car.\n",
       "\n",
       "Correct answer:\n",
       "B\u001b[1m)\u001b[0m \u001b[1;36m0.25\u001b[0m\n"
      ]
     },
     "metadata": {},
     "output_type": "display_data"
    }
   ],
   "source": [
    "# print the last response which the test_writer agent gave\n",
    "rich_print([message for message in messages if message.name == 'test_writer'][-1].content.text)"
   ]
  },
  {
   "cell_type": "code",
   "execution_count": 21,
   "metadata": {},
   "outputs": [],
   "source": [
    "# Convert the response to a JSON format for downstream processing\n",
    "# e.g. render into a pdf, save to a database, and so on.\n",
    "\n",
    "class TestQuestion(BaseModel):\n",
    "    question:str\n",
    "    choices:List[str]\n",
    "    answer:str\n",
    "    explanation:str\n",
    "    bloom_objective:List[Literal['knowledge', 'comprehension', 'application', 'analysis', 'synthesis', 'evaluation']]\n",
    "\n",
    "test_question_extractor = Agent(\n",
    "    name='test_question_extractor',\n",
    "    generation_config=generation_config,\n",
    "    system_prompt='''Extract the latest test question. You must reply an JSON object.''',\n",
    ")\n",
    "\n",
    "test_question = test_question_extractor.generate_response(\n",
    "    messages=[[message for message in messages if message.name == 'test_writer'][-1]],\n",
    "    output_model=TestQuestion,\n",
    ")[-1].content.text\n",
    "\n",
    "test_question = TestQuestion.model_validate_json(test_question)"
   ]
  },
  {
   "cell_type": "code",
   "execution_count": 22,
   "metadata": {},
   "outputs": [
    {
     "data": {
      "text/html": [
       "<pre style=\"white-space:pre;overflow-x:auto;line-height:normal;font-family:Menlo,'DejaVu Sans Mono',consolas,'Courier New',monospace\"><span style=\"color: #800080; text-decoration-color: #800080; font-weight: bold\">TestQuestion</span><span style=\"font-weight: bold\">(</span>\n",
       "    <span style=\"color: #808000; text-decoration-color: #808000\">question</span>=<span style=\"color: #008000; text-decoration-color: #008000\">'In a survey of 100 people, it was found that 45 people own a car and 30 people own a motorcycle. Out </span>\n",
       "<span style=\"color: #008000; text-decoration-color: #008000\">of those who own a car, 25 also own a motorcycle. What is the probability that a randomly selected person owns both</span>\n",
       "<span style=\"color: #008000; text-decoration-color: #008000\">a car and a motorcycle?'</span>,\n",
       "    <span style=\"color: #808000; text-decoration-color: #808000\">choices</span>=<span style=\"font-weight: bold\">[</span><span style=\"color: #008000; text-decoration-color: #008000\">'A) 0.15'</span>, <span style=\"color: #008000; text-decoration-color: #008000\">'B) 0.25'</span>, <span style=\"color: #008000; text-decoration-color: #008000\">'C) 0.30'</span>, <span style=\"color: #008000; text-decoration-color: #008000\">'D) 0.50'</span><span style=\"font-weight: bold\">]</span>,\n",
       "    <span style=\"color: #808000; text-decoration-color: #808000\">answer</span>=<span style=\"color: #008000; text-decoration-color: #008000\">'B) 0.25'</span>,\n",
       "    <span style=\"color: #808000; text-decoration-color: #808000\">explanation</span>=<span style=\"color: #008000; text-decoration-color: #008000\">'To find the probability that a randomly selected person owns both a car and a motorcycle, we need </span>\n",
       "<span style=\"color: #008000; text-decoration-color: #008000\">to use the formula for conditional probability. Conditional probability is the probability of an event occurring </span>\n",
       "<span style=\"color: #008000; text-decoration-color: #008000\">given that another event has already occurred. In this case, the probability of owning both a car and a motorcycle </span>\n",
       "<span style=\"color: #008000; text-decoration-color: #008000\">is given by the number of people who own both divided by the total number of people surveyed. So, we can calculate </span>\n",
       "<span style=\"color: #008000; text-decoration-color: #008000\">the conditional probability using the formula: P(A | B) = P(A and B) / P(B) Where P(A | B) is the probability of </span>\n",
       "<span style=\"color: #008000; text-decoration-color: #008000\">owning both a car and a motorcycle, P(A and B) is the number of people who own both, and P(B) is the total number </span>\n",
       "<span style=\"color: #008000; text-decoration-color: #008000\">of people surveyed who own a car.'</span>,\n",
       "    <span style=\"color: #808000; text-decoration-color: #808000\">bloom_objective</span>=<span style=\"font-weight: bold\">[</span><span style=\"color: #008000; text-decoration-color: #008000\">'application'</span><span style=\"font-weight: bold\">]</span>\n",
       "<span style=\"font-weight: bold\">)</span>\n",
       "</pre>\n"
      ],
      "text/plain": [
       "\u001b[1;35mTestQuestion\u001b[0m\u001b[1m(\u001b[0m\n",
       "    \u001b[33mquestion\u001b[0m=\u001b[32m'In a survey of 100 people, it was found that 45 people own a car and 30 people own a motorcycle. Out \u001b[0m\n",
       "\u001b[32mof those who own a car, 25 also own a motorcycle. What is the probability that a randomly selected person owns both\u001b[0m\n",
       "\u001b[32ma car and a motorcycle?'\u001b[0m,\n",
       "    \u001b[33mchoices\u001b[0m=\u001b[1m[\u001b[0m\u001b[32m'A\u001b[0m\u001b[32m)\u001b[0m\u001b[32m 0.15'\u001b[0m, \u001b[32m'B\u001b[0m\u001b[32m)\u001b[0m\u001b[32m 0.25'\u001b[0m, \u001b[32m'C\u001b[0m\u001b[32m)\u001b[0m\u001b[32m 0.30'\u001b[0m, \u001b[32m'D\u001b[0m\u001b[32m)\u001b[0m\u001b[32m 0.50'\u001b[0m\u001b[1m]\u001b[0m,\n",
       "    \u001b[33manswer\u001b[0m=\u001b[32m'B\u001b[0m\u001b[32m)\u001b[0m\u001b[32m 0.25'\u001b[0m,\n",
       "    \u001b[33mexplanation\u001b[0m=\u001b[32m'To find the probability that a randomly selected person owns both a car and a motorcycle, we need \u001b[0m\n",
       "\u001b[32mto use the formula for conditional probability. Conditional probability is the probability of an event occurring \u001b[0m\n",
       "\u001b[32mgiven that another event has already occurred. In this case, the probability of owning both a car and a motorcycle \u001b[0m\n",
       "\u001b[32mis given by the number of people who own both divided by the total number of people surveyed. So, we can calculate \u001b[0m\n",
       "\u001b[32mthe conditional probability using the formula: P\u001b[0m\u001b[32m(\u001b[0m\u001b[32mA | B\u001b[0m\u001b[32m)\u001b[0m\u001b[32m = P\u001b[0m\u001b[32m(\u001b[0m\u001b[32mA and B\u001b[0m\u001b[32m)\u001b[0m\u001b[32m / P\u001b[0m\u001b[32m(\u001b[0m\u001b[32mB\u001b[0m\u001b[32m)\u001b[0m\u001b[32m Where P\u001b[0m\u001b[32m(\u001b[0m\u001b[32mA | B\u001b[0m\u001b[32m)\u001b[0m\u001b[32m is the probability of \u001b[0m\n",
       "\u001b[32mowning both a car and a motorcycle, P\u001b[0m\u001b[32m(\u001b[0m\u001b[32mA and B\u001b[0m\u001b[32m)\u001b[0m\u001b[32m is the number of people who own both, and P\u001b[0m\u001b[32m(\u001b[0m\u001b[32mB\u001b[0m\u001b[32m)\u001b[0m\u001b[32m is the total number \u001b[0m\n",
       "\u001b[32mof people surveyed who own a car.'\u001b[0m,\n",
       "    \u001b[33mbloom_objective\u001b[0m=\u001b[1m[\u001b[0m\u001b[32m'application'\u001b[0m\u001b[1m]\u001b[0m\n",
       "\u001b[1m)\u001b[0m\n"
      ]
     },
     "metadata": {},
     "output_type": "display_data"
    }
   ],
   "source": [
    "rich_print(test_question)"
   ]
  },
  {
   "cell_type": "markdown",
   "metadata": {},
   "source": [
    "# A* Chat\n",
    "Orchestrating a conversation between a large number of agents can be challenging, especially when it is difficult to determind which agent should be called at each timestep to achieve the goal.\n",
    "\n",
    "Seeing multi-agent chat as a path finding problem, where each message in a message history is analogous to a node, A* algorithm can be used to find the optimal path to the end of the conversation.\n",
    "\n",
    "A* algorithm is a path finding algorithm that is widely used. It is a variant of Dijkstra's algorithm, which is used to find the shortest path between two nodes in a graph. A* algorithm is an extension of Dijkstra's algorithm, which adds a heuristic function to guide the search towards the goal. The heuristic function is an estimation of the distance between the current node and the goal. The algorithm will always choose the node with the lowest cost, which is the sum of the distance from the start node to the current node and the heuristic function.\n",
    "\n",
    "Using A* Chat, instead of having to manually program agent behaviours, you can simply define the heuristic function that estimates how *close* the message history to the goal, and the algorithm will automatically orchestrate the conversation between the agents to reach the goal."
   ]
  },
  {
   "cell_type": "markdown",
   "metadata": {},
   "source": []
  }
 ],
 "metadata": {
  "kernelspec": {
   "display_name": "Python 3",
   "language": "python",
   "name": "python3"
  },
  "language_info": {
   "codemirror_mode": {
    "name": "ipython",
    "version": 3
   },
   "file_extension": ".py",
   "mimetype": "text/x-python",
   "name": "python",
   "nbconvert_exporter": "python",
   "pygments_lexer": "ipython3",
   "version": "3.9.6"
  }
 },
 "nbformat": 4,
 "nbformat_minor": 2
}

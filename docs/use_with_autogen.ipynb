{
 "cells": [
  {
   "cell_type": "code",
   "execution_count": null,
   "metadata": {},
   "outputs": [],
   "source": [
    "import autogen\n",
    "import os\n",
    "from xentropy.tool import Tool\n",
    "\n",
    "os.environ['AZURE_OPENAI_API_BASE'] = 'YOUR_AZURE_OPENAI_API_BASE'\n",
    "os.environ['AZURE_OPENAI_KEY'] = 'YOUR_AZURE_OPENAI_KEY'\n",
    "os.environ['XENTROPY_API_KEY'] = 'YOUR_XENTROPY_API_KEY'"
   ]
  },
  {
   "cell_type": "code",
   "execution_count": null,
   "metadata": {},
   "outputs": [],
   "source": [
    "# Get a tool that converts address to latitude longitude coordinate\n",
    "geocoding = Tool.load('xentropy--geocoding', api_key=os.environ.get('XENTROPY_API_KEY'))\n",
    "# Get a tool that computes the earth surface distance between two coordinates\n",
    "geodesic = Tool.load('xentropy--geodesic', api_key=os.environ.get('XENTROPY_API_KEY'))\n"
   ]
  },
  {
   "cell_type": "code",
   "execution_count": null,
   "metadata": {},
   "outputs": [],
   "source": [
    "config_list = autogen.config_list_from_models(model_list=[os.environ.get('AZURE_OPENAI_DEPLOYMENT')]) # your choice of LLM\n",
    "\n",
    "llm_config = {\n",
    "    \"functions\": [\n",
    "        {\n",
    "            \"name\": geocoding.name,\n",
    "            \"description\": geocoding.description,\n",
    "            \"parameters\": geocoding.input_json_schema,\n",
    "        },\n",
    "        {\n",
    "            \"name\": geodesic.name,\n",
    "            \"description\": geodesic.description,\n",
    "            \"parameters\": geodesic.input_json_schema,\n",
    "        },\n",
    "    ],\n",
    "    \"config_list\": config_list,\n",
    "    \"timeout\": 120,\n",
    "}\n",
    "\n",
    "chatbot = autogen.AssistantAgent(\n",
    "    name=\"chatbot\",\n",
    "    system_message=\"Use the functions you have been provided with. Reply TERMINATE when the task is done.\",\n",
    "    llm_config=llm_config,\n",
    "    is_termination_msg=lambda x: x.get(\"content\", \"\") == \"\"\n",
    ")\n",
    "\n",
    "user_proxy = autogen.UserProxyAgent(\n",
    "    name=\"user_proxy\",\n",
    "    is_termination_msg=lambda x: x.get(\n",
    "        'role') == 'user' and x.get('content') != None,\n",
    "    human_input_mode=\"NEVER\",\n",
    "    max_consecutive_auto_reply=10,\n",
    "    function_map={\n",
    "        geocoding.name: geocoding.run,\n",
    "        geodesic.name: geodesic.run,\n",
    "    }\n",
    ")"
   ]
  },
  {
   "cell_type": "code",
   "execution_count": null,
   "metadata": {},
   "outputs": [],
   "source": [
    "# Notice that in order to calculate the distance. We need to first convert the address to geolocation,\n",
    "# and then calculate the distance between the two geolocations. \n",
    "# LLM Agents can composite two functions to achieve this goal.\n",
    "user_proxy.initiate_chat(\n",
    "    chatbot,\n",
    "    message=\"What is the distance between Gare Port La Goulette - Sud in Tunisia and Porto di Napoli in Italy?\",\n",
    ")"
   ]
  }
 ],
 "metadata": {
  "language_info": {
   "name": "python"
  }
 },
 "nbformat": 4,
 "nbformat_minor": 2
}

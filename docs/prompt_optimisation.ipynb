{
 "cells": [
  {
   "cell_type": "code",
   "execution_count": null,
   "metadata": {},
   "outputs": [],
   "source": [
    "from agentx.optimisers import TextualGradientPromptTrainer\n",
    "from agentx.agent import Agent\n",
    "from agentx.schema import GenerationConfig, Message, Union\n",
    "from typing import List\n",
    "\n",
    "generation_config = GenerationConfig()\n",
    "\n",
    "def textual_loss_function(\n",
    "        predict:Union[List[Message], List[List[Message]]],\n",
    "        target:Union[List[Message], List[List[Message]]],):\n",
    "    return 0\n",
    "\n",
    "textual_gradient = Agent(\n",
    "    name='reviewer',\n",
    "    generation_config=generation_config,\n",
    "    system_prompt=\"\"\"I'm trying to write a zero-shot classifier prompt for news sentiment.\n",
    "\n",
    "My current prompt is:\n",
    "\"{prompt}\"\n",
    "\n",
    "But this prompt gets the following examples wrong:\n",
    "{error_string}\n",
    "\n",
    "give {num_feedbacks} reasons why the prompt could have gotten these examples wrong.\n",
    "Wrap each reason with <START> and <END>\n",
    "\"\"\"\n",
    ")"
   ]
  },
  {
   "cell_type": "code",
   "execution_count": null,
   "metadata": {},
   "outputs": [],
   "source": [
    "from ray import tune\n",
    "from ray.tune.schedulers import ASHAScheduler"
   ]
  }
 ],
 "metadata": {
  "language_info": {
   "name": "python"
  }
 },
 "nbformat": 4,
 "nbformat_minor": 2
}

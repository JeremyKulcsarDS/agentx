{
 "cells": [
  {
   "cell_type": "markdown",
   "metadata": {},
   "source": [
    "# Prompt Optimisation\n",
    "\n",
    "As your system built on AgentX goes to production, whether it is using the Agent class or publishing Tool to the store, you will accumulate more and more feedback data. Utilising these data, you can tune the prompt and the inference hyperparameters to achieve elevated performance.\n",
    "\n",
    "This notebook demonstrate how to tune prompt and the inference hyperparameters to better predict the salary range of a job posting based on its job description, which can be used to help job seekers and hiring managers to better understand the job market."
   ]
  },
  {
   "cell_type": "code",
   "execution_count": 1,
   "metadata": {},
   "outputs": [
    {
     "data": {
      "text/html": [
       "<div>\n",
       "<style scoped>\n",
       "    .dataframe tbody tr th:only-of-type {\n",
       "        vertical-align: middle;\n",
       "    }\n",
       "\n",
       "    .dataframe tbody tr th {\n",
       "        vertical-align: top;\n",
       "    }\n",
       "\n",
       "    .dataframe thead th {\n",
       "        text-align: right;\n",
       "    }\n",
       "</style>\n",
       "<table border=\"1\" class=\"dataframe\">\n",
       "  <thead>\n",
       "    <tr style=\"text-align: right;\">\n",
       "      <th></th>\n",
       "      <th>job_id</th>\n",
       "      <th>company_id</th>\n",
       "      <th>title</th>\n",
       "      <th>description</th>\n",
       "      <th>max_salary</th>\n",
       "      <th>med_salary</th>\n",
       "      <th>min_salary</th>\n",
       "      <th>pay_period</th>\n",
       "      <th>formatted_work_type</th>\n",
       "      <th>location</th>\n",
       "      <th>...</th>\n",
       "      <th>listed_time</th>\n",
       "      <th>posting_domain</th>\n",
       "      <th>sponsored</th>\n",
       "      <th>work_type</th>\n",
       "      <th>currency</th>\n",
       "      <th>compensation_type</th>\n",
       "      <th>scraped</th>\n",
       "      <th>salary</th>\n",
       "      <th>short_description</th>\n",
       "      <th>skill_set</th>\n",
       "    </tr>\n",
       "  </thead>\n",
       "  <tbody>\n",
       "    <tr>\n",
       "      <th>20487</th>\n",
       "      <td>3701151544</td>\n",
       "      <td>20122211.0</td>\n",
       "      <td>Senior Litigation Attorney/Special Assistant A...</td>\n",
       "      <td>SENIOR LITIGATION ATTORNEY/SPECIAL ASSISTANT A...</td>\n",
       "      <td>128252.0</td>\n",
       "      <td>NaN</td>\n",
       "      <td>111251.0</td>\n",
       "      <td>YEARLY</td>\n",
       "      <td>Full-time</td>\n",
       "      <td>Providence, RI</td>\n",
       "      <td>...</td>\n",
       "      <td>1.692730e+12</td>\n",
       "      <td>None</td>\n",
       "      <td>1</td>\n",
       "      <td>FULL_TIME</td>\n",
       "      <td>USD</td>\n",
       "      <td>BASE_SALARY</td>\n",
       "      <td>1</td>\n",
       "      <td>119751.5</td>\n",
       "      <td>The Rhode Island Office of the Attorney Genera...</td>\n",
       "      <td>[\"Trial experience\", \"Supervisory experience\",...</td>\n",
       "    </tr>\n",
       "    <tr>\n",
       "      <th>25611</th>\n",
       "      <td>3697340789</td>\n",
       "      <td>90639.0</td>\n",
       "      <td>Site Civil Engineer</td>\n",
       "      <td>Green Key is looking for a strong site design ...</td>\n",
       "      <td>120000.0</td>\n",
       "      <td>NaN</td>\n",
       "      <td>100000.0</td>\n",
       "      <td>YEARLY</td>\n",
       "      <td>Full-time</td>\n",
       "      <td>New York, NY</td>\n",
       "      <td>...</td>\n",
       "      <td>1.692730e+12</td>\n",
       "      <td>None</td>\n",
       "      <td>1</td>\n",
       "      <td>FULL_TIME</td>\n",
       "      <td>USD</td>\n",
       "      <td>BASE_SALARY</td>\n",
       "      <td>1</td>\n",
       "      <td>110000.0</td>\n",
       "      <td>Green Key is seeking a Civil Engineer with exp...</td>\n",
       "      <td>[\"Autocad\", \"Civil 3D\", \"Stormwater management...</td>\n",
       "    </tr>\n",
       "    <tr>\n",
       "      <th>22215</th>\n",
       "      <td>3699085089</td>\n",
       "      <td>1441.0</td>\n",
       "      <td>Software Engineering Manager II, Google Cloud ...</td>\n",
       "      <td>Note: By applying to this position you will ha...</td>\n",
       "      <td>283000.0</td>\n",
       "      <td>NaN</td>\n",
       "      <td>185000.0</td>\n",
       "      <td>YEARLY</td>\n",
       "      <td>Full-time</td>\n",
       "      <td>Seattle, WA</td>\n",
       "      <td>...</td>\n",
       "      <td>1.692830e+12</td>\n",
       "      <td>careers.google.com</td>\n",
       "      <td>1</td>\n",
       "      <td>FULL_TIME</td>\n",
       "      <td>USD</td>\n",
       "      <td>BASE_SALARY</td>\n",
       "      <td>1</td>\n",
       "      <td>234000.0</td>\n",
       "      <td>Like Google's own ambitions, the work of a Sof...</td>\n",
       "      <td>[\"Bachelor\\u2019s degree or equivalent practic...</td>\n",
       "    </tr>\n",
       "    <tr>\n",
       "      <th>821</th>\n",
       "      <td>3757776363</td>\n",
       "      <td>2908367.0</td>\n",
       "      <td>Licensed Journeyman Electician</td>\n",
       "      <td>Gpac just partnered with a super company to fi...</td>\n",
       "      <td>100000.0</td>\n",
       "      <td>NaN</td>\n",
       "      <td>70000.0</td>\n",
       "      <td>YEARLY</td>\n",
       "      <td>Full-time</td>\n",
       "      <td>San Diego, CA</td>\n",
       "      <td>...</td>\n",
       "      <td>1.699070e+12</td>\n",
       "      <td>usa.applybe.com</td>\n",
       "      <td>0</td>\n",
       "      <td>FULL_TIME</td>\n",
       "      <td>USD</td>\n",
       "      <td>BASE_SALARY</td>\n",
       "      <td>1699138477</td>\n",
       "      <td>85000.0</td>\n",
       "      <td>Gpac has partnered with a company to find Sola...</td>\n",
       "      <td>[\"Journeyman Electrician license\", \"At least 3...</td>\n",
       "    </tr>\n",
       "    <tr>\n",
       "      <th>7506</th>\n",
       "      <td>3757446699</td>\n",
       "      <td>8052981.0</td>\n",
       "      <td>Senior Buyer</td>\n",
       "      <td>ObjectiveBroadband Telecom Power, an EV chargi...</td>\n",
       "      <td>90000.0</td>\n",
       "      <td>NaN</td>\n",
       "      <td>80000.0</td>\n",
       "      <td>YEARLY</td>\n",
       "      <td>Full-time</td>\n",
       "      <td>Santa Ana, CA</td>\n",
       "      <td>...</td>\n",
       "      <td>1.699040e+12</td>\n",
       "      <td>None</td>\n",
       "      <td>0</td>\n",
       "      <td>FULL_TIME</td>\n",
       "      <td>USD</td>\n",
       "      <td>BASE_SALARY</td>\n",
       "      <td>1699039150</td>\n",
       "      <td>85000.0</td>\n",
       "      <td>Broadband Telecom Power, an EV charging equipm...</td>\n",
       "      <td>[\"Bachelor's Degree in Business, Engineering o...</td>\n",
       "    </tr>\n",
       "  </tbody>\n",
       "</table>\n",
       "<p>5 rows × 31 columns</p>\n",
       "</div>"
      ],
      "text/plain": [
       "           job_id  company_id  \\\n",
       "20487  3701151544  20122211.0   \n",
       "25611  3697340789     90639.0   \n",
       "22215  3699085089      1441.0   \n",
       "821    3757776363   2908367.0   \n",
       "7506   3757446699   8052981.0   \n",
       "\n",
       "                                                   title  \\\n",
       "20487  Senior Litigation Attorney/Special Assistant A...   \n",
       "25611                                Site Civil Engineer   \n",
       "22215  Software Engineering Manager II, Google Cloud ...   \n",
       "821                       Licensed Journeyman Electician   \n",
       "7506                                        Senior Buyer   \n",
       "\n",
       "                                             description  max_salary  \\\n",
       "20487  SENIOR LITIGATION ATTORNEY/SPECIAL ASSISTANT A...    128252.0   \n",
       "25611  Green Key is looking for a strong site design ...    120000.0   \n",
       "22215  Note: By applying to this position you will ha...    283000.0   \n",
       "821    Gpac just partnered with a super company to fi...    100000.0   \n",
       "7506   ObjectiveBroadband Telecom Power, an EV chargi...     90000.0   \n",
       "\n",
       "       med_salary  min_salary pay_period formatted_work_type        location  \\\n",
       "20487         NaN    111251.0     YEARLY           Full-time  Providence, RI   \n",
       "25611         NaN    100000.0     YEARLY           Full-time    New York, NY   \n",
       "22215         NaN    185000.0     YEARLY           Full-time     Seattle, WA   \n",
       "821           NaN     70000.0     YEARLY           Full-time   San Diego, CA   \n",
       "7506          NaN     80000.0     YEARLY           Full-time   Santa Ana, CA   \n",
       "\n",
       "       ...   listed_time      posting_domain  sponsored  work_type currency  \\\n",
       "20487  ...  1.692730e+12                None          1  FULL_TIME      USD   \n",
       "25611  ...  1.692730e+12                None          1  FULL_TIME      USD   \n",
       "22215  ...  1.692830e+12  careers.google.com          1  FULL_TIME      USD   \n",
       "821    ...  1.699070e+12     usa.applybe.com          0  FULL_TIME      USD   \n",
       "7506   ...  1.699040e+12                None          0  FULL_TIME      USD   \n",
       "\n",
       "      compensation_type     scraped    salary  \\\n",
       "20487       BASE_SALARY           1  119751.5   \n",
       "25611       BASE_SALARY           1  110000.0   \n",
       "22215       BASE_SALARY           1  234000.0   \n",
       "821         BASE_SALARY  1699138477   85000.0   \n",
       "7506        BASE_SALARY  1699039150   85000.0   \n",
       "\n",
       "                                       short_description  \\\n",
       "20487  The Rhode Island Office of the Attorney Genera...   \n",
       "25611  Green Key is seeking a Civil Engineer with exp...   \n",
       "22215  Like Google's own ambitions, the work of a Sof...   \n",
       "821    Gpac has partnered with a company to find Sola...   \n",
       "7506   Broadband Telecom Power, an EV charging equipm...   \n",
       "\n",
       "                                               skill_set  \n",
       "20487  [\"Trial experience\", \"Supervisory experience\",...  \n",
       "25611  [\"Autocad\", \"Civil 3D\", \"Stormwater management...  \n",
       "22215  [\"Bachelor\\u2019s degree or equivalent practic...  \n",
       "821    [\"Journeyman Electrician license\", \"At least 3...  \n",
       "7506   [\"Bachelor's Degree in Business, Engineering o...  \n",
       "\n",
       "[5 rows x 31 columns]"
      ]
     },
     "execution_count": 1,
     "metadata": {},
     "output_type": "execute_result"
    }
   ],
   "source": [
    "# Data sourced from https://www.kaggle.com/datasets/arshkon/linkedin-job-postings\n",
    "# CC BY-SA 4.0 license\n",
    "# Data cleaned and filtered by Chan Ka Hei\n",
    "import json\n",
    "from pandas import read_parquet\n",
    "from rich import print as rich_print\n",
    "\n",
    "dataset = read_parquet(\n",
    "    'data/job_posting_2023.parquet'\n",
    ")\n",
    "\n",
    "dataset.head()"
   ]
  },
  {
   "cell_type": "code",
   "execution_count": 2,
   "metadata": {},
   "outputs": [],
   "source": [
    "# We will use 'salary' as our target variable.\n",
    "# We will use 'title', 'short_description', 'skill_set', 'location', 'formatted_experience_level' as our input variable.\n",
    "\n",
    "# Remove curreny other than USD\n",
    "dataset.skill_set = dataset.skill_set.apply(lambda x: json.loads(x))\n",
    "x = dataset[\n",
    "    [\n",
    "        'title', \n",
    "        'short_description',\n",
    "        'skill_set',\n",
    "        'location', \n",
    "        'formatted_experience_level', \n",
    "    ]\n",
    "].to_dict(orient='records')\n",
    "\n",
    "\n",
    "y = dataset['salary'].to_list()"
   ]
  },
  {
   "cell_type": "code",
   "execution_count": 3,
   "metadata": {},
   "outputs": [
    {
     "data": {
      "text/html": [
       "<pre style=\"white-space:pre;overflow-x:auto;line-height:normal;font-family:Menlo,'DejaVu Sans Mono',consolas,'Courier New',monospace\"><span style=\"font-weight: bold\">{</span>\n",
       "    <span style=\"color: #008000; text-decoration-color: #008000\">'title'</span>: <span style=\"color: #008000; text-decoration-color: #008000\">'Senior Accountant, MFG in Glendale Hts, Primarily On-site, $85k-$95k'</span>,\n",
       "    <span style=\"color: #008000; text-decoration-color: #008000\">'short_description'</span>: <span style=\"color: #008000; text-decoration-color: #008000\">'Senior Accountant reporting directly to the Corporate Controller. Position will require </span>\n",
       "<span style=\"color: #008000; text-decoration-color: #008000\">person to adapt to a variety of situations both domestic and international. Primary Responsibilities: Perform </span>\n",
       "<span style=\"color: #008000; text-decoration-color: #008000\">account reconciliations and analysis of multi-currency intercompany transactions; Communication with international </span>\n",
       "<span style=\"color: #008000; text-decoration-color: #008000\">accounting staff; Prepare company-wide consolidated financial statements and cash flows; Prepare and maintain books</span>\n",
       "<span style=\"color: #008000; text-decoration-color: #008000\">and records for company divisions; Assist and support the cost accounting functions, including preparation of labor</span>\n",
       "<span style=\"color: #008000; text-decoration-color: #008000\">and overhead updates; Prepare and file various state tax returns, including sales and use tax; Assist in </span>\n",
       "<span style=\"color: #008000; text-decoration-color: #008000\">preparation of audit support schedules; Assist in preparation of the consolidated tax return; Assist with internal </span>\n",
       "<span style=\"color: #008000; text-decoration-color: #008000\">audit travel assignments to international locations.'</span>,\n",
       "    <span style=\"color: #008000; text-decoration-color: #008000\">'skill_set'</span>: <span style=\"font-weight: bold\">[</span>\n",
       "        <span style=\"color: #008000; text-decoration-color: #008000\">'Accounting degree'</span>,\n",
       "        <span style=\"color: #008000; text-decoration-color: #008000\">'CPA preferred'</span>,\n",
       "        <span style=\"color: #008000; text-decoration-color: #008000\">'Accounting generalist background'</span>,\n",
       "        <span style=\"color: #008000; text-decoration-color: #008000\">'Audit experience preferred'</span>,\n",
       "        <span style=\"color: #008000; text-decoration-color: #008000\">'Sales &amp; Use Tax experience'</span>,\n",
       "        <span style=\"color: #008000; text-decoration-color: #008000\">'Advanced Excel'</span>,\n",
       "        <span style=\"color: #008000; text-decoration-color: #008000\">'Ad Hoc reporting - Power BI'</span>\n",
       "    <span style=\"font-weight: bold\">]</span>,\n",
       "    <span style=\"color: #008000; text-decoration-color: #008000\">'location'</span>: <span style=\"color: #008000; text-decoration-color: #008000\">'Glendale Heights, IL'</span>,\n",
       "    <span style=\"color: #008000; text-decoration-color: #008000\">'formatted_experience_level'</span>: <span style=\"color: #008000; text-decoration-color: #008000\">'Associate'</span>\n",
       "<span style=\"font-weight: bold\">}</span>\n",
       "</pre>\n"
      ],
      "text/plain": [
       "\u001b[1m{\u001b[0m\n",
       "    \u001b[32m'title'\u001b[0m: \u001b[32m'Senior Accountant, MFG in Glendale Hts, Primarily On-site, $85k-$95k'\u001b[0m,\n",
       "    \u001b[32m'short_description'\u001b[0m: \u001b[32m'Senior Accountant reporting directly to the Corporate Controller. Position will require \u001b[0m\n",
       "\u001b[32mperson to adapt to a variety of situations both domestic and international. Primary Responsibilities: Perform \u001b[0m\n",
       "\u001b[32maccount reconciliations and analysis of multi-currency intercompany transactions; Communication with international \u001b[0m\n",
       "\u001b[32maccounting staff; Prepare company-wide consolidated financial statements and cash flows; Prepare and maintain books\u001b[0m\n",
       "\u001b[32mand records for company divisions; Assist and support the cost accounting functions, including preparation of labor\u001b[0m\n",
       "\u001b[32mand overhead updates; Prepare and file various state tax returns, including sales and use tax; Assist in \u001b[0m\n",
       "\u001b[32mpreparation of audit support schedules; Assist in preparation of the consolidated tax return; Assist with internal \u001b[0m\n",
       "\u001b[32maudit travel assignments to international locations.'\u001b[0m,\n",
       "    \u001b[32m'skill_set'\u001b[0m: \u001b[1m[\u001b[0m\n",
       "        \u001b[32m'Accounting degree'\u001b[0m,\n",
       "        \u001b[32m'CPA preferred'\u001b[0m,\n",
       "        \u001b[32m'Accounting generalist background'\u001b[0m,\n",
       "        \u001b[32m'Audit experience preferred'\u001b[0m,\n",
       "        \u001b[32m'Sales & Use Tax experience'\u001b[0m,\n",
       "        \u001b[32m'Advanced Excel'\u001b[0m,\n",
       "        \u001b[32m'Ad Hoc reporting - Power BI'\u001b[0m\n",
       "    \u001b[1m]\u001b[0m,\n",
       "    \u001b[32m'location'\u001b[0m: \u001b[32m'Glendale Heights, IL'\u001b[0m,\n",
       "    \u001b[32m'formatted_experience_level'\u001b[0m: \u001b[32m'Associate'\u001b[0m\n",
       "\u001b[1m}\u001b[0m\n"
      ]
     },
     "metadata": {},
     "output_type": "display_data"
    },
    {
     "data": {
      "text/html": [
       "<pre style=\"white-space:pre;overflow-x:auto;line-height:normal;font-family:Menlo,'DejaVu Sans Mono',consolas,'Courier New',monospace\"><span style=\"color: #008080; text-decoration-color: #008080; font-weight: bold\">90000.0</span>\n",
       "</pre>\n"
      ],
      "text/plain": [
       "\u001b[1;36m90000.0\u001b[0m\n"
      ]
     },
     "metadata": {},
     "output_type": "display_data"
    }
   ],
   "source": [
    "# Use AgentX to generate a model that can predict salary based on job title, description, location, and experience level.\n",
    "# This will be the baseline of the optimisation process.\n",
    "\n",
    "from agentx.agent import Agent\n",
    "from agentx.schema import GenerationConfig, Message, Content\n",
    "from dotenv import load_dotenv\n",
    "from random import sample\n",
    "from typing import List, Union\n",
    "from pydantic import BaseModel\n",
    "import os\n",
    "import asyncio\n",
    "\n",
    "load_dotenv()\n",
    "\n",
    "class JobPost(BaseModel):\n",
    "    title: str\n",
    "    short_description: str\n",
    "    skill_set: List[str]\n",
    "    location: Union[str, None]\n",
    "    formatted_experience_level: Union[str, None]\n",
    "\n",
    "class SalaryPrediction(BaseModel):\n",
    "    reasons: str\n",
    "    salary: int\n",
    "\n",
    "generation_config = GenerationConfig(\n",
    "    api_type='azure',\n",
    "    api_key=os.environ.get('AZURE_OPENAI_KEY'),\n",
    "    base_url=os.environ.get('AZURE_OPENAI_ENDPOINT'),\n",
    "    azure_deployment='gpt-35',\n",
    ")\n",
    "\n",
    "salary_prediction_agent = Agent(\n",
    "    name='salary_prediction',\n",
    "    generation_config=generation_config,\n",
    "    system_prompt='''You will predict the salary of a job posting based on the job title, description, location, and experience level.\n",
    "Output JSON format only.''',\n",
    ")\n",
    "\n",
    "# sample a small test set\n",
    "test_set_ids = sample(range(len(x)), 50)\n",
    "rich_print(x[test_set_ids[0]])\n",
    "rich_print(y[test_set_ids[0]])"
   ]
  },
  {
   "cell_type": "code",
   "execution_count": 4,
   "metadata": {},
   "outputs": [],
   "source": [
    "# perform one prediction for sanity check\n",
    "\n",
    "response = salary_prediction_agent.generate_response(\n",
    "    messages=[\n",
    "        Message(\n",
    "            role='user',\n",
    "            content=Content(\n",
    "                text=JobPost(**x[test_set_ids[0]]).model_dump_json(),\n",
    "            )\n",
    "        )\n",
    "    ],\n",
    "    output_model=SalaryPrediction,\n",
    ")"
   ]
  },
  {
   "cell_type": "code",
   "execution_count": 5,
   "metadata": {},
   "outputs": [
    {
     "data": {
      "text/html": [
       "<pre style=\"white-space:pre;overflow-x:auto;line-height:normal;font-family:Menlo,'DejaVu Sans Mono',consolas,'Courier New',monospace\"><span style=\"color: #800080; text-decoration-color: #800080; font-weight: bold\">SalaryPrediction</span><span style=\"font-weight: bold\">(</span>\n",
       "    <span style=\"color: #808000; text-decoration-color: #808000\">reasons</span>=<span style=\"color: #008000; text-decoration-color: #008000\">'The predicted salary is based on the job title, description, location, and experience level.'</span>,\n",
       "    <span style=\"color: #808000; text-decoration-color: #808000\">salary</span>=<span style=\"color: #008080; text-decoration-color: #008080; font-weight: bold\">90000</span>\n",
       "<span style=\"font-weight: bold\">)</span>\n",
       "</pre>\n"
      ],
      "text/plain": [
       "\u001b[1;35mSalaryPrediction\u001b[0m\u001b[1m(\u001b[0m\n",
       "    \u001b[33mreasons\u001b[0m=\u001b[32m'The predicted salary is based on the job title, description, location, and experience level.'\u001b[0m,\n",
       "    \u001b[33msalary\u001b[0m=\u001b[1;36m90000\u001b[0m\n",
       "\u001b[1m)\u001b[0m\n"
      ]
     },
     "metadata": {},
     "output_type": "display_data"
    },
    {
     "data": {
      "text/html": [
       "<pre style=\"white-space:pre;overflow-x:auto;line-height:normal;font-family:Menlo,'DejaVu Sans Mono',consolas,'Courier New',monospace\"><span style=\"font-weight: bold\">{</span><span style=\"color: #008000; text-decoration-color: #008000\">'Actual Salary'</span>: <span style=\"color: #008080; text-decoration-color: #008080; font-weight: bold\">90000.0</span><span style=\"font-weight: bold\">}</span>\n",
       "</pre>\n"
      ],
      "text/plain": [
       "\u001b[1m{\u001b[0m\u001b[32m'Actual Salary'\u001b[0m: \u001b[1;36m90000.0\u001b[0m\u001b[1m}\u001b[0m\n"
      ]
     },
     "metadata": {},
     "output_type": "display_data"
    }
   ],
   "source": [
    "rich_print(\n",
    "    SalaryPrediction.model_validate_json(\n",
    "        response.content.text\n",
    "    )\n",
    ")\n",
    "\n",
    "rich_print(\n",
    "    {\n",
    "        'Actual Salary': y[test_set_ids[0]],\n",
    "    }\n",
    ")"
   ]
  },
  {
   "cell_type": "code",
   "execution_count": 6,
   "metadata": {},
   "outputs": [
    {
     "name": "stderr",
     "output_type": "stream",
     "text": [
      "  0%|          | 0/10 [00:00<?, ?it/s]"
     ]
    },
    {
     "name": "stderr",
     "output_type": "stream",
     "text": [
      "100%|██████████| 10/10 [01:10<00:00,  7.07s/it]\n"
     ]
    }
   ],
   "source": [
    "from tqdm import tqdm\n",
    "\n",
    "responses = []\n",
    "\n",
    "# perform prediction for the test set\n",
    "for index in tqdm(range(0,50,5)):\n",
    "    indices = test_set_ids[index:index+5]\n",
    "    _responses = await asyncio.gather(*[\n",
    "        salary_prediction_agent.a_generate_response(\n",
    "            messages=[\n",
    "                Message(\n",
    "                    role='user',\n",
    "                    content=Content(\n",
    "                        text=JobPost(**datum).model_dump_json(),\n",
    "                    )\n",
    "                )\n",
    "            ],\n",
    "            output_model=SalaryPrediction\n",
    "        ) for datum in [x[i] for i in indices]\n",
    "    ])\n",
    "    responses.extend(_responses)\n",
    "    # avoid rate limiting error\n",
    "    await asyncio.sleep(5)\n",
    "\n",
    "responses = [SalaryPrediction.model_validate_json(response.content.text) if response != None else None for response in responses]"
   ]
  },
  {
   "cell_type": "code",
   "execution_count": 33,
   "metadata": {},
   "outputs": [
    {
     "data": {
      "text/html": [
       "<pre style=\"white-space:pre;overflow-x:auto;line-height:normal;font-family:Menlo,'DejaVu Sans Mono',consolas,'Courier New',monospace\">Root mean square error: <span style=\"color: #008080; text-decoration-color: #008080; font-weight: bold\">36163.482046885845</span> USD\n",
       "</pre>\n"
      ],
      "text/plain": [
       "Root mean square error: \u001b[1;36m36163.482046885845\u001b[0m USD\n"
      ]
     },
     "metadata": {},
     "output_type": "display_data"
    },
    {
     "data": {
      "text/html": [
       "<pre style=\"white-space:pre;overflow-x:auto;line-height:normal;font-family:Menlo,'DejaVu Sans Mono',consolas,'Courier New',monospace\">Average salary sange in the dataset: <span style=\"color: #008080; text-decoration-color: #008080; font-weight: bold\">37361.097090012336</span> USD\n",
       "</pre>\n"
      ],
      "text/plain": [
       "Average salary sange in the dataset: \u001b[1;36m37361.097090012336\u001b[0m USD\n"
      ]
     },
     "metadata": {},
     "output_type": "display_data"
    }
   ],
   "source": [
    "# Let's check how well the agent did\n",
    "import numpy as np\n",
    "\n",
    "def metric(predicted:List[Union[SalaryPrediction, None]], truth:List[float]):\n",
    "    if len(predicted) != len(truth):\n",
    "        raise ValueError('predicted and actual must be the same length')\n",
    "\n",
    "    drop_na = [(p, a) for p, a in zip(predicted, truth) if p != None]\n",
    "    _predicted = [d[0].salary for d in drop_na]\n",
    "    _truth = [d[1] for d in drop_na]\n",
    "    \n",
    "    p = np.array([_predicted])\n",
    "    t = np.array([_truth])\n",
    "    \n",
    "    rmse = np.sqrt(np.mean(np.square(p - t)))\n",
    "    return rmse\n",
    "\n",
    "rmse = metric(\n",
    "    responses,\n",
    "    [y[i] for i in test_set_ids]\n",
    ")\n",
    "\n",
    "rich_print('Root mean square error: {rmse} USD'.format(rmse=rmse))\n",
    "rich_print('Average salary sange in the dataset: {avg} USD'.format(avg=np.mean(np.subtract(dataset.max_salary,dataset.min_salary))))"
   ]
  },
  {
   "cell_type": "code",
   "execution_count": 29,
   "metadata": {},
   "outputs": [
    {
     "data": {
      "text/plain": [
       "<seaborn.axisgrid.JointGrid at 0x1442490d0>"
      ]
     },
     "execution_count": 29,
     "metadata": {},
     "output_type": "execute_result"
    },
    {
     "data": {
      "image/png": "[encoded data removed]",
      "text/plain": [
       "<Figure size 600x600 with 3 Axes>"
      ]
     },
     "metadata": {},
     "output_type": "display_data"
    }
   ],
   "source": [
    "# The agent's error is already within the average salary range in the dataset.\n",
    "# Let's visualize the baseline performace with a scatter plot\n",
    "\n",
    "import seaborn as sns\n",
    "sns.set_theme(style=\"darkgrid\")\n",
    "\n",
    "drop_na = [(p, a) for p, a in zip(responses, [y[i] for i in test_set_ids]) if p != None]\n",
    "_predicted = [float(d[0].salary) for d in drop_na]\n",
    "_truth = [d[1] for d in drop_na]\n",
    "\n",
    "sns.jointplot(\n",
    "    x=_truth,\n",
    "    y=_predicted,\n",
    "    kind='reg',\n",
    ")"
   ]
  },
  {
   "cell_type": "code",
   "execution_count": 27,
   "metadata": {},
   "outputs": [],
   "source": [
    "# Attempts to improve the agent's performance by using textual gradient descent\n",
    "\n",
    "from agentx.optimisers import TextualGradientPromptTrainer\n",
    "\n",
    "reviewer = Agent(\n",
    "    name='reviewer',\n",
    "    generation_config=generation_config,\n",
    "    system_prompt='You are a prompt engineer. Review the given prompt, error samples and give reasons why the prompt have gotten these examples wrong.',\n",
    ")\n",
    "\n",
    "def textual_gradient(\n",
    "    prompt:str,\n",
    "    input:List[JobPost],\n",
    "    predicted:List[Union[SalaryPrediction, None]],\n",
    "    truth:List[float],\n",
    ") -> List[Message]:\n",
    "    errors = [\n",
    "        {\n",
    "            'input': input.model_dump(),\n",
    "            'predicted': predicted.salary if predicted != None else None,\n",
    "            'truth': truth,\n",
    "        } for input, predicted, truth in zip(input, predicted, truth) if predicted != int(truth)\n",
    "    ]\n",
    "\n",
    "    messages = [\n",
    "        Message(\n",
    "            role='user',\n",
    "            content=Content(\n",
    "                text='''Current prompt: {prompt}\n",
    "\n",
    "Errors: {errors}'''.format(prompt=prompt, errors=errors, )\n",
    "            ),\n",
    "        )\n",
    "    ]\n",
    "\n",
    "    response = reviewer.generate_response(\n",
    "        messages=messages\n",
    "    )\n",
    "    \n",
    "    return messages + [response]"
   ]
  },
  {
   "cell_type": "code",
   "execution_count": 29,
   "metadata": {},
   "outputs": [],
   "source": [
    "# test the textual_gradient\n",
    "gradient = textual_gradient(\n",
    "    prompt=sentiment_classification_agent.system_prompt,\n",
    "    input=[datum['title'] for datum in test_set],\n",
    "    predicted=[PricePrediction.model_validate_json(response.content.text) for response in responses],\n",
    "    truth=[PricePrediction(movement=datum.get('price_movement')) for datum in test_set],\n",
    ")"
   ]
  },
  {
   "cell_type": "code",
   "execution_count": 30,
   "metadata": {},
   "outputs": [
    {
     "data": {
      "text/html": [
       "<pre style=\"white-space:pre;overflow-x:auto;line-height:normal;font-family:Menlo,'DejaVu Sans Mono',consolas,'Courier New',monospace\">The given prompt has several issues that have led to incorrect predictions. Here are the reasons why the prompt has\n",
       "gotten these examples wrong:\n",
       "\n",
       "<span style=\"color: #008080; text-decoration-color: #008080; font-weight: bold\">1</span>. Over-reliance on headline sentiment: The prompt solely relies on news headlines to predict the price movement of\n",
       "QQQ. However, headlines can sometimes be misleading or not fully representative of the market sentiment. It is \n",
       "important to consider more comprehensive financial data and market analysis rather than just relying on news \n",
       "headlines.\n",
       "\n",
       "<span style=\"color: #008080; text-decoration-color: #008080; font-weight: bold\">2</span>. Lack of context: News headlines alone may not provide sufficient context for predicting price movements \n",
       "accurately. Market movements are influenced by a wide range of factors including economic indicators, company \n",
       "performance, geopolitical events, and investor sentiment. Without considering these broader contextual factors, it \n",
       "is challenging to make accurate predictions solely based on news headlines.\n",
       "\n",
       "<span style=\"color: #008080; text-decoration-color: #008080; font-weight: bold\">3</span>. Ambiguity in price movement definition: The prompt defines price movement as positive, negative, or neutral, \n",
       "without specifying the degree of movement that would be considered substantial. This lack of specificity can lead \n",
       "to subjective interpretations and inconsistent predictions.\n",
       "\n",
       "<span style=\"color: #008080; text-decoration-color: #008080; font-weight: bold\">4</span>. Inconsistent correlation between news and price movement: The examples demonstrate instances where the predicted\n",
       "price movement based on headlines does not align with the actual price movement. This inconsistency highlights the \n",
       "limitations of using news headlines as the sole basis for price predictions.\n",
       "\n",
       "To improve the accuracy of predictions, the prompt should incorporate broader financial data, market analysis, and \n",
       "contextual factors, while also defining clear criteria for price movement predictions.\n",
       "</pre>\n"
      ],
      "text/plain": [
       "The given prompt has several issues that have led to incorrect predictions. Here are the reasons why the prompt has\n",
       "gotten these examples wrong:\n",
       "\n",
       "\u001b[1;36m1\u001b[0m. Over-reliance on headline sentiment: The prompt solely relies on news headlines to predict the price movement of\n",
       "QQQ. However, headlines can sometimes be misleading or not fully representative of the market sentiment. It is \n",
       "important to consider more comprehensive financial data and market analysis rather than just relying on news \n",
       "headlines.\n",
       "\n",
       "\u001b[1;36m2\u001b[0m. Lack of context: News headlines alone may not provide sufficient context for predicting price movements \n",
       "accurately. Market movements are influenced by a wide range of factors including economic indicators, company \n",
       "performance, geopolitical events, and investor sentiment. Without considering these broader contextual factors, it \n",
       "is challenging to make accurate predictions solely based on news headlines.\n",
       "\n",
       "\u001b[1;36m3\u001b[0m. Ambiguity in price movement definition: The prompt defines price movement as positive, negative, or neutral, \n",
       "without specifying the degree of movement that would be considered substantial. This lack of specificity can lead \n",
       "to subjective interpretations and inconsistent predictions.\n",
       "\n",
       "\u001b[1;36m4\u001b[0m. Inconsistent correlation between news and price movement: The examples demonstrate instances where the predicted\n",
       "price movement based on headlines does not align with the actual price movement. This inconsistency highlights the \n",
       "limitations of using news headlines as the sole basis for price predictions.\n",
       "\n",
       "To improve the accuracy of predictions, the prompt should incorporate broader financial data, market analysis, and \n",
       "contextual factors, while also defining clear criteria for price movement predictions.\n"
      ]
     },
     "metadata": {},
     "output_type": "display_data"
    }
   ],
   "source": [
    "rich_print(gradient[-1].content.text)"
   ]
  },
  {
   "cell_type": "code",
   "execution_count": null,
   "metadata": {},
   "outputs": [],
   "source": [
    "from ray import tune\n",
    "from ray.tune.schedulers import ASHAScheduler"
   ]
  }
 ],
 "metadata": {
  "kernelspec": {
   "display_name": "Python 3",
   "language": "python",
   "name": "python3"
  },
  "language_info": {
   "codemirror_mode": {
    "name": "ipython",
    "version": 3
   },
   "file_extension": ".py",
   "mimetype": "text/x-python",
   "name": "python",
   "nbconvert_exporter": "python",
   "pygments_lexer": "ipython3",
   "version": "3.9.6"
  }
 },
 "nbformat": 4,
 "nbformat_minor": 2
}

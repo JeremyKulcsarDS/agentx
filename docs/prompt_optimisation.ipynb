{
 "cells": [
  {
   "cell_type": "code",
   "execution_count": null,
   "metadata": {},
   "outputs": [],
   "source": [
    "from agentx.optimisers import TextualGradientPromptTrainer\n",
    "from agentx.agent import Agent\n",
    "from agentx.schema import GenerationConfig, Message, Union\n",
    "from typing import List\n",
    "import os\n",
    "\n",
    "generation_config = GenerationConfig(\n",
    "    api_type='azure',\n",
    "    api_key=os.environ.get('AZURE_OPENAI_KEY'),\n",
    "    base_url=os.environ.get('AZURE_OPENAI_ENDPOINT'),\n",
    ")\n",
    "\n",
    "def textual_loss_function(\n",
    "    predict:Union[List[Message], List[List[Message]]],\n",
    "    target:Union[List[Message], List[List[Message]]],\n",
    "):\n",
    "    \n",
    "\n",
    "textual_gradient = Agent(\n",
    "    name='reviewer',\n",
    "    generation_config=generation_config,\n",
    "    system_prompt='You are a prompt engineer. Review the given prompt, error samples and give reasons why the prompt could have gotten these examples wrong.',\n",
    ")"
   ]
  },
  {
   "cell_type": "code",
   "execution_count": null,
   "metadata": {},
   "outputs": [],
   "source": [
    "from ray import tune\n",
    "from ray.tune.schedulers import ASHAScheduler"
   ]
  }
 ],
 "metadata": {
  "language_info": {
   "name": "python"
  }
 },
 "nbformat": 4,
 "nbformat_minor": 2
}

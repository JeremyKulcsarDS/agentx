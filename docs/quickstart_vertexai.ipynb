{
 "cells": [
  {
   "cell_type": "markdown",
   "id": "fa5aa9c5",
   "metadata": {},
   "source": [
    "# AgentX Quickstart\n",
    "\n",
    "Welcome to the XEntropy quickstart guide, your first step in exploring the world of application development with agent-based large language models (or in short, agentic llm).\n",
    "\n",
    "XEntropy is an innovative development platform designed to elevate the ease at which developers can construct intelligent applications. Throughout this tutorial, we will navigate the following key areas:\n",
    "\n",
    "1. **Account creation:** We guide you step-by-step in establishing your XEntropy account:the gateway to a host of agentic llm tools.\n",
    "\n",
    "2. **Loading tools from XEntropy:** Learn how to seamlessly and efficiently import tools from the platform into your environment to kickstart your foray into developing llm agents and intelligent applications.\n",
    "\n",
    "3. **Managing your account:** Your XEntropy account is useful for many things. Learn how to:\n",
    "    - **Purchase credit**: Convenience and accessibility are core to XEntropy. Understand how to replenish your account balance in a straightforward, user-friendly manner.\n",
    "\n",
    "   - **Get paid**: Having created applications or tools that other developers find useful? Here's how to benefit from your creations.\n",
    "\n",
    "   - **Modify and delete tools**: As your skill level advances, so might your tools and applications. Learn how to adjust and remove tools from your portfolio.\n",
    "\n",
    "   - **Utilisation of logs**: Track your progress and rectify mistakes by understanding how to make use of logs effectively.\n",
    "\n",
    "   - **Finetune your own agentic llm**: Capture the essence of your application development ideation by discovering how to fine-tune your personal agentic llm to reach peak performance."
   ]
  },
  {
   "cell_type": "markdown",
   "id": "4c6fac97",
   "metadata": {},
   "source": [
    "## Installation"
   ]
  },
  {
   "cell_type": "code",
   "execution_count": 1,
   "id": "f03f4c9a",
   "metadata": {},
   "outputs": [
    {
     "data": {
      "text/plain": [
       "['C:\\\\Users\\\\jerem\\\\AppData\\\\Roaming\\\\Python\\\\Python310\\\\site-packages/agentx\\\\agent.py',\n",
       " 'C:\\\\Users\\\\jerem\\\\AppData\\\\Roaming\\\\Python\\\\Python310\\\\site-packages/agentx\\\\bedrock_client.py',\n",
       " 'C:\\\\Users\\\\jerem\\\\AppData\\\\Roaming\\\\Python\\\\Python310\\\\site-packages/agentx\\\\client.py',\n",
       " 'C:\\\\Users\\\\jerem\\\\AppData\\\\Roaming\\\\Python\\\\Python310\\\\site-packages/agentx\\\\groupchat.py',\n",
       " 'C:\\\\Users\\\\jerem\\\\AppData\\\\Roaming\\\\Python\\\\Python310\\\\site-packages/agentx\\\\models\\\\.gitignore',\n",
       " 'C:\\\\Users\\\\jerem\\\\AppData\\\\Roaming\\\\Python\\\\Python310\\\\site-packages/agentx\\\\models\\\\__init__.py',\n",
       " 'C:\\\\Users\\\\jerem\\\\AppData\\\\Roaming\\\\Python\\\\Python310\\\\site-packages/agentx\\\\models\\\\__pycache__\\\\__init__.cpython-310.pyc',\n",
       " 'C:\\\\Users\\\\jerem\\\\AppData\\\\Roaming\\\\Python\\\\Python310\\\\site-packages/agentx\\\\oai_client.py',\n",
       " 'C:\\\\Users\\\\jerem\\\\AppData\\\\Roaming\\\\Python\\\\Python310\\\\site-packages/agentx\\\\optimisers.py',\n",
       " 'C:\\\\Users\\\\jerem\\\\AppData\\\\Roaming\\\\Python\\\\Python310\\\\site-packages/agentx\\\\saved_agents.py',\n",
       " 'C:\\\\Users\\\\jerem\\\\AppData\\\\Roaming\\\\Python\\\\Python310\\\\site-packages/agentx\\\\schema.py',\n",
       " 'C:\\\\Users\\\\jerem\\\\AppData\\\\Roaming\\\\Python\\\\Python310\\\\site-packages/agentx\\\\tool.py',\n",
       " 'C:\\\\Users\\\\jerem\\\\AppData\\\\Roaming\\\\Python\\\\Python310\\\\site-packages/agentx\\\\utils.py',\n",
       " 'C:\\\\Users\\\\jerem\\\\AppData\\\\Roaming\\\\Python\\\\Python310\\\\site-packages/agentx\\\\vertexai_client.py',\n",
       " 'C:\\\\Users\\\\jerem\\\\AppData\\\\Roaming\\\\Python\\\\Python310\\\\site-packages/agentx\\\\__init__.py',\n",
       " 'C:\\\\Users\\\\jerem\\\\AppData\\\\Roaming\\\\Python\\\\Python310\\\\site-packages/agentx\\\\__pycache__\\\\agent.cpython-310.pyc',\n",
       " 'C:\\\\Users\\\\jerem\\\\AppData\\\\Roaming\\\\Python\\\\Python310\\\\site-packages/agentx\\\\__pycache__\\\\bedrock_client.cpython-310.pyc',\n",
       " 'C:\\\\Users\\\\jerem\\\\AppData\\\\Roaming\\\\Python\\\\Python310\\\\site-packages/agentx\\\\__pycache__\\\\client.cpython-310.pyc',\n",
       " 'C:\\\\Users\\\\jerem\\\\AppData\\\\Roaming\\\\Python\\\\Python310\\\\site-packages/agentx\\\\__pycache__\\\\groupchat.cpython-310.pyc',\n",
       " 'C:\\\\Users\\\\jerem\\\\AppData\\\\Roaming\\\\Python\\\\Python310\\\\site-packages/agentx\\\\__pycache__\\\\oai_client.cpython-310.pyc',\n",
       " 'C:\\\\Users\\\\jerem\\\\AppData\\\\Roaming\\\\Python\\\\Python310\\\\site-packages/agentx\\\\__pycache__\\\\optimisers.cpython-310.pyc',\n",
       " 'C:\\\\Users\\\\jerem\\\\AppData\\\\Roaming\\\\Python\\\\Python310\\\\site-packages/agentx\\\\__pycache__\\\\saved_agents.cpython-310.pyc',\n",
       " 'C:\\\\Users\\\\jerem\\\\AppData\\\\Roaming\\\\Python\\\\Python310\\\\site-packages/agentx\\\\__pycache__\\\\schema.cpython-310.pyc',\n",
       " 'C:\\\\Users\\\\jerem\\\\AppData\\\\Roaming\\\\Python\\\\Python310\\\\site-packages/agentx\\\\__pycache__\\\\tool.cpython-310.pyc',\n",
       " 'C:\\\\Users\\\\jerem\\\\AppData\\\\Roaming\\\\Python\\\\Python310\\\\site-packages/agentx\\\\__pycache__\\\\utils.cpython-310.pyc',\n",
       " 'C:\\\\Users\\\\jerem\\\\AppData\\\\Roaming\\\\Python\\\\Python310\\\\site-packages/agentx\\\\__pycache__\\\\vertexai_client.cpython-310.pyc',\n",
       " 'C:\\\\Users\\\\jerem\\\\AppData\\\\Roaming\\\\Python\\\\Python310\\\\site-packages/agentx\\\\__pycache__\\\\__init__.cpython-310.pyc']"
      ]
     },
     "execution_count": 1,
     "metadata": {},
     "output_type": "execute_result"
    }
   ],
   "source": [
    "# Install AgentX\n",
    "from distutils.dir_util import copy_tree, remove_tree\n",
    "import os\n",
    "import sys\n",
    "\n",
    "site_packages_path = [x for x in sys.path if x.endswith('site-packages')][0]\n",
    "# remove any existing installation\n",
    "if os.path.exists(f'{site_packages_path}/agentx'):\n",
    "    remove_tree(f'{site_packages_path}/agentx')\n",
    "copy_tree(f'../agentx', f'{site_packages_path}/agentx')"
   ]
  },
  {
   "cell_type": "code",
   "execution_count": 2,
   "id": "25e1482d",
   "metadata": {},
   "outputs": [
    {
     "name": "stdout",
     "output_type": "stream",
     "text": [
      "Requirement already satisfied: python-dotenv~=1.0.0 in c:\\users\\jerem\\appdata\\local\\programs\\python\\python310\\lib\\site-packages (from -r requirements.txt (line 1)) (1.0.0)Note: you may need to restart the kernel to use updated packages.\n"
     ]
    },
    {
     "name": "stderr",
     "output_type": "stream",
     "text": [
      "\n",
      "[notice] A new release of pip is available: 23.1.2 -> 24.0\n",
      "[notice] To update, run: python.exe -m pip install --upgrade pip\n"
     ]
    },
    {
     "name": "stdout",
     "output_type": "stream",
     "text": [
      "\n",
      "Requirement already satisfied: eth-account~=0.10.0 in c:\\users\\jerem\\appdata\\local\\programs\\python\\python310\\lib\\site-packages (from -r requirements.txt (line 2)) (0.10.0)\n",
      "Requirement already satisfied: requests~=2.31.0 in c:\\users\\jerem\\appdata\\local\\programs\\python\\python310\\lib\\site-packages (from -r requirements.txt (line 3)) (2.31.0)\n",
      "Requirement already satisfied: jsonschema~=4.19.2 in c:\\users\\jerem\\appdata\\local\\programs\\python\\python310\\lib\\site-packages (from -r requirements.txt (line 4)) (4.19.2)\n",
      "Requirement already satisfied: defusedxml~=0.7.1 in c:\\users\\jerem\\appdata\\local\\programs\\python\\python310\\lib\\site-packages (from -r requirements.txt (line 5)) (0.7.1)\n",
      "Requirement already satisfied: fastapi~=0.109.0 in c:\\users\\jerem\\appdata\\local\\programs\\python\\python310\\lib\\site-packages (from -r requirements.txt (line 6)) (0.109.0)\n",
      "Requirement already satisfied: pydantic~=2.5.3 in c:\\users\\jerem\\appdata\\local\\programs\\python\\python310\\lib\\site-packages (from -r requirements.txt (line 7)) (2.5.3)\n",
      "Requirement already satisfied: geopy~=2.4.1 in c:\\users\\jerem\\appdata\\local\\programs\\python\\python310\\lib\\site-packages (from -r requirements.txt (line 8)) (2.4.1)\n",
      "Requirement already satisfied: aiohttp~=3.9.1 in c:\\users\\jerem\\appdata\\local\\programs\\python\\python310\\lib\\site-packages (from -r requirements.txt (line 9)) (3.9.1)\n",
      "Requirement already satisfied: tqdm~=4.66.1 in c:\\users\\jerem\\appdata\\local\\programs\\python\\python310\\lib\\site-packages (from -r requirements.txt (line 10)) (4.66.1)\n",
      "Requirement already satisfied: openai~=1.8.0 in c:\\users\\jerem\\appdata\\local\\programs\\python\\python310\\lib\\site-packages (from -r requirements.txt (line 11)) (1.8.0)\n",
      "Requirement already satisfied: boto3~=1.34.22 in c:\\users\\jerem\\appdata\\local\\programs\\python\\python310\\lib\\site-packages (from -r requirements.txt (line 12)) (1.34.28)\n",
      "Requirement already satisfied: google-auth~=2.26.0 in c:\\users\\jerem\\appdata\\local\\programs\\python\\python310\\lib\\site-packages (from -r requirements.txt (line 13)) (2.26.2)\n",
      "Requirement already satisfied: uvicorn~=0.26.0 in c:\\users\\jerem\\appdata\\local\\programs\\python\\python310\\lib\\site-packages (from -r requirements.txt (line 14)) (0.26.0)\n",
      "Requirement already satisfied: pyautogen~=0.2.7 in c:\\users\\jerem\\appdata\\local\\programs\\python\\python310\\lib\\site-packages (from -r requirements.txt (line 15)) (0.2.8)\n",
      "Requirement already satisfied: rich~=13.7.0 in c:\\users\\jerem\\appdata\\local\\programs\\python\\python310\\lib\\site-packages (from -r requirements.txt (line 16)) (13.7.0)\n",
      "Requirement already satisfied: bitarray>=2.4.0 in c:\\users\\jerem\\appdata\\local\\programs\\python\\python310\\lib\\site-packages (from eth-account~=0.10.0->-r requirements.txt (line 2)) (2.9.2)\n",
      "Requirement already satisfied: eth-abi>=4.0.0-b.2 in c:\\users\\jerem\\appdata\\local\\programs\\python\\python310\\lib\\site-packages (from eth-account~=0.10.0->-r requirements.txt (line 2)) (5.0.0)\n",
      "Requirement already satisfied: eth-keyfile>=0.6.0 in c:\\users\\jerem\\appdata\\local\\programs\\python\\python310\\lib\\site-packages (from eth-account~=0.10.0->-r requirements.txt (line 2)) (0.7.0)\n",
      "Requirement already satisfied: eth-keys>=0.4.0 in c:\\users\\jerem\\appdata\\local\\programs\\python\\python310\\lib\\site-packages (from eth-account~=0.10.0->-r requirements.txt (line 2)) (0.5.0)\n",
      "Requirement already satisfied: eth-rlp>=0.3.0 in c:\\users\\jerem\\appdata\\local\\programs\\python\\python310\\lib\\site-packages (from eth-account~=0.10.0->-r requirements.txt (line 2)) (1.0.1)\n",
      "Requirement already satisfied: eth-utils>=2.0.0 in c:\\users\\jerem\\appdata\\local\\programs\\python\\python310\\lib\\site-packages (from eth-account~=0.10.0->-r requirements.txt (line 2)) (3.0.0)\n",
      "Requirement already satisfied: hexbytes<0.4.0,>=0.1.0 in c:\\users\\jerem\\appdata\\local\\programs\\python\\python310\\lib\\site-packages (from eth-account~=0.10.0->-r requirements.txt (line 2)) (0.3.1)\n",
      "Requirement already satisfied: rlp>=1.0.0 in c:\\users\\jerem\\appdata\\local\\programs\\python\\python310\\lib\\site-packages (from eth-account~=0.10.0->-r requirements.txt (line 2)) (4.0.0)\n",
      "Requirement already satisfied: charset-normalizer<4,>=2 in c:\\users\\jerem\\appdata\\local\\programs\\python\\python310\\lib\\site-packages (from requests~=2.31.0->-r requirements.txt (line 3)) (3.1.0)\n",
      "Requirement already satisfied: idna<4,>=2.5 in c:\\users\\jerem\\appdata\\local\\programs\\python\\python310\\lib\\site-packages (from requests~=2.31.0->-r requirements.txt (line 3)) (3.4)\n",
      "Requirement already satisfied: urllib3<3,>=1.21.1 in c:\\users\\jerem\\appdata\\local\\programs\\python\\python310\\lib\\site-packages (from requests~=2.31.0->-r requirements.txt (line 3)) (1.26.16)\n",
      "Requirement already satisfied: certifi>=2017.4.17 in c:\\users\\jerem\\appdata\\local\\programs\\python\\python310\\lib\\site-packages (from requests~=2.31.0->-r requirements.txt (line 3)) (2023.5.7)\n",
      "Requirement already satisfied: attrs>=22.2.0 in c:\\users\\jerem\\appdata\\local\\programs\\python\\python310\\lib\\site-packages (from jsonschema~=4.19.2->-r requirements.txt (line 4)) (23.1.0)\n",
      "Requirement already satisfied: jsonschema-specifications>=2023.03.6 in c:\\users\\jerem\\appdata\\local\\programs\\python\\python310\\lib\\site-packages (from jsonschema~=4.19.2->-r requirements.txt (line 4)) (2023.12.1)\n",
      "Requirement already satisfied: referencing>=0.28.4 in c:\\users\\jerem\\appdata\\local\\programs\\python\\python310\\lib\\site-packages (from jsonschema~=4.19.2->-r requirements.txt (line 4)) (0.32.1)\n",
      "Requirement already satisfied: rpds-py>=0.7.1 in c:\\users\\jerem\\appdata\\local\\programs\\python\\python310\\lib\\site-packages (from jsonschema~=4.19.2->-r requirements.txt (line 4)) (0.17.1)\n",
      "Requirement already satisfied: starlette<0.36.0,>=0.35.0 in c:\\users\\jerem\\appdata\\local\\programs\\python\\python310\\lib\\site-packages (from fastapi~=0.109.0->-r requirements.txt (line 6)) (0.35.1)\n",
      "Requirement already satisfied: typing-extensions>=4.8.0 in c:\\users\\jerem\\appdata\\local\\programs\\python\\python310\\lib\\site-packages (from fastapi~=0.109.0->-r requirements.txt (line 6)) (4.9.0)\n",
      "Requirement already satisfied: annotated-types>=0.4.0 in c:\\users\\jerem\\appdata\\local\\programs\\python\\python310\\lib\\site-packages (from pydantic~=2.5.3->-r requirements.txt (line 7)) (0.6.0)\n",
      "Requirement already satisfied: pydantic-core==2.14.6 in c:\\users\\jerem\\appdata\\local\\programs\\python\\python310\\lib\\site-packages (from pydantic~=2.5.3->-r requirements.txt (line 7)) (2.14.6)\n",
      "Requirement already satisfied: geographiclib<3,>=1.52 in c:\\users\\jerem\\appdata\\local\\programs\\python\\python310\\lib\\site-packages (from geopy~=2.4.1->-r requirements.txt (line 8)) (2.0)\n",
      "Requirement already satisfied: multidict<7.0,>=4.5 in c:\\users\\jerem\\appdata\\local\\programs\\python\\python310\\lib\\site-packages (from aiohttp~=3.9.1->-r requirements.txt (line 9)) (6.0.4)\n",
      "Requirement already satisfied: yarl<2.0,>=1.0 in c:\\users\\jerem\\appdata\\local\\programs\\python\\python310\\lib\\site-packages (from aiohttp~=3.9.1->-r requirements.txt (line 9)) (1.9.2)\n",
      "Requirement already satisfied: frozenlist>=1.1.1 in c:\\users\\jerem\\appdata\\local\\programs\\python\\python310\\lib\\site-packages (from aiohttp~=3.9.1->-r requirements.txt (line 9)) (1.3.3)\n",
      "Requirement already satisfied: aiosignal>=1.1.2 in c:\\users\\jerem\\appdata\\local\\programs\\python\\python310\\lib\\site-packages (from aiohttp~=3.9.1->-r requirements.txt (line 9)) (1.3.1)\n",
      "Requirement already satisfied: async-timeout<5.0,>=4.0 in c:\\users\\jerem\\appdata\\local\\programs\\python\\python310\\lib\\site-packages (from aiohttp~=3.9.1->-r requirements.txt (line 9)) (4.0.2)\n",
      "Requirement already satisfied: colorama in c:\\users\\jerem\\appdata\\local\\programs\\python\\python310\\lib\\site-packages (from tqdm~=4.66.1->-r requirements.txt (line 10)) (0.4.6)\n",
      "Requirement already satisfied: anyio<5,>=3.5.0 in c:\\users\\jerem\\appdata\\local\\programs\\python\\python310\\lib\\site-packages (from openai~=1.8.0->-r requirements.txt (line 11)) (3.7.0)\n",
      "Requirement already satisfied: distro<2,>=1.7.0 in c:\\users\\jerem\\appdata\\local\\programs\\python\\python310\\lib\\site-packages (from openai~=1.8.0->-r requirements.txt (line 11)) (1.9.0)\n",
      "Requirement already satisfied: httpx<1,>=0.23.0 in c:\\users\\jerem\\appdata\\local\\programs\\python\\python310\\lib\\site-packages (from openai~=1.8.0->-r requirements.txt (line 11)) (0.24.1)\n",
      "Requirement already satisfied: sniffio in c:\\users\\jerem\\appdata\\local\\programs\\python\\python310\\lib\\site-packages (from openai~=1.8.0->-r requirements.txt (line 11)) (1.3.0)\n",
      "Requirement already satisfied: botocore<1.35.0,>=1.34.28 in c:\\users\\jerem\\appdata\\local\\programs\\python\\python310\\lib\\site-packages (from boto3~=1.34.22->-r requirements.txt (line 12)) (1.34.28)\n",
      "Requirement already satisfied: jmespath<2.0.0,>=0.7.1 in c:\\users\\jerem\\appdata\\local\\programs\\python\\python310\\lib\\site-packages (from boto3~=1.34.22->-r requirements.txt (line 12)) (1.0.1)\n",
      "Requirement already satisfied: s3transfer<0.11.0,>=0.10.0 in c:\\users\\jerem\\appdata\\local\\programs\\python\\python310\\lib\\site-packages (from boto3~=1.34.22->-r requirements.txt (line 12)) (0.10.0)\n",
      "Requirement already satisfied: cachetools<6.0,>=2.0.0 in c:\\users\\jerem\\appdata\\local\\programs\\python\\python310\\lib\\site-packages (from google-auth~=2.26.0->-r requirements.txt (line 13)) (5.3.1)\n",
      "Requirement already satisfied: pyasn1-modules>=0.2.1 in c:\\users\\jerem\\appdata\\local\\programs\\python\\python310\\lib\\site-packages (from google-auth~=2.26.0->-r requirements.txt (line 13)) (0.3.0)\n",
      "Requirement already satisfied: rsa<5,>=3.1.4 in c:\\users\\jerem\\appdata\\local\\programs\\python\\python310\\lib\\site-packages (from google-auth~=2.26.0->-r requirements.txt (line 13)) (4.9)\n",
      "Requirement already satisfied: click>=7.0 in c:\\users\\jerem\\appdata\\local\\programs\\python\\python310\\lib\\site-packages (from uvicorn~=0.26.0->-r requirements.txt (line 14)) (8.1.3)\n",
      "Requirement already satisfied: h11>=0.8 in c:\\users\\jerem\\appdata\\local\\programs\\python\\python310\\lib\\site-packages (from uvicorn~=0.26.0->-r requirements.txt (line 14)) (0.14.0)\n",
      "Requirement already satisfied: diskcache in c:\\users\\jerem\\appdata\\local\\programs\\python\\python310\\lib\\site-packages (from pyautogen~=0.2.7->-r requirements.txt (line 15)) (5.6.3)\n",
      "Requirement already satisfied: docker in c:\\users\\jerem\\appdata\\local\\programs\\python\\python310\\lib\\site-packages (from pyautogen~=0.2.7->-r requirements.txt (line 15)) (6.1.3)\n",
      "Requirement already satisfied: flaml in c:\\users\\jerem\\appdata\\local\\programs\\python\\python310\\lib\\site-packages (from pyautogen~=0.2.7->-r requirements.txt (line 15)) (2.1.1)\n",
      "Requirement already satisfied: termcolor in c:\\users\\jerem\\appdata\\local\\programs\\python\\python310\\lib\\site-packages (from pyautogen~=0.2.7->-r requirements.txt (line 15)) (2.4.0)\n",
      "Requirement already satisfied: tiktoken in c:\\users\\jerem\\appdata\\local\\programs\\python\\python310\\lib\\site-packages (from pyautogen~=0.2.7->-r requirements.txt (line 15)) (0.5.2)\n",
      "Requirement already satisfied: markdown-it-py>=2.2.0 in c:\\users\\jerem\\appdata\\local\\programs\\python\\python310\\lib\\site-packages (from rich~=13.7.0->-r requirements.txt (line 16)) (3.0.0)\n",
      "Requirement already satisfied: pygments<3.0.0,>=2.13.0 in c:\\users\\jerem\\appdata\\local\\programs\\python\\python310\\lib\\site-packages (from rich~=13.7.0->-r requirements.txt (line 16)) (2.15.1)\n",
      "Requirement already satisfied: exceptiongroup in c:\\users\\jerem\\appdata\\local\\programs\\python\\python310\\lib\\site-packages (from anyio<5,>=3.5.0->openai~=1.8.0->-r requirements.txt (line 11)) (1.1.1)\n",
      "Requirement already satisfied: python-dateutil<3.0.0,>=2.1 in c:\\users\\jerem\\appdata\\local\\programs\\python\\python310\\lib\\site-packages (from botocore<1.35.0,>=1.34.28->boto3~=1.34.22->-r requirements.txt (line 12)) (2.8.2)\n",
      "Requirement already satisfied: eth-typing>=3.0.0 in c:\\users\\jerem\\appdata\\local\\programs\\python\\python310\\lib\\site-packages (from eth-abi>=4.0.0-b.2->eth-account~=0.10.0->-r requirements.txt (line 2)) (4.0.0)\n",
      "Requirement already satisfied: parsimonious<0.10.0,>=0.9.0 in c:\\users\\jerem\\appdata\\local\\programs\\python\\python310\\lib\\site-packages (from eth-abi>=4.0.0-b.2->eth-account~=0.10.0->-r requirements.txt (line 2)) (0.9.0)\n",
      "Requirement already satisfied: pycryptodome<4,>=3.6.6 in c:\\users\\jerem\\appdata\\local\\programs\\python\\python310\\lib\\site-packages (from eth-keyfile>=0.6.0->eth-account~=0.10.0->-r requirements.txt (line 2)) (3.20.0)\n",
      "Requirement already satisfied: eth-hash>=0.3.1 in c:\\users\\jerem\\appdata\\local\\programs\\python\\python310\\lib\\site-packages (from eth-utils>=2.0.0->eth-account~=0.10.0->-r requirements.txt (line 2)) (0.6.0)\n",
      "Requirement already satisfied: cytoolz>=0.10.1 in c:\\users\\jerem\\appdata\\local\\programs\\python\\python310\\lib\\site-packages (from eth-utils>=2.0.0->eth-account~=0.10.0->-r requirements.txt (line 2)) (0.12.3)\n",
      "Requirement already satisfied: httpcore<0.18.0,>=0.15.0 in c:\\users\\jerem\\appdata\\local\\programs\\python\\python310\\lib\\site-packages (from httpx<1,>=0.23.0->openai~=1.8.0->-r requirements.txt (line 11)) (0.17.2)\n",
      "Requirement already satisfied: mdurl~=0.1 in c:\\users\\jerem\\appdata\\local\\programs\\python\\python310\\lib\\site-packages (from markdown-it-py>=2.2.0->rich~=13.7.0->-r requirements.txt (line 16)) (0.1.2)\n",
      "Requirement already satisfied: pyasn1<0.6.0,>=0.4.6 in c:\\users\\jerem\\appdata\\local\\programs\\python\\python310\\lib\\site-packages (from pyasn1-modules>=0.2.1->google-auth~=2.26.0->-r requirements.txt (line 13)) (0.5.0)\n",
      "Requirement already satisfied: packaging>=14.0 in c:\\users\\jerem\\appdata\\local\\programs\\python\\python310\\lib\\site-packages (from docker->pyautogen~=0.2.7->-r requirements.txt (line 15)) (23.0)\n",
      "Requirement already satisfied: websocket-client>=0.32.0 in c:\\users\\jerem\\appdata\\local\\programs\\python\\python310\\lib\\site-packages (from docker->pyautogen~=0.2.7->-r requirements.txt (line 15)) (1.6.1)\n",
      "Requirement already satisfied: pywin32>=304 in c:\\users\\jerem\\appdata\\local\\programs\\python\\python310\\lib\\site-packages (from docker->pyautogen~=0.2.7->-r requirements.txt (line 15)) (306)\n",
      "Requirement already satisfied: NumPy>=1.17.0rc1 in c:\\users\\jerem\\appdata\\local\\programs\\python\\python310\\lib\\site-packages (from flaml->pyautogen~=0.2.7->-r requirements.txt (line 15)) (1.24.3)\n",
      "Requirement already satisfied: regex>=2022.1.18 in c:\\users\\jerem\\appdata\\local\\programs\\python\\python310\\lib\\site-packages (from tiktoken->pyautogen~=0.2.7->-r requirements.txt (line 15)) (2023.12.25)\n",
      "Requirement already satisfied: toolz>=0.8.0 in c:\\users\\jerem\\appdata\\local\\programs\\python\\python310\\lib\\site-packages (from cytoolz>=0.10.1->eth-utils>=2.0.0->eth-account~=0.10.0->-r requirements.txt (line 2)) (0.12.1)\n",
      "Requirement already satisfied: six>=1.5 in c:\\users\\jerem\\appdata\\local\\programs\\python\\python310\\lib\\site-packages (from python-dateutil<3.0.0,>=2.1->botocore<1.35.0,>=1.34.28->boto3~=1.34.22->-r requirements.txt (line 12)) (1.16.0)\n"
     ]
    }
   ],
   "source": [
    "# Install dependencies to complete this tutorial\n",
    "%pip install -r requirements.txt"
   ]
  },
  {
   "cell_type": "markdown",
   "id": "11aaa7f7",
   "metadata": {},
   "source": [
    "## Create your account"
   ]
  },
  {
   "cell_type": "code",
   "execution_count": 3,
   "id": "9b0c4bba",
   "metadata": {},
   "outputs": [],
   "source": [
    "from agentx.client import Client"
   ]
  },
  {
   "cell_type": "code",
   "execution_count": 3,
   "id": "417b020b",
   "metadata": {},
   "outputs": [],
   "source": [
    "account_creation = Client.create_account(\n",
    "    user_id='Fonanslrogornfk', # replace with your own user_id\n",
    "    email='jeremy.kulcsar@diamondhill.io' # replace with your email\n",
    ")"
   ]
  },
  {
   "cell_type": "code",
   "execution_count": 5,
   "id": "8c132ed5",
   "metadata": {},
   "outputs": [
    {
     "name": "stdout",
     "output_type": "stream",
     "text": [
      "{'detail': {'exception': 'user-id \"Fonanslrogornfk\" already taken.'}}\n"
     ]
    }
   ],
   "source": [
    "print(account_creation)"
   ]
  },
  {
   "cell_type": "code",
   "execution_count": 10,
   "id": "102cebae",
   "metadata": {},
   "outputs": [],
   "source": [
    "email_code_received = 'EMAIL_CODE' # replace with the code you received in your email\n",
    "api_key = account_creation['api_key'].replace('<EMAIL_CODE>', email_code_received)"
   ]
  },
  {
   "cell_type": "code",
   "execution_count": 11,
   "id": "93df934d",
   "metadata": {},
   "outputs": [
    {
     "name": "stdout",
     "output_type": "stream",
     "text": [
      "None\n"
     ]
    }
   ],
   "source": [
    "# print the api_key so you can \n",
    "print(api_key)"
   ]
  },
  {
   "cell_type": "markdown",
   "id": "82c7f30f",
   "metadata": {},
   "source": [
    "## Loading tools from XEntropy\n",
    "\n",
    "Agentic LLM is valuable in deducing, predicting, and problem-solving tasks where results need to be accomplished through sequential midsteps. When applying this pattern, you need to consider the following:\n",
    "\n",
    "1. Define a clear Objective: This is the end goal that the agent wants to achieve. Explicitly specifying the objective helps guide the agent throughout the process.\n",
    "\n",
    "2. Break down the Problem: Define the context of the problem in chunks that the model can handle within its cognitive limit. This will facilitate better understanding and allow the model to take it one step at a time. You can create an agent for each chunk to faciliate the process. Refer to `composite-agents-tool` for more information.\n",
    "\n",
    "3. Formulate Actionable Steps: The agent needs to have means or steps to achieve the objective. Search on XEntropy to see if you can utilize existing tools to help with the process. If not, you can create your own tools to help with the process.\n",
    "\n",
    "4. Monitor Progress: Track the progress of the model in each step to make sure it is on track and making progress towards the objective. If not, adjustments might be necessary.\n",
    "\n",
    "Addressing Hallucination: One of the challenges with LLMs is that they may end up creating information that is not accurate, also known as hallucinating. This can be managed in the following ways:\n",
    "\n",
    "1. Utilize Verifiable Sources: Whenever possible, try feeding the model with prompt that encourages the use of verifiable sources or requires the provision of source-based information. This increases the probability of information accuracy. You may refer to `rag-tool` and `api-tool` for more information.\n",
    "\n",
    "2. Use Continual Feedback Loop: Applying a feedback loop between the user and the model’s output also helps in curbing hallucination issues. If the model’s output is incorrect, it can be traced back, analyzed, and altered.\n",
    "\n",
    "3. External Calculation and Validation: For tasks that require high preciseness and accuracy, external computations should be conducted. Also, results generated by the model should be cross-verified with facts. You may refer to `logic-tool` for more information.\n",
    "\n",
    "\n",
    "You can import specific tools from XEntropy, which are designed to provide updated and accurate information, alleviate model hallucination, and help with external calculations. These can be easily integrated into your existing applications and designed workflows to foster effective problem-solving using agentic LLM."
   ]
  },
  {
   "cell_type": "code",
   "execution_count": 4,
   "id": "cd6652e4",
   "metadata": {},
   "outputs": [
    {
     "data": {
      "text/plain": [
       "True"
      ]
     },
     "execution_count": 4,
     "metadata": {},
     "output_type": "execute_result"
    }
   ],
   "source": [
    "# load environment variables\n",
    "from dotenv import load_dotenv\n",
    "\n",
    "load_dotenv()"
   ]
  },
  {
   "cell_type": "markdown",
   "id": "c0ddde11",
   "metadata": {},
   "source": [
    "### XEntropy Marketplace\n",
    "XEntropy maintains a marketplace for tools. You can search suitable tools to complete an objective."
   ]
  },
  {
   "cell_type": "code",
   "execution_count": 5,
   "id": "d08ee459",
   "metadata": {},
   "outputs": [
    {
     "data": {
      "text/plain": [
       "{'title': 'SearchQuery',\n",
       " 'type': 'object',\n",
       " 'properties': {'query': {'title': 'Query', 'type': 'string'}},\n",
       " 'required': ['query']}"
      ]
     },
     "execution_count": 5,
     "metadata": {},
     "output_type": "execute_result"
    }
   ],
   "source": [
    "from agentx.tool import Tool\n",
    "import os\n",
    "\n",
    "tool_search = Tool.load(\n",
    "    'xentropy--tool_search', \n",
    "    api_key=os.environ.get('XENTROPY_API_KEY')\n",
    ")\n",
    "\n",
    "# display the function call schema\n",
    "tool_search.input_json_schema"
   ]
  },
  {
   "cell_type": "code",
   "execution_count": 6,
   "id": "3265998e",
   "metadata": {},
   "outputs": [
    {
     "data": {
      "text/html": [
       "<pre style=\"white-space:pre;overflow-x:auto;line-height:normal;font-family:Menlo,'DejaVu Sans Mono',consolas,'Courier New',monospace\"><span style=\"font-weight: bold\">[</span>\n",
       "    <span style=\"font-weight: bold\">{</span>\n",
       "        <span style=\"color: #008000; text-decoration-color: #008000\">'tool_id'</span>: <span style=\"color: #008000; text-decoration-color: #008000\">'xentropy--geocoding'</span>,\n",
       "        <span style=\"color: #008000; text-decoration-color: #008000\">'description'</span>: <span style=\"color: #008000; text-decoration-color: #008000\">'Retrieve the latitude and longitude given an address using the highly accurate Google Map </span>\n",
       "<span style=\"color: #008000; text-decoration-color: #008000\">API.'</span>,\n",
       "        <span style=\"color: #008000; text-decoration-color: #008000\">'score'</span>: <span style=\"color: #008080; text-decoration-color: #008080; font-weight: bold\">0.85867697</span>\n",
       "    <span style=\"font-weight: bold\">}</span>,\n",
       "    <span style=\"font-weight: bold\">{</span>\n",
       "        <span style=\"color: #008000; text-decoration-color: #008000\">'tool_id'</span>: <span style=\"color: #008000; text-decoration-color: #008000\">'xentropy--geodesic'</span>,\n",
       "        <span style=\"color: #008000; text-decoration-color: #008000\">'description'</span>: <span style=\"color: #008000; text-decoration-color: #008000\">'Calculate the earth surface distance between two latitude and longitude coordinate'</span>,\n",
       "        <span style=\"color: #008000; text-decoration-color: #008000\">'score'</span>: <span style=\"color: #008080; text-decoration-color: #008080; font-weight: bold\">0.792058647</span>\n",
       "    <span style=\"font-weight: bold\">}</span>,\n",
       "    <span style=\"font-weight: bold\">{</span>\n",
       "        <span style=\"color: #008000; text-decoration-color: #008000\">'tool_id'</span>: <span style=\"color: #008000; text-decoration-color: #008000\">'xentropy--restaurant_search'</span>,\n",
       "        <span style=\"color: #008000; text-decoration-color: #008000\">'description'</span>: <span style=\"color: #008000; text-decoration-color: #008000\">'Search restaurants based on food preference, location, and other user requirements. </span>\n",
       "<span style=\"color: #008000; text-decoration-color: #008000\">Examples: {\"include_type\": \"korean_restaurant\", \"query\": \"Korean barbeque in Mountain View with spacious seating </span>\n",
       "<span style=\"color: #008000; text-decoration-color: #008000\">and good service\"}'</span>,\n",
       "        <span style=\"color: #008000; text-decoration-color: #008000\">'score'</span>: <span style=\"color: #008080; text-decoration-color: #008080; font-weight: bold\">0.719365895</span>\n",
       "    <span style=\"font-weight: bold\">}</span>,\n",
       "    <span style=\"font-weight: bold\">{</span>\n",
       "        <span style=\"color: #008000; text-decoration-color: #008000\">'tool_id'</span>: <span style=\"color: #008000; text-decoration-color: #008000\">'xentropy--tool_search'</span>,\n",
       "        <span style=\"color: #008000; text-decoration-color: #008000\">'description'</span>: <span style=\"color: #008000; text-decoration-color: #008000\">'Search for relevant tools to accomplish a task.'</span>,\n",
       "        <span style=\"color: #008000; text-decoration-color: #008000\">'score'</span>: <span style=\"color: #008080; text-decoration-color: #008080; font-weight: bold\">0.686780155</span>\n",
       "    <span style=\"font-weight: bold\">}</span>,\n",
       "    <span style=\"font-weight: bold\">{</span>\n",
       "        <span style=\"color: #008000; text-decoration-color: #008000\">'tool_id'</span>: <span style=\"color: #008000; text-decoration-color: #008000\">'xentropy--etf_search'</span>,\n",
       "        <span style=\"color: #008000; text-decoration-color: #008000\">'description'</span>: <span style=\"color: #008000; text-decoration-color: #008000\">'Search for ETFs that satisfy a given description.'</span>,\n",
       "        <span style=\"color: #008000; text-decoration-color: #008000\">'score'</span>: <span style=\"color: #008080; text-decoration-color: #008080; font-weight: bold\">0.674237192</span>\n",
       "    <span style=\"font-weight: bold\">}</span>,\n",
       "    <span style=\"font-weight: bold\">{</span>\n",
       "        <span style=\"color: #008000; text-decoration-color: #008000\">'tool_id'</span>: <span style=\"color: #008000; text-decoration-color: #008000\">'xentropy--question_answering_by_product_brochure'</span>,\n",
       "        <span style=\"color: #008000; text-decoration-color: #008000\">'description'</span>: <span style=\"color: #008000; text-decoration-color: #008000\">'Base on an insurance product brochure answer the query page by page.'</span>,\n",
       "        <span style=\"color: #008000; text-decoration-color: #008000\">'score'</span>: <span style=\"color: #008080; text-decoration-color: #008080; font-weight: bold\">0.668316543</span>\n",
       "    <span style=\"font-weight: bold\">}</span>\n",
       "<span style=\"font-weight: bold\">]</span>\n",
       "</pre>\n"
      ],
      "text/plain": [
       "\u001b[1m[\u001b[0m\n",
       "    \u001b[1m{\u001b[0m\n",
       "        \u001b[32m'tool_id'\u001b[0m: \u001b[32m'xentropy--geocoding'\u001b[0m,\n",
       "        \u001b[32m'description'\u001b[0m: \u001b[32m'Retrieve the latitude and longitude given an address using the highly accurate Google Map \u001b[0m\n",
       "\u001b[32mAPI.'\u001b[0m,\n",
       "        \u001b[32m'score'\u001b[0m: \u001b[1;36m0.85867697\u001b[0m\n",
       "    \u001b[1m}\u001b[0m,\n",
       "    \u001b[1m{\u001b[0m\n",
       "        \u001b[32m'tool_id'\u001b[0m: \u001b[32m'xentropy--geodesic'\u001b[0m,\n",
       "        \u001b[32m'description'\u001b[0m: \u001b[32m'Calculate the earth surface distance between two latitude and longitude coordinate'\u001b[0m,\n",
       "        \u001b[32m'score'\u001b[0m: \u001b[1;36m0.792058647\u001b[0m\n",
       "    \u001b[1m}\u001b[0m,\n",
       "    \u001b[1m{\u001b[0m\n",
       "        \u001b[32m'tool_id'\u001b[0m: \u001b[32m'xentropy--restaurant_search'\u001b[0m,\n",
       "        \u001b[32m'description'\u001b[0m: \u001b[32m'Search restaurants based on food preference, location, and other user requirements. \u001b[0m\n",
       "\u001b[32mExamples: \u001b[0m\u001b[32m{\u001b[0m\u001b[32m\"include_type\": \"korean_restaurant\", \"query\": \"Korean barbeque in Mountain View with spacious seating \u001b[0m\n",
       "\u001b[32mand good service\"\u001b[0m\u001b[32m}\u001b[0m\u001b[32m'\u001b[0m,\n",
       "        \u001b[32m'score'\u001b[0m: \u001b[1;36m0.719365895\u001b[0m\n",
       "    \u001b[1m}\u001b[0m,\n",
       "    \u001b[1m{\u001b[0m\n",
       "        \u001b[32m'tool_id'\u001b[0m: \u001b[32m'xentropy--tool_search'\u001b[0m,\n",
       "        \u001b[32m'description'\u001b[0m: \u001b[32m'Search for relevant tools to accomplish a task.'\u001b[0m,\n",
       "        \u001b[32m'score'\u001b[0m: \u001b[1;36m0.686780155\u001b[0m\n",
       "    \u001b[1m}\u001b[0m,\n",
       "    \u001b[1m{\u001b[0m\n",
       "        \u001b[32m'tool_id'\u001b[0m: \u001b[32m'xentropy--etf_search'\u001b[0m,\n",
       "        \u001b[32m'description'\u001b[0m: \u001b[32m'Search for ETFs that satisfy a given description.'\u001b[0m,\n",
       "        \u001b[32m'score'\u001b[0m: \u001b[1;36m0.674237192\u001b[0m\n",
       "    \u001b[1m}\u001b[0m,\n",
       "    \u001b[1m{\u001b[0m\n",
       "        \u001b[32m'tool_id'\u001b[0m: \u001b[32m'xentropy--question_answering_by_product_brochure'\u001b[0m,\n",
       "        \u001b[32m'description'\u001b[0m: \u001b[32m'Base on an insurance product brochure answer the query page by page.'\u001b[0m,\n",
       "        \u001b[32m'score'\u001b[0m: \u001b[1;36m0.668316543\u001b[0m\n",
       "    \u001b[1m}\u001b[0m\n",
       "\u001b[1m]\u001b[0m\n"
      ]
     },
     "metadata": {},
     "output_type": "display_data"
    }
   ],
   "source": [
    "from rich import print as rich_print\n",
    "import json\n",
    "# run the tool\n",
    "rich_print(\n",
    "    json.loads(\n",
    "        tool_search.run(query='convert an address to geolocation')\n",
    "    )\n",
    ")"
   ]
  },
  {
   "cell_type": "code",
   "execution_count": 7,
   "id": "6913ddbb",
   "metadata": {},
   "outputs": [],
   "source": [
    "# Get a tool that converts address to latitude longitude coordinate\n",
    "geocoding = Tool.load('xentropy--geocoding', api_key=os.environ.get('XENTROPY_API_KEY'))\n",
    "# Get a tool that computes the earth surface distance between two coordinates\n",
    "geodesic = Tool.load('xentropy--geodesic', api_key=os.environ.get('XENTROPY_API_KEY'))"
   ]
  },
  {
   "cell_type": "markdown",
   "id": "59fca493",
   "metadata": {},
   "source": [
    "## Creating Agents with the loaded tools"
   ]
  },
  {
   "cell_type": "code",
   "execution_count": 16,
   "id": "30226af1",
   "metadata": {},
   "outputs": [],
   "source": [
    "from agentx.agent import Agent\n",
    "from agentx.schema import GenerationConfig, Message, Content\n",
    "from typing import List\n",
    "\n",
    "tools = [geocoding, geodesic]\n",
    "\n",
    "generation_config = GenerationConfig(\n",
    "    api_type='vertexai',\n",
    "    path_to_google_service_account_json='vertex_ai_creds.json',\n",
    "    google_application_credential_scope=['https://www.googleapis.com/auth/cloud-platform'],\n",
    "    region='asia-northeast3',\n",
    ")\n",
    "\n",
    "# replace with your own azure deployment to choose different models\n",
    "generation_config.model = 'gemini-pro'\n",
    "\n",
    "# define a termination function\n",
    "# once the agent execute the geodesic tool, the conversation ends\n",
    "def terminate(history:List[Message]):\n",
    "    tool_response_name = [\n",
    "        message.content.tool_response.name for message in history if message.content.tool_response\n",
    "    ]\n",
    "    if 'xentropy--geodesic' in tool_response_name:\n",
    "        return True\n",
    "    return False\n",
    "    \n",
    "# define the agent\n",
    "agent = Agent(\n",
    "    name='agent',\n",
    "    generation_config=generation_config,\n",
    "    system_prompt=None,#'Use the functions you have been provided to solve the problem. Reply TERMINATE to end the conversation when the problem is solved.',\n",
    "    tools = tools,\n",
    "    termination_function=terminate,\n",
    ")"
   ]
  },
  {
   "cell_type": "code",
   "execution_count": 17,
   "id": "b3ff7ece",
   "metadata": {},
   "outputs": [],
   "source": [
    "# the agent is ready to generate messages\n",
    "messages = [\n",
    "    Message(\n",
    "        role='user',\n",
    "        content=Content(\n",
    "            text='What is the distance between Gare Port La Goulette - Sud in Tunisia and Porto di Napoli in Italy?',\n",
    "        ),\n",
    "    )\n",
    "]"
   ]
  },
  {
   "cell_type": "code",
   "execution_count": 18,
   "id": "8f2bb1bd",
   "metadata": {},
   "outputs": [
    {
     "name": "stdout",
     "output_type": "stream",
     "text": [
      "[Message(role='user', content=Content(text='What is the distance between Gare Port La Goulette - Sud in Tunisia and Porto di Napoli in Italy?', files=None, urls=None, tool_calls=None, tool_response=None), name=None)]\n",
      "contents:\n",
      "[{'role': 'user', 'parts': [{'text': 'What is the distance between Gare Port La Goulette - Sud in Tunisia and Porto di Napoli in Italy?'}]}]\n",
      "request_body:\n",
      "{'contents': [{'role': 'user', 'parts': [{'text': 'What is the distance between Gare Port La Goulette - Sud in Tunisia and Porto di Napoli in Italy?'}]}]}\n",
      "asia-northeast3\n",
      "cedar-code-413609\n",
      "gemini-pro\n",
      "response:\n",
      "<Response [200]>\n",
      "message:\n",
      "[{'candidates': [{'content': {'role': 'model', 'parts': [{'text': 'There is no sea route between Gare Port La Goulette - Sud in Tunisia and Porto di Napoli in Italy. The two ports are separated by the Mediterranean Sea and'}]}, 'safetyRatings': [{'category': 'HARM_CATEGORY_HARASSMENT', 'probability': 'NEGLIGIBLE'}, {'category': 'HARM_CATEGORY_HATE_SPEECH', 'probability': 'NEGLIGIBLE'}, {'category': 'HARM_CATEGORY_SEXUALLY_EXPLICIT', 'probability': 'NEGLIGIBLE'}, {'category': 'HARM_CATEGORY_DANGEROUS_CONTENT', 'probability': 'NEGLIGIBLE'}]}]}, {'candidates': [{'content': {'role': 'model', 'parts': [{'text': ' there are no direct ferries or passenger services connecting them.'}]}, 'finishReason': 'STOP', 'safetyRatings': [{'category': 'HARM_CATEGORY_HARASSMENT', 'probability': 'NEGLIGIBLE'}, {'category': 'HARM_CATEGORY_HATE_SPEECH', 'probability': 'NEGLIGIBLE'}, {'category': 'HARM_CATEGORY_SEXUALLY_EXPLICIT', 'probability': 'NEGLIGIBLE'}, {'category': 'HARM_CATEGORY_DANGEROUS_CONTENT', 'probability': 'NEGLIGIBLE'}]}], 'usageMetadata': {'promptTokenCount': 21, 'candidatesTokenCount': 43, 'totalTokenCount': 64}}]\n"
     ]
    },
    {
     "ename": "AttributeError",
     "evalue": "'list' object has no attribute 'name'",
     "output_type": "error",
     "traceback": [
      "\u001b[1;31m---------------------------------------------------------------------------\u001b[0m",
      "\u001b[1;31mAttributeError\u001b[0m                            Traceback (most recent call last)",
      "Cell \u001b[1;32mIn[18], line 7\u001b[0m\n\u001b[0;32m      5\u001b[0m \u001b[38;5;28;01mfor\u001b[39;00m i \u001b[38;5;129;01min\u001b[39;00m \u001b[38;5;28mrange\u001b[39m(max_iterations):\n\u001b[0;32m      6\u001b[0m     \u001b[38;5;28mprint\u001b[39m(messages)\n\u001b[1;32m----> 7\u001b[0m     response \u001b[38;5;241m=\u001b[39m \u001b[43magent\u001b[49m\u001b[38;5;241;43m.\u001b[39;49m\u001b[43mgenerate_response\u001b[49m\u001b[43m(\u001b[49m\u001b[43mmessages\u001b[49m\u001b[43m)\u001b[49m\n\u001b[0;32m      8\u001b[0m     \u001b[38;5;28mprint\u001b[39m(\u001b[38;5;124m'\u001b[39m\u001b[38;5;124mresponse:\u001b[39m\u001b[38;5;124m'\u001b[39m\u001b[38;5;241m+\u001b[39mresponse)\n\u001b[0;32m      9\u001b[0m     \u001b[38;5;66;03m# termination condition is met\u001b[39;00m\n",
      "File \u001b[1;32m~\\AppData\\Roaming\\Python\\Python310\\site-packages\\agentx\\agent.py:131\u001b[0m, in \u001b[0;36mAgent.generate_response\u001b[1;34m(self, messages, output_model)\u001b[0m\n\u001b[0;32m    129\u001b[0m \u001b[38;5;28;01mif\u001b[39;00m message \u001b[38;5;129;01mis\u001b[39;00m \u001b[38;5;28;01mNone\u001b[39;00m:\n\u001b[0;32m    130\u001b[0m     \u001b[38;5;28;01mreturn\u001b[39;00m \u001b[38;5;28;01mNone\u001b[39;00m\n\u001b[1;32m--> 131\u001b[0m \u001b[43mmessage\u001b[49m\u001b[38;5;241;43m.\u001b[39;49m\u001b[43mname\u001b[49m \u001b[38;5;241m=\u001b[39m \u001b[38;5;28mself\u001b[39m\u001b[38;5;241m.\u001b[39mname\n\u001b[0;32m    133\u001b[0m generated_messages:List[Message] \u001b[38;5;241m=\u001b[39m [message]\n\u001b[0;32m    135\u001b[0m \u001b[38;5;66;03m# tool calls\u001b[39;00m\n",
      "\u001b[1;31mAttributeError\u001b[0m: 'list' object has no attribute 'name'"
     ]
    }
   ],
   "source": [
    "# use the agent to use geocoding and geodesic to find earth surface distance between two locations\n",
    "\n",
    "max_iterations = 10\n",
    "\n",
    "for i in range(max_iterations):\n",
    "    print(messages)\n",
    "    response = agent.generate_response(messages)\n",
    "    print('response:'+response)\n",
    "    # termination condition is met\n",
    "    if response == None:\n",
    "        break\n",
    "    else:\n",
    "        [rich_print(r.model_dump(exclude_unset=True)) for r in response]\n",
    "    messages += response"
   ]
  },
  {
   "cell_type": "markdown",
   "id": "7e46854d",
   "metadata": {},
   "source": [
    "### Share and get paid for your tools\n",
    "You can checkout the following examples to see how to create and share tools on XEntropy.\n",
    "- [api](https://github.com/ckh112/xentropy/blob/main/docs/api-tool/notebook.ipynb)\n",
    "- [agent](https://github.com/ckh112/xentropy/blob/main/docs/composite-agents-tool/notebook.ipynb)\n",
    "- [rag](https://github.com/ckh112/xentropy/blob/main/docs/rag-tool/notebook.ipynb)"
   ]
  },
  {
   "cell_type": "markdown",
   "id": "92a34186",
   "metadata": {},
   "source": [
    "## Managing your account\n",
    "\n",
    "The `Client` class has a few other utilities to access XEntropy platform."
   ]
  },
  {
   "cell_type": "code",
   "execution_count": 8,
   "id": "5244d591",
   "metadata": {},
   "outputs": [],
   "source": [
    "from agentx.client import Client\n",
    "client = Client(api_key=os.environ.get('XENTROPY_API_KEY'))\n",
    "\n",
    "# See your account summary and usage data on each tool\n",
    "client.summary()"
   ]
  },
  {
   "cell_type": "code",
   "execution_count": null,
   "id": "3e634354",
   "metadata": {},
   "outputs": [],
   "source": [
    "# XEntropy credit can be used to pay for tool usage, if the tool is not free.\n",
    "# You can top up your XEntropy credit by paying with credit card by navigating to the payment link.\n",
    "print(client.summary().get('payment_link'))"
   ]
  },
  {
   "cell_type": "code",
   "execution_count": null,
   "id": "2561b2ad",
   "metadata": {},
   "outputs": [],
   "source": [
    "# Alternatively you can also top up your XEntropy credit by paying with cryptocurrency.\n",
    "# We accept USDT, USDC, and DAI on the ethereum blockchain.\n",
    "# First, register your address.\n",
    "from eth_account import Account\n",
    "account = Account.from_key('YOUR_PRIVATE_KEY')\n",
    "# you can also use mnemonic phrase\n",
    "# account = Account.from_mnemonic('YOUR_MNEMONIC_PHRASE')\n",
    "response = client.register_ethereum_address(account=account)\n",
    "print(response.json())"
   ]
  },
  {
   "cell_type": "code",
   "execution_count": null,
   "id": "6f6d83ec",
   "metadata": {},
   "outputs": [],
   "source": [
    "# Sometimes you'd like to modify your published tool\n",
    "# Example 1: Making the tool public to XEntropy platform user\n",
    "client.modify_tool(\n",
    "    tool=\"YOUR_TOOL_NAME\",\n",
    "    key=\"public\",\n",
    "    value=True,\n",
    ")"
   ]
  },
  {
   "cell_type": "code",
   "execution_count": null,
   "id": "98d08e51",
   "metadata": {},
   "outputs": [],
   "source": [
    "# Example 2: Tool description acts as a prompt to LLM, and hence it can be optimised through prompt engineering.\n",
    "# You may want to modify it for improved performance.\n",
    "# Check out https://github.com/microsoft/LMOps/tree/main/prompt_optimization for inspiration.\n",
    "client.modify_tool(\n",
    "    tool=\"YOUR_TOOL_NAME\",\n",
    "    key=\"description\",\n",
    "    value=\"YOU_NEW_DESCRIPTION\",\n",
    ")"
   ]
  },
  {
   "cell_type": "code",
   "execution_count": null,
   "id": "ec90d792",
   "metadata": {},
   "outputs": [],
   "source": [
    "# You can take your tool away anytime.\n",
    "client.delete_tool(\n",
    "    tool=\"YOUR_TOOL_NAME\"\n",
    ")"
   ]
  },
  {
   "cell_type": "markdown",
   "id": "0996095c",
   "metadata": {},
   "source": [
    "XEntropy pays 80% of the tool-use revenue to tool developers's `payout` wallet. There is also a 5% bonus paid to the `balance` wallet to incentivize tool developers for consuming other tools on XEntropy.\n",
    "\n",
    "At this moment we only support withdrawl on the ethereum network for selected stable coins. More withdrawal method is on the way."
   ]
  },
  {
   "cell_type": "code",
   "execution_count": null,
   "id": "b30b09a1",
   "metadata": {},
   "outputs": [],
   "source": [
    "# To withdraw from your payout wallet\n",
    "client.stable_coin_payout(\n",
    "    amount=100000,  # amount to withdraw denominated in XEntropy Credit. i.e. 100000 XEntropy Credit = 1 USD\n",
    "    address=\"YOUR_ETHEREUM_ADDRESS\", # your ethereum network address\n",
    "    stable_coin='USDT' # choose between ['USDT', 'USDC', 'DAI']\n",
    ")"
   ]
  }
 ],
 "metadata": {
  "kernelspec": {
   "display_name": "Python 3.9.6 64-bit",
   "language": "python",
   "name": "python3"
  },
  "language_info": {
   "codemirror_mode": {
    "name": "ipython",
    "version": 3
   },
   "file_extension": ".py",
   "mimetype": "text/x-python",
   "name": "python",
   "nbconvert_exporter": "python",
   "pygments_lexer": "ipython3",
   "version": "3.10.9"
  },
  "vscode": {
   "interpreter": {
    "hash": "31f2aee4e71d21fbe5cf8b01ff0e069b9275f58929596ceb00d14d90e3e16cd6"
   }
  }
 },
 "nbformat": 4,
 "nbformat_minor": 5
}

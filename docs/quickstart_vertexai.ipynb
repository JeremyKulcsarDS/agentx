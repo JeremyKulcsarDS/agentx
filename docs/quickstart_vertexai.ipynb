{
 "cells": [
  {
   "cell_type": "markdown",
   "id": "fa5aa9c5",
   "metadata": {},
   "source": [
    "# AgentX Quickstart\n",
    "\n",
    "Welcome to the XEntropy quickstart guide, your first step in exploring the world of application development with agent-based large language models (or in short, agentic llm).\n",
    "\n",
    "XEntropy is an innovative development platform designed to elevate the ease at which developers can construct intelligent applications. Throughout this tutorial, we will navigate the following key areas:\n",
    "\n",
    "1. **Account creation:** We guide you step-by-step in establishing your XEntropy account:the gateway to a host of agentic llm tools.\n",
    "\n",
    "2. **Loading tools from XEntropy:** Learn how to seamlessly and efficiently import tools from the platform into your environment to kickstart your foray into developing llm agents and intelligent applications.\n",
    "\n",
    "3. **Managing your account:** Your XEntropy account is useful for many things. Learn how to:\n",
    "    - **Purchase credit**: Convenience and accessibility are core to XEntropy. Understand how to replenish your account balance in a straightforward, user-friendly manner.\n",
    "\n",
    "   - **Get paid**: Having created applications or tools that other developers find useful? Here's how to benefit from your creations.\n",
    "\n",
    "   - **Modify and delete tools**: As your skill level advances, so might your tools and applications. Learn how to adjust and remove tools from your portfolio.\n",
    "\n",
    "   - **Utilisation of logs**: Track your progress and rectify mistakes by understanding how to make use of logs effectively.\n",
    "\n",
    "   - **Finetune your own agentic llm**: Capture the essence of your application development ideation by discovering how to fine-tune your personal agentic llm to reach peak performance."
   ]
  },
  {
   "cell_type": "markdown",
   "id": "4c6fac97",
   "metadata": {},
   "source": [
    "## Installation"
   ]
  },
  {
   "cell_type": "code",
   "execution_count": 1,
   "id": "f03f4c9a",
   "metadata": {},
   "outputs": [
    {
     "data": {
      "text/plain": [
       "['/home/jay/.local/lib/python3.12/site-packages/agentx/__init__.py',\n",
       " '/home/jay/.local/lib/python3.12/site-packages/agentx/__pycache__/__init__.cpython-310.pyc',\n",
       " '/home/jay/.local/lib/python3.12/site-packages/agentx/__pycache__/agent.cpython-310.pyc',\n",
       " '/home/jay/.local/lib/python3.12/site-packages/agentx/__pycache__/bedrock_client.cpython-310.pyc',\n",
       " '/home/jay/.local/lib/python3.12/site-packages/agentx/__pycache__/client.cpython-310.pyc',\n",
       " '/home/jay/.local/lib/python3.12/site-packages/agentx/__pycache__/groupchat.cpython-310.pyc',\n",
       " '/home/jay/.local/lib/python3.12/site-packages/agentx/__pycache__/oai_client.cpython-310.pyc',\n",
       " '/home/jay/.local/lib/python3.12/site-packages/agentx/__pycache__/optimisers.cpython-310.pyc',\n",
       " '/home/jay/.local/lib/python3.12/site-packages/agentx/__pycache__/saved_agents.cpython-310.pyc',\n",
       " '/home/jay/.local/lib/python3.12/site-packages/agentx/__pycache__/schema.cpython-310.pyc',\n",
       " '/home/jay/.local/lib/python3.12/site-packages/agentx/__pycache__/tool.cpython-310.pyc',\n",
       " '/home/jay/.local/lib/python3.12/site-packages/agentx/__pycache__/utils.cpython-310.pyc',\n",
       " '/home/jay/.local/lib/python3.12/site-packages/agentx/__pycache__/vertexai_client.cpython-310.pyc',\n",
       " '/home/jay/.local/lib/python3.12/site-packages/agentx/__pycache__/__init__.cpython-312.pyc',\n",
       " '/home/jay/.local/lib/python3.12/site-packages/agentx/__pycache__/bedrock_client.cpython-312.pyc',\n",
       " '/home/jay/.local/lib/python3.12/site-packages/agentx/__pycache__/groupchat.cpython-312.pyc',\n",
       " '/home/jay/.local/lib/python3.12/site-packages/agentx/__pycache__/optimisers.cpython-312.pyc',\n",
       " '/home/jay/.local/lib/python3.12/site-packages/agentx/__pycache__/saved_agents.cpython-312.pyc',\n",
       " '/home/jay/.local/lib/python3.12/site-packages/agentx/__pycache__/utils.cpython-312.pyc',\n",
       " '/home/jay/.local/lib/python3.12/site-packages/agentx/__pycache__/vertexai_utils.cpython-312.pyc',\n",
       " '/home/jay/.local/lib/python3.12/site-packages/agentx/__pycache__/client.cpython-312.pyc',\n",
       " '/home/jay/.local/lib/python3.12/site-packages/agentx/__pycache__/tool.cpython-312.pyc',\n",
       " '/home/jay/.local/lib/python3.12/site-packages/agentx/__pycache__/vertexai_client_backup.cpython-312.pyc',\n",
       " '/home/jay/.local/lib/python3.12/site-packages/agentx/__pycache__/oai_client.cpython-312.pyc',\n",
       " '/home/jay/.local/lib/python3.12/site-packages/agentx/__pycache__/agent.cpython-312.pyc',\n",
       " '/home/jay/.local/lib/python3.12/site-packages/agentx/__pycache__/schema.cpython-312.pyc',\n",
       " '/home/jay/.local/lib/python3.12/site-packages/agentx/__pycache__/vertexai_client.cpython-312.pyc',\n",
       " '/home/jay/.local/lib/python3.12/site-packages/agentx/agent.py',\n",
       " '/home/jay/.local/lib/python3.12/site-packages/agentx/bedrock_client.py',\n",
       " '/home/jay/.local/lib/python3.12/site-packages/agentx/groupchat.py',\n",
       " '/home/jay/.local/lib/python3.12/site-packages/agentx/models/.gitignore',\n",
       " '/home/jay/.local/lib/python3.12/site-packages/agentx/models/__init__.py',\n",
       " '/home/jay/.local/lib/python3.12/site-packages/agentx/models/__pycache__/__init__.cpython-312.pyc',\n",
       " '/home/jay/.local/lib/python3.12/site-packages/agentx/oai_client.py',\n",
       " '/home/jay/.local/lib/python3.12/site-packages/agentx/optimisers.py',\n",
       " '/home/jay/.local/lib/python3.12/site-packages/agentx/saved_agents.py',\n",
       " '/home/jay/.local/lib/python3.12/site-packages/agentx/schema.py',\n",
       " '/home/jay/.local/lib/python3.12/site-packages/agentx/utils.py',\n",
       " '/home/jay/.local/lib/python3.12/site-packages/agentx/vertexai_client.py',\n",
       " '/home/jay/.local/lib/python3.12/site-packages/agentx/vertexai_utils.py',\n",
       " '/home/jay/.local/lib/python3.12/site-packages/agentx/client.py',\n",
       " '/home/jay/.local/lib/python3.12/site-packages/agentx/tool.py',\n",
       " '/home/jay/.local/lib/python3.12/site-packages/agentx/vertexai_client_backup.py']"
      ]
     },
     "execution_count": 1,
     "metadata": {},
     "output_type": "execute_result"
    }
   ],
   "source": [
    "# Install AgentX\n",
    "from distutils.dir_util import copy_tree, remove_tree\n",
    "import os\n",
    "import sys\n",
    "\n",
    "site_packages_path = [x for x in sys.path if x.endswith('site-packages')][0]\n",
    "# remove any existing installation\n",
    "if os.path.exists(f'{site_packages_path}/agentx'):\n",
    "    remove_tree(f'{site_packages_path}/agentx')\n",
    "copy_tree(f'../agentx', f'{site_packages_path}/agentx')"
   ]
  },
  {
   "cell_type": "code",
   "execution_count": 2,
   "id": "25e1482d",
   "metadata": {},
   "outputs": [
    {
     "name": "stdout",
     "output_type": "stream",
     "text": [
      "Defaulting to user installation because normal site-packages is not writeable\n",
      "Requirement already satisfied: python-dotenv~=1.0.0 in /home/jay/.local/lib/python3.12/site-packages (from -r requirements.txt (line 1)) (1.0.1)\n",
      "Requirement already satisfied: eth-account~=0.10.0 in /home/jay/.local/lib/python3.12/site-packages (from -r requirements.txt (line 2)) (0.10.0)\n",
      "Requirement already satisfied: requests~=2.31.0 in /home/jay/.local/lib/python3.12/site-packages (from -r requirements.txt (line 3)) (2.31.0)\n",
      "Requirement already satisfied: jsonschema~=4.19.2 in /home/jay/.local/lib/python3.12/site-packages (from -r requirements.txt (line 4)) (4.19.2)\n",
      "Requirement already satisfied: defusedxml~=0.7.1 in /home/jay/.local/lib/python3.12/site-packages (from -r requirements.txt (line 5)) (0.7.1)\n",
      "Requirement already satisfied: fastapi~=0.109.0 in /home/jay/.local/lib/python3.12/site-packages (from -r requirements.txt (line 6)) (0.109.2)\n",
      "Requirement already satisfied: pydantic~=2.5.3 in /home/jay/.local/lib/python3.12/site-packages (from -r requirements.txt (line 7)) (2.5.3)\n",
      "Requirement already satisfied: geopy~=2.4.1 in /home/jay/.local/lib/python3.12/site-packages (from -r requirements.txt (line 8)) (2.4.1)\n",
      "Requirement already satisfied: aiohttp~=3.9.1 in /home/jay/.local/lib/python3.12/site-packages (from -r requirements.txt (line 9)) (3.9.3)\n",
      "Requirement already satisfied: tqdm~=4.66.1 in /home/jay/.local/lib/python3.12/site-packages (from -r requirements.txt (line 10)) (4.66.2)\n",
      "Requirement already satisfied: openai~=1.8.0 in /home/jay/.local/lib/python3.12/site-packages (from -r requirements.txt (line 11)) (1.8.0)\n",
      "Requirement already satisfied: boto3~=1.34.22 in /home/jay/.local/lib/python3.12/site-packages (from -r requirements.txt (line 12)) (1.34.51)\n",
      "Requirement already satisfied: google-auth~=2.26.0 in /home/jay/.local/lib/python3.12/site-packages (from -r requirements.txt (line 13)) (2.26.2)\n",
      "Requirement already satisfied: uvicorn~=0.26.0 in /home/jay/.local/lib/python3.12/site-packages (from -r requirements.txt (line 14)) (0.26.0)\n",
      "Requirement already satisfied: pyautogen~=0.2.7 in /home/jay/.local/lib/python3.12/site-packages (from -r requirements.txt (line 15)) (0.2.15)\n",
      "Requirement already satisfied: rich~=13.7.0 in /home/jay/.local/lib/python3.12/site-packages (from -r requirements.txt (line 16)) (13.7.0)\n",
      "Requirement already satisfied: google-cloud-aiplatform in /home/jay/.local/lib/python3.12/site-packages (from -r requirements.txt (line 17)) (1.43.0)\n",
      "Requirement already satisfied: bitarray>=2.4.0 in /home/jay/.local/lib/python3.12/site-packages (from eth-account~=0.10.0->-r requirements.txt (line 2)) (2.9.2)\n",
      "Requirement already satisfied: eth-abi>=4.0.0-b.2 in /home/jay/.local/lib/python3.12/site-packages (from eth-account~=0.10.0->-r requirements.txt (line 2)) (5.0.0)\n",
      "Requirement already satisfied: eth-keyfile>=0.6.0 in /home/jay/.local/lib/python3.12/site-packages (from eth-account~=0.10.0->-r requirements.txt (line 2)) (0.7.0)\n",
      "Requirement already satisfied: eth-keys>=0.4.0 in /home/jay/.local/lib/python3.12/site-packages (from eth-account~=0.10.0->-r requirements.txt (line 2)) (0.5.0)\n",
      "Requirement already satisfied: eth-rlp>=0.3.0 in /home/jay/.local/lib/python3.12/site-packages (from eth-account~=0.10.0->-r requirements.txt (line 2)) (1.0.1)\n",
      "Requirement already satisfied: eth-utils>=2.0.0 in /home/jay/.local/lib/python3.12/site-packages (from eth-account~=0.10.0->-r requirements.txt (line 2)) (4.0.0)\n",
      "Requirement already satisfied: hexbytes<0.4.0,>=0.1.0 in /home/jay/.local/lib/python3.12/site-packages (from eth-account~=0.10.0->-r requirements.txt (line 2)) (0.3.1)\n",
      "Requirement already satisfied: rlp>=1.0.0 in /home/jay/.local/lib/python3.12/site-packages (from eth-account~=0.10.0->-r requirements.txt (line 2)) (4.0.0)\n",
      "Requirement already satisfied: charset-normalizer<4,>=2 in /usr/lib/python3.12/site-packages (from requests~=2.31.0->-r requirements.txt (line 3)) (3.2.0)\n",
      "Requirement already satisfied: idna<4,>=2.5 in /usr/lib/python3.12/site-packages (from requests~=2.31.0->-r requirements.txt (line 3)) (3.4)\n",
      "Requirement already satisfied: urllib3<3,>=1.21.1 in /usr/lib/python3.12/site-packages (from requests~=2.31.0->-r requirements.txt (line 3)) (1.26.18)\n",
      "Requirement already satisfied: certifi>=2017.4.17 in /home/jay/.local/lib/python3.12/site-packages (from requests~=2.31.0->-r requirements.txt (line 3)) (2024.2.2)\n",
      "Requirement already satisfied: attrs>=22.2.0 in /home/jay/.local/lib/python3.12/site-packages (from jsonschema~=4.19.2->-r requirements.txt (line 4)) (23.2.0)\n",
      "Requirement already satisfied: jsonschema-specifications>=2023.03.6 in /home/jay/.local/lib/python3.12/site-packages (from jsonschema~=4.19.2->-r requirements.txt (line 4)) (2023.12.1)\n",
      "Requirement already satisfied: referencing>=0.28.4 in /home/jay/.local/lib/python3.12/site-packages (from jsonschema~=4.19.2->-r requirements.txt (line 4)) (0.33.0)\n",
      "Requirement already satisfied: rpds-py>=0.7.1 in /home/jay/.local/lib/python3.12/site-packages (from jsonschema~=4.19.2->-r requirements.txt (line 4)) (0.18.0)\n",
      "Requirement already satisfied: starlette<0.37.0,>=0.36.3 in /home/jay/.local/lib/python3.12/site-packages (from fastapi~=0.109.0->-r requirements.txt (line 6)) (0.36.3)\n",
      "Requirement already satisfied: typing-extensions>=4.8.0 in /home/jay/.local/lib/python3.12/site-packages (from fastapi~=0.109.0->-r requirements.txt (line 6)) (4.10.0)\n",
      "Requirement already satisfied: annotated-types>=0.4.0 in /home/jay/.local/lib/python3.12/site-packages (from pydantic~=2.5.3->-r requirements.txt (line 7)) (0.6.0)\n",
      "Requirement already satisfied: pydantic-core==2.14.6 in /home/jay/.local/lib/python3.12/site-packages (from pydantic~=2.5.3->-r requirements.txt (line 7)) (2.14.6)\n",
      "Requirement already satisfied: geographiclib<3,>=1.52 in /home/jay/.local/lib/python3.12/site-packages (from geopy~=2.4.1->-r requirements.txt (line 8)) (2.0)\n",
      "Requirement already satisfied: aiosignal>=1.1.2 in /home/jay/.local/lib/python3.12/site-packages (from aiohttp~=3.9.1->-r requirements.txt (line 9)) (1.3.1)\n",
      "Requirement already satisfied: frozenlist>=1.1.1 in /home/jay/.local/lib/python3.12/site-packages (from aiohttp~=3.9.1->-r requirements.txt (line 9)) (1.4.1)\n",
      "Requirement already satisfied: multidict<7.0,>=4.5 in /home/jay/.local/lib/python3.12/site-packages (from aiohttp~=3.9.1->-r requirements.txt (line 9)) (6.0.5)\n",
      "Requirement already satisfied: yarl<2.0,>=1.0 in /home/jay/.local/lib/python3.12/site-packages (from aiohttp~=3.9.1->-r requirements.txt (line 9)) (1.9.4)\n",
      "Requirement already satisfied: anyio<5,>=3.5.0 in /home/jay/.local/lib/python3.12/site-packages (from openai~=1.8.0->-r requirements.txt (line 11)) (4.3.0)\n",
      "Requirement already satisfied: distro<2,>=1.7.0 in /usr/lib/python3.12/site-packages (from openai~=1.8.0->-r requirements.txt (line 11)) (1.8.0)\n",
      "Requirement already satisfied: httpx<1,>=0.23.0 in /home/jay/.local/lib/python3.12/site-packages (from openai~=1.8.0->-r requirements.txt (line 11)) (0.27.0)\n",
      "Requirement already satisfied: sniffio in /home/jay/.local/lib/python3.12/site-packages (from openai~=1.8.0->-r requirements.txt (line 11)) (1.3.1)\n",
      "Requirement already satisfied: botocore<1.35.0,>=1.34.51 in /home/jay/.local/lib/python3.12/site-packages (from boto3~=1.34.22->-r requirements.txt (line 12)) (1.34.51)\n",
      "Requirement already satisfied: jmespath<2.0.0,>=0.7.1 in /home/jay/.local/lib/python3.12/site-packages (from boto3~=1.34.22->-r requirements.txt (line 12)) (1.0.1)\n",
      "Requirement already satisfied: s3transfer<0.11.0,>=0.10.0 in /home/jay/.local/lib/python3.12/site-packages (from boto3~=1.34.22->-r requirements.txt (line 12)) (0.10.0)\n",
      "Requirement already satisfied: cachetools<6.0,>=2.0.0 in /home/jay/.local/lib/python3.12/site-packages (from google-auth~=2.26.0->-r requirements.txt (line 13)) (5.3.3)\n",
      "Requirement already satisfied: pyasn1-modules>=0.2.1 in /home/jay/.local/lib/python3.12/site-packages (from google-auth~=2.26.0->-r requirements.txt (line 13)) (0.3.0)\n",
      "Requirement already satisfied: rsa<5,>=3.1.4 in /home/jay/.local/lib/python3.12/site-packages (from google-auth~=2.26.0->-r requirements.txt (line 13)) (4.9)\n",
      "Requirement already satisfied: click>=7.0 in /usr/lib/python3.12/site-packages (from uvicorn~=0.26.0->-r requirements.txt (line 14)) (8.1.3)\n",
      "Requirement already satisfied: h11>=0.8 in /home/jay/.local/lib/python3.12/site-packages (from uvicorn~=0.26.0->-r requirements.txt (line 14)) (0.14.0)\n",
      "Requirement already satisfied: diskcache in /home/jay/.local/lib/python3.12/site-packages (from pyautogen~=0.2.7->-r requirements.txt (line 15)) (5.6.3)\n",
      "Requirement already satisfied: docker in /home/jay/.local/lib/python3.12/site-packages (from pyautogen~=0.2.7->-r requirements.txt (line 15)) (7.0.0)\n",
      "Requirement already satisfied: flaml in /home/jay/.local/lib/python3.12/site-packages (from pyautogen~=0.2.7->-r requirements.txt (line 15)) (2.1.1)\n",
      "Requirement already satisfied: termcolor in /home/jay/.local/lib/python3.12/site-packages (from pyautogen~=0.2.7->-r requirements.txt (line 15)) (2.4.0)\n",
      "Requirement already satisfied: tiktoken in /home/jay/.local/lib/python3.12/site-packages (from pyautogen~=0.2.7->-r requirements.txt (line 15)) (0.6.0)\n",
      "Requirement already satisfied: markdown-it-py>=2.2.0 in /home/jay/.local/lib/python3.12/site-packages (from rich~=13.7.0->-r requirements.txt (line 16)) (3.0.0)\n",
      "Requirement already satisfied: pygments<3.0.0,>=2.13.0 in /home/jay/.local/lib/python3.12/site-packages (from rich~=13.7.0->-r requirements.txt (line 16)) (2.17.2)\n",
      "Requirement already satisfied: google-api-core[grpc]!=2.0.*,!=2.1.*,!=2.2.*,!=2.3.*,!=2.4.*,!=2.5.*,!=2.6.*,!=2.7.*,<3.0.0dev,>=1.34.1 in /home/jay/.local/lib/python3.12/site-packages (from google-cloud-aiplatform->-r requirements.txt (line 17)) (2.17.1)\n",
      "Requirement already satisfied: proto-plus<2.0.0dev,>=1.22.0 in /home/jay/.local/lib/python3.12/site-packages (from google-cloud-aiplatform->-r requirements.txt (line 17)) (1.23.0)\n",
      "Requirement already satisfied: protobuf!=3.20.0,!=3.20.1,!=4.21.0,!=4.21.1,!=4.21.2,!=4.21.3,!=4.21.4,!=4.21.5,<5.0.0dev,>=3.19.5 in /home/jay/.local/lib/python3.12/site-packages (from google-cloud-aiplatform->-r requirements.txt (line 17)) (4.25.3)\n",
      "Requirement already satisfied: packaging>=14.3 in /usr/lib/python3.12/site-packages (from google-cloud-aiplatform->-r requirements.txt (line 17)) (23.1)\n",
      "Requirement already satisfied: google-cloud-storage<3.0.0dev,>=1.32.0 in /home/jay/.local/lib/python3.12/site-packages (from google-cloud-aiplatform->-r requirements.txt (line 17)) (2.14.0)\n",
      "Requirement already satisfied: google-cloud-bigquery<4.0.0dev,>=1.15.0 in /home/jay/.local/lib/python3.12/site-packages (from google-cloud-aiplatform->-r requirements.txt (line 17)) (3.17.2)\n",
      "Requirement already satisfied: google-cloud-resource-manager<3.0.0dev,>=1.3.3 in /home/jay/.local/lib/python3.12/site-packages (from google-cloud-aiplatform->-r requirements.txt (line 17)) (1.12.2)\n",
      "Requirement already satisfied: shapely<3.0.0dev in /home/jay/.local/lib/python3.12/site-packages (from google-cloud-aiplatform->-r requirements.txt (line 17)) (2.0.3)\n",
      "Requirement already satisfied: python-dateutil<3.0.0,>=2.1 in /usr/lib/python3.12/site-packages (from botocore<1.35.0,>=1.34.51->boto3~=1.34.22->-r requirements.txt (line 12)) (2.8.2)\n",
      "Requirement already satisfied: eth-typing>=3.0.0 in /home/jay/.local/lib/python3.12/site-packages (from eth-abi>=4.0.0-b.2->eth-account~=0.10.0->-r requirements.txt (line 2)) (4.0.0)\n",
      "Requirement already satisfied: parsimonious<0.10.0,>=0.9.0 in /home/jay/.local/lib/python3.12/site-packages (from eth-abi>=4.0.0-b.2->eth-account~=0.10.0->-r requirements.txt (line 2)) (0.9.0)\n",
      "Requirement already satisfied: pycryptodome<4,>=3.6.6 in /home/jay/.local/lib/python3.12/site-packages (from eth-keyfile>=0.6.0->eth-account~=0.10.0->-r requirements.txt (line 2)) (3.20.0)\n",
      "Requirement already satisfied: eth-hash>=0.3.1 in /home/jay/.local/lib/python3.12/site-packages (from eth-utils>=2.0.0->eth-account~=0.10.0->-r requirements.txt (line 2)) (0.6.0)\n",
      "Requirement already satisfied: cytoolz>=0.10.1 in /home/jay/.local/lib/python3.12/site-packages (from eth-utils>=2.0.0->eth-account~=0.10.0->-r requirements.txt (line 2)) (0.12.3)\n",
      "Requirement already satisfied: googleapis-common-protos<2.0.dev0,>=1.56.2 in /home/jay/.local/lib/python3.12/site-packages (from google-api-core[grpc]!=2.0.*,!=2.1.*,!=2.2.*,!=2.3.*,!=2.4.*,!=2.5.*,!=2.6.*,!=2.7.*,<3.0.0dev,>=1.34.1->google-cloud-aiplatform->-r requirements.txt (line 17)) (1.62.0)\n",
      "Requirement already satisfied: grpcio<2.0dev,>=1.33.2 in /home/jay/.local/lib/python3.12/site-packages (from google-api-core[grpc]!=2.0.*,!=2.1.*,!=2.2.*,!=2.3.*,!=2.4.*,!=2.5.*,!=2.6.*,!=2.7.*,<3.0.0dev,>=1.34.1->google-cloud-aiplatform->-r requirements.txt (line 17)) (1.62.0)\n",
      "Requirement already satisfied: grpcio-status<2.0.dev0,>=1.33.2 in /home/jay/.local/lib/python3.12/site-packages (from google-api-core[grpc]!=2.0.*,!=2.1.*,!=2.2.*,!=2.3.*,!=2.4.*,!=2.5.*,!=2.6.*,!=2.7.*,<3.0.0dev,>=1.34.1->google-cloud-aiplatform->-r requirements.txt (line 17)) (1.62.0)\n",
      "Requirement already satisfied: google-cloud-core<3.0.0dev,>=1.6.0 in /home/jay/.local/lib/python3.12/site-packages (from google-cloud-bigquery<4.0.0dev,>=1.15.0->google-cloud-aiplatform->-r requirements.txt (line 17)) (2.4.1)\n",
      "Requirement already satisfied: google-resumable-media<3.0dev,>=0.6.0 in /home/jay/.local/lib/python3.12/site-packages (from google-cloud-bigquery<4.0.0dev,>=1.15.0->google-cloud-aiplatform->-r requirements.txt (line 17)) (2.7.0)\n",
      "Requirement already satisfied: grpc-google-iam-v1<1.0.0dev,>=0.12.4 in /home/jay/.local/lib/python3.12/site-packages (from google-cloud-resource-manager<3.0.0dev,>=1.3.3->google-cloud-aiplatform->-r requirements.txt (line 17)) (0.13.0)\n",
      "Requirement already satisfied: google-crc32c<2.0dev,>=1.0 in /home/jay/.local/lib/python3.12/site-packages (from google-cloud-storage<3.0.0dev,>=1.32.0->google-cloud-aiplatform->-r requirements.txt (line 17)) (1.5.0)\n",
      "Requirement already satisfied: httpcore==1.* in /home/jay/.local/lib/python3.12/site-packages (from httpx<1,>=0.23.0->openai~=1.8.0->-r requirements.txt (line 11)) (1.0.4)\n",
      "Requirement already satisfied: mdurl~=0.1 in /home/jay/.local/lib/python3.12/site-packages (from markdown-it-py>=2.2.0->rich~=13.7.0->-r requirements.txt (line 16)) (0.1.2)\n",
      "Requirement already satisfied: pyasn1<0.6.0,>=0.4.6 in /home/jay/.local/lib/python3.12/site-packages (from pyasn1-modules>=0.2.1->google-auth~=2.26.0->-r requirements.txt (line 13)) (0.5.1)\n",
      "Requirement already satisfied: numpy<2,>=1.14 in /home/jay/.local/lib/python3.12/site-packages (from shapely<3.0.0dev->google-cloud-aiplatform->-r requirements.txt (line 17)) (1.26.4)\n",
      "Requirement already satisfied: regex>=2022.1.18 in /usr/lib64/python3.12/site-packages (from tiktoken->pyautogen~=0.2.7->-r requirements.txt (line 15)) (2023.12.25)\n",
      "Requirement already satisfied: toolz>=0.8.0 in /home/jay/.local/lib/python3.12/site-packages (from cytoolz>=0.10.1->eth-utils>=2.0.0->eth-account~=0.10.0->-r requirements.txt (line 2)) (0.12.1)\n",
      "Requirement already satisfied: six>=1.5 in /usr/lib/python3.12/site-packages (from python-dateutil<3.0.0,>=2.1->botocore<1.35.0,>=1.34.51->boto3~=1.34.22->-r requirements.txt (line 12)) (1.16.0)\n",
      "Note: you may need to restart the kernel to use updated packages.\n"
     ]
    }
   ],
   "source": [
    "# Install dependencies to complete this tutorial\n",
    "%pip install -r requirements.txt"
   ]
  },
  {
   "cell_type": "markdown",
   "id": "11aaa7f7",
   "metadata": {},
   "source": [
    "## Create your account"
   ]
  },
  {
   "cell_type": "code",
   "execution_count": 3,
   "id": "d08ee459",
   "metadata": {},
   "outputs": [
    {
     "name": "stdout",
     "output_type": "stream",
     "text": [
      "{'properties': {'query': {'title': 'Query', 'type': 'string'}, 'top_k': {'default': 16, 'maximum': 16, 'minimum': 1, 'title': 'Top K', 'type': 'integer'}}, 'required': ['query'], 'title': 'SearchQuery', 'type': 'object'}\n"
     ]
    },
    {
     "data": {
      "text/html": [
       "<pre style=\"white-space:pre;overflow-x:auto;line-height:normal;font-family:Menlo,'DejaVu Sans Mono',consolas,'Courier New',monospace\"><span style=\"font-weight: bold\">[</span>\n",
       "    <span style=\"font-weight: bold\">{</span>\n",
       "        <span style=\"color: #008000; text-decoration-color: #008000\">'id'</span>: <span style=\"color: #008000; text-decoration-color: #008000\">'xentropy:geocoding'</span>,\n",
       "        <span style=\"color: #008000; text-decoration-color: #008000\">'description'</span>: <span style=\"color: #008000; text-decoration-color: #008000\">'Look up address based on longitude and latitude coordinate.'</span>,\n",
       "        <span style=\"color: #008000; text-decoration-color: #008000\">'cos_similarity'</span>: <span style=\"color: #008080; text-decoration-color: #008080; font-weight: bold\">0.864535451</span>\n",
       "    <span style=\"font-weight: bold\">}</span>,\n",
       "    <span style=\"font-weight: bold\">{</span>\n",
       "        <span style=\"color: #008000; text-decoration-color: #008000\">'id'</span>: <span style=\"color: #008000; text-decoration-color: #008000\">'xentropy:geodesic'</span>,\n",
       "        <span style=\"color: #008000; text-decoration-color: #008000\">'description'</span>: <span style=\"color: #008000; text-decoration-color: #008000\">'Calculate the earth surface distance between two latitude and longitude coordinate'</span>,\n",
       "        <span style=\"color: #008000; text-decoration-color: #008000\">'cos_similarity'</span>: <span style=\"color: #008080; text-decoration-color: #008080; font-weight: bold\">0.791891694</span>\n",
       "    <span style=\"font-weight: bold\">}</span>,\n",
       "    <span style=\"font-weight: bold\">{</span>\n",
       "        <span style=\"color: #008000; text-decoration-color: #008000\">'id'</span>: <span style=\"color: #008000; text-decoration-color: #008000\">'xentropy:restaurant_search'</span>,\n",
       "        <span style=\"color: #008000; text-decoration-color: #008000\">'description'</span>: <span style=\"color: #008000; text-decoration-color: #008000\">'Search restaurants based on food preference, location, and other user requirements. </span>\n",
       "<span style=\"color: #008000; text-decoration-color: #008000\">Examples: {\"include_type\": \"korean_restaurant\", \"query\": \"Korean barbeque in Mountain View with spacious seating </span>\n",
       "<span style=\"color: #008000; text-decoration-color: #008000\">and good service\"}'</span>,\n",
       "        <span style=\"color: #008000; text-decoration-color: #008000\">'cos_similarity'</span>: <span style=\"color: #008080; text-decoration-color: #008080; font-weight: bold\">0.710569739</span>\n",
       "    <span style=\"font-weight: bold\">}</span>,\n",
       "    <span style=\"font-weight: bold\">{</span>\n",
       "        <span style=\"color: #008000; text-decoration-color: #008000\">'id'</span>: <span style=\"color: #008000; text-decoration-color: #008000\">'justintime:mark_dse_question'</span>,\n",
       "        <span style=\"color: #008000; text-decoration-color: #008000\">'description'</span>: <span style=\"color: #008000; text-decoration-color: #008000\">\"Mark the students' answers for the given question\"</span>,\n",
       "        <span style=\"color: #008000; text-decoration-color: #008000\">'cos_similarity'</span>: <span style=\"color: #008080; text-decoration-color: #008080; font-weight: bold\">0.67601645</span>\n",
       "    <span style=\"font-weight: bold\">}</span>,\n",
       "    <span style=\"font-weight: bold\">{</span>\n",
       "        <span style=\"color: #008000; text-decoration-color: #008000\">'id'</span>: <span style=\"color: #008000; text-decoration-color: #008000\">'xentropy:tool_search'</span>,\n",
       "        <span style=\"color: #008000; text-decoration-color: #008000\">'description'</span>: <span style=\"color: #008000; text-decoration-color: #008000\">'Search for tools that accomplish a specific task.'</span>,\n",
       "        <span style=\"color: #008000; text-decoration-color: #008000\">'cos_similarity'</span>: <span style=\"color: #008080; text-decoration-color: #008080; font-weight: bold\">0.675112486</span>\n",
       "    <span style=\"font-weight: bold\">}</span>,\n",
       "    <span style=\"font-weight: bold\">{</span>\n",
       "        <span style=\"color: #008000; text-decoration-color: #008000\">'id'</span>: <span style=\"color: #008000; text-decoration-color: #008000\">'xentropy:tool_search_paid'</span>,\n",
       "        <span style=\"color: #008000; text-decoration-color: #008000\">'description'</span>: <span style=\"color: #008000; text-decoration-color: #008000\">'Search for tools that accomplish a specific task.'</span>,\n",
       "        <span style=\"color: #008000; text-decoration-color: #008000\">'cos_similarity'</span>: <span style=\"color: #008080; text-decoration-color: #008080; font-weight: bold\">0.675112486</span>\n",
       "    <span style=\"font-weight: bold\">}</span>,\n",
       "    <span style=\"font-weight: bold\">{</span>\n",
       "        <span style=\"color: #008000; text-decoration-color: #008000\">'id'</span>: <span style=\"color: #008000; text-decoration-color: #008000\">'justintime:generate_dse_question'</span>,\n",
       "        <span style=\"color: #008000; text-decoration-color: #008000\">'description'</span>: <span style=\"color: #008000; text-decoration-color: #008000\">\"Generate a question based on the given topics and bloom's taxonomy\"</span>,\n",
       "        <span style=\"color: #008000; text-decoration-color: #008000\">'cos_similarity'</span>: <span style=\"color: #008080; text-decoration-color: #008080; font-weight: bold\">0.65435487</span>\n",
       "    <span style=\"font-weight: bold\">}</span>\n",
       "<span style=\"font-weight: bold\">]</span>\n",
       "</pre>\n"
      ],
      "text/plain": [
       "\u001b[1m[\u001b[0m\n",
       "    \u001b[1m{\u001b[0m\n",
       "        \u001b[32m'id'\u001b[0m: \u001b[32m'xentropy:geocoding'\u001b[0m,\n",
       "        \u001b[32m'description'\u001b[0m: \u001b[32m'Look up address based on longitude and latitude coordinate.'\u001b[0m,\n",
       "        \u001b[32m'cos_similarity'\u001b[0m: \u001b[1;36m0.864535451\u001b[0m\n",
       "    \u001b[1m}\u001b[0m,\n",
       "    \u001b[1m{\u001b[0m\n",
       "        \u001b[32m'id'\u001b[0m: \u001b[32m'xentropy:geodesic'\u001b[0m,\n",
       "        \u001b[32m'description'\u001b[0m: \u001b[32m'Calculate the earth surface distance between two latitude and longitude coordinate'\u001b[0m,\n",
       "        \u001b[32m'cos_similarity'\u001b[0m: \u001b[1;36m0.791891694\u001b[0m\n",
       "    \u001b[1m}\u001b[0m,\n",
       "    \u001b[1m{\u001b[0m\n",
       "        \u001b[32m'id'\u001b[0m: \u001b[32m'xentropy:restaurant_search'\u001b[0m,\n",
       "        \u001b[32m'description'\u001b[0m: \u001b[32m'Search restaurants based on food preference, location, and other user requirements. \u001b[0m\n",
       "\u001b[32mExamples: \u001b[0m\u001b[32m{\u001b[0m\u001b[32m\"include_type\": \"korean_restaurant\", \"query\": \"Korean barbeque in Mountain View with spacious seating \u001b[0m\n",
       "\u001b[32mand good service\"\u001b[0m\u001b[32m}\u001b[0m\u001b[32m'\u001b[0m,\n",
       "        \u001b[32m'cos_similarity'\u001b[0m: \u001b[1;36m0.710569739\u001b[0m\n",
       "    \u001b[1m}\u001b[0m,\n",
       "    \u001b[1m{\u001b[0m\n",
       "        \u001b[32m'id'\u001b[0m: \u001b[32m'justintime:mark_dse_question'\u001b[0m,\n",
       "        \u001b[32m'description'\u001b[0m: \u001b[32m\"Mark the students' answers for the given question\"\u001b[0m,\n",
       "        \u001b[32m'cos_similarity'\u001b[0m: \u001b[1;36m0.67601645\u001b[0m\n",
       "    \u001b[1m}\u001b[0m,\n",
       "    \u001b[1m{\u001b[0m\n",
       "        \u001b[32m'id'\u001b[0m: \u001b[32m'xentropy:tool_search'\u001b[0m,\n",
       "        \u001b[32m'description'\u001b[0m: \u001b[32m'Search for tools that accomplish a specific task.'\u001b[0m,\n",
       "        \u001b[32m'cos_similarity'\u001b[0m: \u001b[1;36m0.675112486\u001b[0m\n",
       "    \u001b[1m}\u001b[0m,\n",
       "    \u001b[1m{\u001b[0m\n",
       "        \u001b[32m'id'\u001b[0m: \u001b[32m'xentropy:tool_search_paid'\u001b[0m,\n",
       "        \u001b[32m'description'\u001b[0m: \u001b[32m'Search for tools that accomplish a specific task.'\u001b[0m,\n",
       "        \u001b[32m'cos_similarity'\u001b[0m: \u001b[1;36m0.675112486\u001b[0m\n",
       "    \u001b[1m}\u001b[0m,\n",
       "    \u001b[1m{\u001b[0m\n",
       "        \u001b[32m'id'\u001b[0m: \u001b[32m'justintime:generate_dse_question'\u001b[0m,\n",
       "        \u001b[32m'description'\u001b[0m: \u001b[32m\"Generate a question based on the given topics and bloom's taxonomy\"\u001b[0m,\n",
       "        \u001b[32m'cos_similarity'\u001b[0m: \u001b[1;36m0.65435487\u001b[0m\n",
       "    \u001b[1m}\u001b[0m\n",
       "\u001b[1m]\u001b[0m\n"
      ]
     },
     "metadata": {},
     "output_type": "display_data"
    }
   ],
   "source": [
    "from agentx.client import Client\n",
    "\n",
    "# load environment variables\n",
    "from dotenv import load_dotenv\n",
    "\n",
    "load_dotenv()\n",
    "\n",
    "from agentx.tool import Tool\n",
    "import os\n",
    "\n",
    "tool_search = Tool.load(\n",
    "    'xentropy:tool_search', \n",
    "    api_key=os.environ.get('XENTROPY_API_KEY')\n",
    ")\n",
    "\n",
    "# display the function call schema\n",
    "print(tool_search.input_json_schema)\n",
    "\n",
    "from rich import print as rich_print\n",
    "import json\n",
    "# run the tool\n",
    "rich_print(\n",
    "    json.loads(\n",
    "        tool_search.run(query='convert an address to geolocation')\n",
    "    )\n",
    ")\n",
    "\n",
    "# Get a tool that converts address to latitude longitude cooself.credentials.tokenrdinate\n",
    "geocoding = Tool.load('xentropy:geocoding', api_key=os.environ.get('XENTROPY_API_KEY'))\n",
    "# Get a tool that computes the earth surface distance between two coordinates\n",
    "geodesic = Tool.load('xentropy:geodesic', api_key=os.environ.get('XENTROPY_API_KEY'))"
   ]
  },
  {
   "cell_type": "markdown",
   "id": "59fca493",
   "metadata": {},
   "source": [
    "## Creating Agents with the loaded tools"
   ]
  },
  {
   "cell_type": "code",
   "execution_count": 4,
   "id": "30226af1",
   "metadata": {},
   "outputs": [],
   "source": [
    "from agentx.agent import Agent\n",
    "from agentx.schema import GenerationConfig, Message, Content\n",
    "from typing import List\n",
    "\n",
    "tools = [geocoding, geodesic]\n",
    "\n",
    "generation_config = GenerationConfig(\n",
    "    api_type='vertexai',\n",
    "    path_to_google_service_account_json='vertex_ai_creds.json',\n",
    "    google_application_credential_scope=['https://www.googleapis.com/auth/cloud-platform'],\n",
    "    region='asia-northeast3',\n",
    ")\n",
    "\n",
    "\"\"\" generation_config = GenerationConfig(\n",
    "    api_type='azure',\n",
    "    api_key=os.environ.get('AZURE_OPENAI_KEY'),\n",
    "    api_version=\"2024-02-15-preview\",\n",
    "    base_url=\"https://genai-instance-test-jeremy.openai.azure.com/\", \n",
    ")  \"\"\"\n",
    "\n",
    "# replace with your own azure deployment to choose different models\n",
    "generation_config.model = 'gemini-pro'\n",
    "# generation_config.azure_deployment = 'gpt-35-jeremy'\n",
    "\n",
    "# define a termination function\n",
    "# once the agent execute the geodesic tool, the conversation ends\n",
    "def terminate(history:List[Message]):\n",
    "    tool_response_name = [\n",
    "        message.content.tool_response.name for message in history if message.content.tool_response\n",
    "    ]\n",
    "    if 'xentropy--geodesic' in tool_response_name:\n",
    "        return True\n",
    "    return False\n",
    "    \n",
    "# define the agent\n",
    "agent = Agent(\n",
    "    name='agent',\n",
    "    generation_config=generation_config,\n",
    "    system_prompt=None,# Gemini doesn't support context or system prompts\n",
    "    tools = tools,\n",
    "    termination_function=terminate,\n",
    ")"
   ]
  },
  {
   "cell_type": "code",
   "execution_count": 5,
   "id": "b3ff7ece",
   "metadata": {},
   "outputs": [],
   "source": [
    "# the agent is ready to generate messages\n",
    "messages = [\n",
    "    Message(\n",
    "        role='user',\n",
    "        content=Content(\n",
    "            text='What is the distance between Kalinga Vihar, Bubaneswar and Vartak Nagar Thane?',\n",
    "        ),\n",
    "    )\n",
    "]"
   ]
  },
  {
   "cell_type": "code",
   "execution_count": 6,
   "id": "8f2bb1bd",
   "metadata": {},
   "outputs": [
    {
     "name": "stdout",
     "output_type": "stream",
     "text": [
      "{'address': 'Kalinga Vihar, Bubaneswar'}\n",
      "{'address': 'Vartak Nagar Thane'}\n",
      "{'coordinate_1': {'latitude': 19.2083, 'longitude': 72.961}, 'coordinate_0': {'latitude': 20.2365, 'longitude': 85.7557}}\n"
     ]
    },
    {
     "data": {
      "text/html": [
       "<pre style=\"white-space:pre;overflow-x:auto;line-height:normal;font-family:Menlo,'DejaVu Sans Mono',consolas,'Courier New',monospace\"><span style=\"font-weight: bold\">{</span>\n",
       "    <span style=\"color: #008000; text-decoration-color: #008000\">'role'</span>: <span style=\"color: #008000; text-decoration-color: #008000\">'model'</span>,\n",
       "    <span style=\"color: #008000; text-decoration-color: #008000\">'content'</span>: <span style=\"font-weight: bold\">{</span>\n",
       "        <span style=\"color: #008000; text-decoration-color: #008000\">'tool_calls'</span>: <span style=\"font-weight: bold\">[</span>\n",
       "            <span style=\"font-weight: bold\">{</span>\n",
       "                <span style=\"color: #008000; text-decoration-color: #008000\">'id'</span>: <span style=\"color: #008000; text-decoration-color: #008000\">'geocoding'</span>,\n",
       "                <span style=\"color: #008000; text-decoration-color: #008000\">'type'</span>: <span style=\"color: #008000; text-decoration-color: #008000\">'function'</span>,\n",
       "                <span style=\"color: #008000; text-decoration-color: #008000\">'function_call'</span>: <span style=\"font-weight: bold\">{</span><span style=\"color: #008000; text-decoration-color: #008000\">'name'</span>: <span style=\"color: #008000; text-decoration-color: #008000\">'geocoding'</span>, <span style=\"color: #008000; text-decoration-color: #008000\">'arguments'</span>: <span style=\"color: #008000; text-decoration-color: #008000\">'{\"address\": \"Kalinga Vihar, Bubaneswar\"}'</span><span style=\"font-weight: bold\">}</span>\n",
       "            <span style=\"font-weight: bold\">}</span>\n",
       "        <span style=\"font-weight: bold\">]</span>\n",
       "    <span style=\"font-weight: bold\">}</span>,\n",
       "    <span style=\"color: #008000; text-decoration-color: #008000\">'name'</span>: <span style=\"color: #008000; text-decoration-color: #008000\">'agent'</span>\n",
       "<span style=\"font-weight: bold\">}</span>\n",
       "</pre>\n"
      ],
      "text/plain": [
       "\u001b[1m{\u001b[0m\n",
       "    \u001b[32m'role'\u001b[0m: \u001b[32m'model'\u001b[0m,\n",
       "    \u001b[32m'content'\u001b[0m: \u001b[1m{\u001b[0m\n",
       "        \u001b[32m'tool_calls'\u001b[0m: \u001b[1m[\u001b[0m\n",
       "            \u001b[1m{\u001b[0m\n",
       "                \u001b[32m'id'\u001b[0m: \u001b[32m'geocoding'\u001b[0m,\n",
       "                \u001b[32m'type'\u001b[0m: \u001b[32m'function'\u001b[0m,\n",
       "                \u001b[32m'function_call'\u001b[0m: \u001b[1m{\u001b[0m\u001b[32m'name'\u001b[0m: \u001b[32m'geocoding'\u001b[0m, \u001b[32m'arguments'\u001b[0m: \u001b[32m'\u001b[0m\u001b[32m{\u001b[0m\u001b[32m\"address\": \"Kalinga Vihar, Bubaneswar\"\u001b[0m\u001b[32m}\u001b[0m\u001b[32m'\u001b[0m\u001b[1m}\u001b[0m\n",
       "            \u001b[1m}\u001b[0m\n",
       "        \u001b[1m]\u001b[0m\n",
       "    \u001b[1m}\u001b[0m,\n",
       "    \u001b[32m'name'\u001b[0m: \u001b[32m'agent'\u001b[0m\n",
       "\u001b[1m}\u001b[0m\n"
      ]
     },
     "metadata": {},
     "output_type": "display_data"
    },
    {
     "data": {
      "text/html": [
       "<pre style=\"white-space:pre;overflow-x:auto;line-height:normal;font-family:Menlo,'DejaVu Sans Mono',consolas,'Courier New',monospace\"><span style=\"font-weight: bold\">{</span>\n",
       "    <span style=\"color: #008000; text-decoration-color: #008000\">'role'</span>: <span style=\"color: #008000; text-decoration-color: #008000\">'tool'</span>,\n",
       "    <span style=\"color: #008000; text-decoration-color: #008000\">'content'</span>: <span style=\"font-weight: bold\">{</span>\n",
       "        <span style=\"color: #008000; text-decoration-color: #008000\">'tool_response'</span>: <span style=\"font-weight: bold\">{</span>\n",
       "            <span style=\"color: #008000; text-decoration-color: #008000\">'id'</span>: <span style=\"color: #008000; text-decoration-color: #008000\">'geocoding'</span>,\n",
       "            <span style=\"color: #008000; text-decoration-color: #008000\">'name'</span>: <span style=\"color: #008000; text-decoration-color: #008000\">'geocoding'</span>,\n",
       "            <span style=\"color: #008000; text-decoration-color: #008000\">'content'</span>: <span style=\"color: #008000; text-decoration-color: #008000\">'{\"latitude\":20.2364668,\"longitude\":85.7556542}'</span>\n",
       "        <span style=\"font-weight: bold\">}</span>\n",
       "    <span style=\"font-weight: bold\">}</span>,\n",
       "    <span style=\"color: #008000; text-decoration-color: #008000\">'name'</span>: <span style=\"color: #008000; text-decoration-color: #008000\">'geocoding'</span>\n",
       "<span style=\"font-weight: bold\">}</span>\n",
       "</pre>\n"
      ],
      "text/plain": [
       "\u001b[1m{\u001b[0m\n",
       "    \u001b[32m'role'\u001b[0m: \u001b[32m'tool'\u001b[0m,\n",
       "    \u001b[32m'content'\u001b[0m: \u001b[1m{\u001b[0m\n",
       "        \u001b[32m'tool_response'\u001b[0m: \u001b[1m{\u001b[0m\n",
       "            \u001b[32m'id'\u001b[0m: \u001b[32m'geocoding'\u001b[0m,\n",
       "            \u001b[32m'name'\u001b[0m: \u001b[32m'geocoding'\u001b[0m,\n",
       "            \u001b[32m'content'\u001b[0m: \u001b[32m'\u001b[0m\u001b[32m{\u001b[0m\u001b[32m\"latitude\":20.2364668,\"longitude\":85.7556542\u001b[0m\u001b[32m}\u001b[0m\u001b[32m'\u001b[0m\n",
       "        \u001b[1m}\u001b[0m\n",
       "    \u001b[1m}\u001b[0m,\n",
       "    \u001b[32m'name'\u001b[0m: \u001b[32m'geocoding'\u001b[0m\n",
       "\u001b[1m}\u001b[0m\n"
      ]
     },
     "metadata": {},
     "output_type": "display_data"
    },
    {
     "data": {
      "text/html": [
       "<pre style=\"white-space:pre;overflow-x:auto;line-height:normal;font-family:Menlo,'DejaVu Sans Mono',consolas,'Courier New',monospace\"><span style=\"font-weight: bold\">{</span>\n",
       "    <span style=\"color: #008000; text-decoration-color: #008000\">'role'</span>: <span style=\"color: #008000; text-decoration-color: #008000\">'model'</span>,\n",
       "    <span style=\"color: #008000; text-decoration-color: #008000\">'content'</span>: <span style=\"font-weight: bold\">{</span>\n",
       "        <span style=\"color: #008000; text-decoration-color: #008000\">'tool_calls'</span>: <span style=\"font-weight: bold\">[</span>\n",
       "            <span style=\"font-weight: bold\">{</span>\n",
       "                <span style=\"color: #008000; text-decoration-color: #008000\">'id'</span>: <span style=\"color: #008000; text-decoration-color: #008000\">'geocoding'</span>,\n",
       "                <span style=\"color: #008000; text-decoration-color: #008000\">'type'</span>: <span style=\"color: #008000; text-decoration-color: #008000\">'function'</span>,\n",
       "                <span style=\"color: #008000; text-decoration-color: #008000\">'function_call'</span>: <span style=\"font-weight: bold\">{</span><span style=\"color: #008000; text-decoration-color: #008000\">'name'</span>: <span style=\"color: #008000; text-decoration-color: #008000\">'geocoding'</span>, <span style=\"color: #008000; text-decoration-color: #008000\">'arguments'</span>: <span style=\"color: #008000; text-decoration-color: #008000\">'{\"address\": \"Vartak Nagar Thane\"}'</span><span style=\"font-weight: bold\">}</span>\n",
       "            <span style=\"font-weight: bold\">}</span>\n",
       "        <span style=\"font-weight: bold\">]</span>\n",
       "    <span style=\"font-weight: bold\">}</span>,\n",
       "    <span style=\"color: #008000; text-decoration-color: #008000\">'name'</span>: <span style=\"color: #008000; text-decoration-color: #008000\">'agent'</span>\n",
       "<span style=\"font-weight: bold\">}</span>\n",
       "</pre>\n"
      ],
      "text/plain": [
       "\u001b[1m{\u001b[0m\n",
       "    \u001b[32m'role'\u001b[0m: \u001b[32m'model'\u001b[0m,\n",
       "    \u001b[32m'content'\u001b[0m: \u001b[1m{\u001b[0m\n",
       "        \u001b[32m'tool_calls'\u001b[0m: \u001b[1m[\u001b[0m\n",
       "            \u001b[1m{\u001b[0m\n",
       "                \u001b[32m'id'\u001b[0m: \u001b[32m'geocoding'\u001b[0m,\n",
       "                \u001b[32m'type'\u001b[0m: \u001b[32m'function'\u001b[0m,\n",
       "                \u001b[32m'function_call'\u001b[0m: \u001b[1m{\u001b[0m\u001b[32m'name'\u001b[0m: \u001b[32m'geocoding'\u001b[0m, \u001b[32m'arguments'\u001b[0m: \u001b[32m'\u001b[0m\u001b[32m{\u001b[0m\u001b[32m\"address\": \"Vartak Nagar Thane\"\u001b[0m\u001b[32m}\u001b[0m\u001b[32m'\u001b[0m\u001b[1m}\u001b[0m\n",
       "            \u001b[1m}\u001b[0m\n",
       "        \u001b[1m]\u001b[0m\n",
       "    \u001b[1m}\u001b[0m,\n",
       "    \u001b[32m'name'\u001b[0m: \u001b[32m'agent'\u001b[0m\n",
       "\u001b[1m}\u001b[0m\n"
      ]
     },
     "metadata": {},
     "output_type": "display_data"
    },
    {
     "data": {
      "text/html": [
       "<pre style=\"white-space:pre;overflow-x:auto;line-height:normal;font-family:Menlo,'DejaVu Sans Mono',consolas,'Courier New',monospace\"><span style=\"font-weight: bold\">{</span>\n",
       "    <span style=\"color: #008000; text-decoration-color: #008000\">'role'</span>: <span style=\"color: #008000; text-decoration-color: #008000\">'tool'</span>,\n",
       "    <span style=\"color: #008000; text-decoration-color: #008000\">'content'</span>: <span style=\"font-weight: bold\">{</span>\n",
       "        <span style=\"color: #008000; text-decoration-color: #008000\">'tool_response'</span>: <span style=\"font-weight: bold\">{</span>\n",
       "            <span style=\"color: #008000; text-decoration-color: #008000\">'id'</span>: <span style=\"color: #008000; text-decoration-color: #008000\">'geocoding'</span>,\n",
       "            <span style=\"color: #008000; text-decoration-color: #008000\">'name'</span>: <span style=\"color: #008000; text-decoration-color: #008000\">'geocoding'</span>,\n",
       "            <span style=\"color: #008000; text-decoration-color: #008000\">'content'</span>: <span style=\"color: #008000; text-decoration-color: #008000\">'{\"latitude\":19.208258,\"longitude\":72.9610136}'</span>\n",
       "        <span style=\"font-weight: bold\">}</span>\n",
       "    <span style=\"font-weight: bold\">}</span>,\n",
       "    <span style=\"color: #008000; text-decoration-color: #008000\">'name'</span>: <span style=\"color: #008000; text-decoration-color: #008000\">'geocoding'</span>\n",
       "<span style=\"font-weight: bold\">}</span>\n",
       "</pre>\n"
      ],
      "text/plain": [
       "\u001b[1m{\u001b[0m\n",
       "    \u001b[32m'role'\u001b[0m: \u001b[32m'tool'\u001b[0m,\n",
       "    \u001b[32m'content'\u001b[0m: \u001b[1m{\u001b[0m\n",
       "        \u001b[32m'tool_response'\u001b[0m: \u001b[1m{\u001b[0m\n",
       "            \u001b[32m'id'\u001b[0m: \u001b[32m'geocoding'\u001b[0m,\n",
       "            \u001b[32m'name'\u001b[0m: \u001b[32m'geocoding'\u001b[0m,\n",
       "            \u001b[32m'content'\u001b[0m: \u001b[32m'\u001b[0m\u001b[32m{\u001b[0m\u001b[32m\"latitude\":19.208258,\"longitude\":72.9610136\u001b[0m\u001b[32m}\u001b[0m\u001b[32m'\u001b[0m\n",
       "        \u001b[1m}\u001b[0m\n",
       "    \u001b[1m}\u001b[0m,\n",
       "    \u001b[32m'name'\u001b[0m: \u001b[32m'geocoding'\u001b[0m\n",
       "\u001b[1m}\u001b[0m\n"
      ]
     },
     "metadata": {},
     "output_type": "display_data"
    },
    {
     "data": {
      "text/html": [
       "<pre style=\"white-space:pre;overflow-x:auto;line-height:normal;font-family:Menlo,'DejaVu Sans Mono',consolas,'Courier New',monospace\"><span style=\"font-weight: bold\">{</span>\n",
       "    <span style=\"color: #008000; text-decoration-color: #008000\">'role'</span>: <span style=\"color: #008000; text-decoration-color: #008000\">'model'</span>,\n",
       "    <span style=\"color: #008000; text-decoration-color: #008000\">'content'</span>: <span style=\"font-weight: bold\">{</span>\n",
       "        <span style=\"color: #008000; text-decoration-color: #008000\">'tool_calls'</span>: <span style=\"font-weight: bold\">[</span>\n",
       "            <span style=\"font-weight: bold\">{</span>\n",
       "                <span style=\"color: #008000; text-decoration-color: #008000\">'id'</span>: <span style=\"color: #008000; text-decoration-color: #008000\">'geodesic'</span>,\n",
       "                <span style=\"color: #008000; text-decoration-color: #008000\">'type'</span>: <span style=\"color: #008000; text-decoration-color: #008000\">'function'</span>,\n",
       "                <span style=\"color: #008000; text-decoration-color: #008000\">'function_call'</span>: <span style=\"font-weight: bold\">{</span>\n",
       "                    <span style=\"color: #008000; text-decoration-color: #008000\">'name'</span>: <span style=\"color: #008000; text-decoration-color: #008000\">'geodesic'</span>,\n",
       "                    <span style=\"color: #008000; text-decoration-color: #008000\">'arguments'</span>: <span style=\"color: #008000; text-decoration-color: #008000\">'{\"coordinate_1\": {\"latitude\": 19.2083, \"longitude\": 72.961}, \"coordinate_0\": </span>\n",
       "<span style=\"color: #008000; text-decoration-color: #008000\">{\"latitude\": 20.2365, \"longitude\": 85.7557}}'</span>\n",
       "                <span style=\"font-weight: bold\">}</span>\n",
       "            <span style=\"font-weight: bold\">}</span>\n",
       "        <span style=\"font-weight: bold\">]</span>\n",
       "    <span style=\"font-weight: bold\">}</span>,\n",
       "    <span style=\"color: #008000; text-decoration-color: #008000\">'name'</span>: <span style=\"color: #008000; text-decoration-color: #008000\">'agent'</span>\n",
       "<span style=\"font-weight: bold\">}</span>\n",
       "</pre>\n"
      ],
      "text/plain": [
       "\u001b[1m{\u001b[0m\n",
       "    \u001b[32m'role'\u001b[0m: \u001b[32m'model'\u001b[0m,\n",
       "    \u001b[32m'content'\u001b[0m: \u001b[1m{\u001b[0m\n",
       "        \u001b[32m'tool_calls'\u001b[0m: \u001b[1m[\u001b[0m\n",
       "            \u001b[1m{\u001b[0m\n",
       "                \u001b[32m'id'\u001b[0m: \u001b[32m'geodesic'\u001b[0m,\n",
       "                \u001b[32m'type'\u001b[0m: \u001b[32m'function'\u001b[0m,\n",
       "                \u001b[32m'function_call'\u001b[0m: \u001b[1m{\u001b[0m\n",
       "                    \u001b[32m'name'\u001b[0m: \u001b[32m'geodesic'\u001b[0m,\n",
       "                    \u001b[32m'arguments'\u001b[0m: \u001b[32m'\u001b[0m\u001b[32m{\u001b[0m\u001b[32m\"coordinate_1\": \u001b[0m\u001b[32m{\u001b[0m\u001b[32m\"latitude\": 19.2083, \"longitude\": 72.961\u001b[0m\u001b[32m}\u001b[0m\u001b[32m, \"coordinate_0\": \u001b[0m\n",
       "\u001b[32m{\u001b[0m\u001b[32m\"latitude\": 20.2365, \"longitude\": 85.7557\u001b[0m\u001b[32m}\u001b[0m\u001b[32m}\u001b[0m\u001b[32m'\u001b[0m\n",
       "                \u001b[1m}\u001b[0m\n",
       "            \u001b[1m}\u001b[0m\n",
       "        \u001b[1m]\u001b[0m\n",
       "    \u001b[1m}\u001b[0m,\n",
       "    \u001b[32m'name'\u001b[0m: \u001b[32m'agent'\u001b[0m\n",
       "\u001b[1m}\u001b[0m\n"
      ]
     },
     "metadata": {},
     "output_type": "display_data"
    },
    {
     "data": {
      "text/html": [
       "<pre style=\"white-space:pre;overflow-x:auto;line-height:normal;font-family:Menlo,'DejaVu Sans Mono',consolas,'Courier New',monospace\"><span style=\"font-weight: bold\">{</span>\n",
       "    <span style=\"color: #008000; text-decoration-color: #008000\">'role'</span>: <span style=\"color: #008000; text-decoration-color: #008000\">'tool'</span>,\n",
       "    <span style=\"color: #008000; text-decoration-color: #008000\">'content'</span>: <span style=\"font-weight: bold\">{</span>\n",
       "        <span style=\"color: #008000; text-decoration-color: #008000\">'tool_response'</span>: <span style=\"font-weight: bold\">{</span>\n",
       "            <span style=\"color: #008000; text-decoration-color: #008000\">'id'</span>: <span style=\"color: #008000; text-decoration-color: #008000\">'geodesic'</span>,\n",
       "            <span style=\"color: #008000; text-decoration-color: #008000\">'name'</span>: <span style=\"color: #008000; text-decoration-color: #008000\">'geodesic'</span>,\n",
       "            <span style=\"color: #008000; text-decoration-color: #008000\">'content'</span>: <span style=\"color: #008000; text-decoration-color: #008000\">'{\"geodesic_distance\":1345.7381018159128,\"unit\":\"km\"}'</span>\n",
       "        <span style=\"font-weight: bold\">}</span>\n",
       "    <span style=\"font-weight: bold\">}</span>,\n",
       "    <span style=\"color: #008000; text-decoration-color: #008000\">'name'</span>: <span style=\"color: #008000; text-decoration-color: #008000\">'geodesic'</span>\n",
       "<span style=\"font-weight: bold\">}</span>\n",
       "</pre>\n"
      ],
      "text/plain": [
       "\u001b[1m{\u001b[0m\n",
       "    \u001b[32m'role'\u001b[0m: \u001b[32m'tool'\u001b[0m,\n",
       "    \u001b[32m'content'\u001b[0m: \u001b[1m{\u001b[0m\n",
       "        \u001b[32m'tool_response'\u001b[0m: \u001b[1m{\u001b[0m\n",
       "            \u001b[32m'id'\u001b[0m: \u001b[32m'geodesic'\u001b[0m,\n",
       "            \u001b[32m'name'\u001b[0m: \u001b[32m'geodesic'\u001b[0m,\n",
       "            \u001b[32m'content'\u001b[0m: \u001b[32m'\u001b[0m\u001b[32m{\u001b[0m\u001b[32m\"geodesic_distance\":1345.7381018159128,\"unit\":\"km\"\u001b[0m\u001b[32m}\u001b[0m\u001b[32m'\u001b[0m\n",
       "        \u001b[1m}\u001b[0m\n",
       "    \u001b[1m}\u001b[0m,\n",
       "    \u001b[32m'name'\u001b[0m: \u001b[32m'geodesic'\u001b[0m\n",
       "\u001b[1m}\u001b[0m\n"
      ]
     },
     "metadata": {},
     "output_type": "display_data"
    },
    {
     "data": {
      "text/html": [
       "<pre style=\"white-space:pre;overflow-x:auto;line-height:normal;font-family:Menlo,'DejaVu Sans Mono',consolas,'Courier New',monospace\"><span style=\"font-weight: bold\">{</span>\n",
       "    <span style=\"color: #008000; text-decoration-color: #008000\">'role'</span>: <span style=\"color: #008000; text-decoration-color: #008000\">'model'</span>,\n",
       "    <span style=\"color: #008000; text-decoration-color: #008000\">'content'</span>: <span style=\"font-weight: bold\">{</span><span style=\"color: #008000; text-decoration-color: #008000\">'text'</span>: <span style=\"color: #008000; text-decoration-color: #008000\">'The distance between Kalinga Vihar, Bubaneswar and Vartak Nagar Thane is 1345.74 km.'</span><span style=\"font-weight: bold\">}</span>,\n",
       "    <span style=\"color: #008000; text-decoration-color: #008000\">'name'</span>: <span style=\"color: #008000; text-decoration-color: #008000\">'agent'</span>\n",
       "<span style=\"font-weight: bold\">}</span>\n",
       "</pre>\n"
      ],
      "text/plain": [
       "\u001b[1m{\u001b[0m\n",
       "    \u001b[32m'role'\u001b[0m: \u001b[32m'model'\u001b[0m,\n",
       "    \u001b[32m'content'\u001b[0m: \u001b[1m{\u001b[0m\u001b[32m'text'\u001b[0m: \u001b[32m'The distance between Kalinga Vihar, Bubaneswar and Vartak Nagar Thane is 1345.74 km.'\u001b[0m\u001b[1m}\u001b[0m,\n",
       "    \u001b[32m'name'\u001b[0m: \u001b[32m'agent'\u001b[0m\n",
       "\u001b[1m}\u001b[0m\n"
      ]
     },
     "metadata": {},
     "output_type": "display_data"
    }
   ],
   "source": [
    "# use the agent to use geocoding and geodesic to find earth surface distance between two locations\n",
    "\n",
    "max_iterations = 1\n",
    " \n",
    "for i in range(max_iterations):\n",
    "    response = agent.generate_response(messages)\n",
    "    # termination condition is met\n",
    "    if response == None:\n",
    "        break\n",
    "    else:\n",
    "        [rich_print(r.model_dump(exclude_unset=True)) for r in response]"
   ]
  },
  {
   "cell_type": "markdown",
   "id": "7e46854d",
   "metadata": {},
   "source": [
    "### Share and get paid for your tools\n",
    "You can checkout the following examples to see how to create and share tools on XEntropy.\n",
    "- [api](https://github.com/ckh112/xentropy/blob/main/docs/api-tool/notebook.ipynb)\n",
    "- [agent](https://github.com/ckh112/xentropy/blob/main/docs/composite-agents-tool/notebook.ipynb)\n",
    "- [rag](https://github.com/ckh112/xentropy/blob/main/docs/rag-tool/notebook.ipynb)"
   ]
  },
  {
   "cell_type": "markdown",
   "id": "92a34186",
   "metadata": {},
   "source": [
    "## Managing your account\n",
    "\n",
    "The `Client` class has a few other utilities to access XEntropy platform."
   ]
  },
  {
   "cell_type": "code",
   "execution_count": 7,
   "id": "5244d591",
   "metadata": {},
   "outputs": [
    {
     "data": {
      "text/plain": [
       "{'id': 'jeremyk',\n",
       " 'email': 'jeremy.kulcsar@diamondhill.io',\n",
       " 'api_keys': {'default': 'cb7c7bd6b3104b719a6b8a8bf6433119'},\n",
       " 'balance': 0.0,\n",
       " 'payout': 0.0,\n",
       " 'payment_link': 'https://buy.stripe.com/14kdR79oM1Ab2S4bIO',\n",
       " 'ethereum_address': None}"
      ]
     },
     "execution_count": 7,
     "metadata": {},
     "output_type": "execute_result"
    }
   ],
   "source": [
    "from agentx.client import Client\n",
    "client = Client(api_key=os.environ.get('XENTROPY_API_KEY'))\n",
    "\n",
    "# See your account summary and usage data on each tool\n",
    "client.summary()"
   ]
  },
  {
   "cell_type": "code",
   "execution_count": 8,
   "id": "3e634354",
   "metadata": {},
   "outputs": [
    {
     "name": "stdout",
     "output_type": "stream",
     "text": [
      "https://buy.stripe.com/14kdR79oM1Ab2S4bIO\n"
     ]
    }
   ],
   "source": [
    "# XEntropy credit can be used to pay for tool usage, if the tool is not free.\n",
    "# You can top up your XEntropy credit by paying with credit card by navigating to the payment link.\n",
    "print(client.summary().get('payment_link'))"
   ]
  },
  {
   "cell_type": "code",
   "execution_count": 9,
   "id": "2561b2ad",
   "metadata": {},
   "outputs": [
    {
     "ename": "Error",
     "evalue": "Non-hexadecimal digit found",
     "output_type": "error",
     "traceback": [
      "\u001b[0;31m---------------------------------------------------------------------------\u001b[0m",
      "\u001b[0;31mError\u001b[0m                                     Traceback (most recent call last)",
      "Cell \u001b[0;32mIn[9], line 5\u001b[0m\n\u001b[1;32m      1\u001b[0m \u001b[38;5;66;03m# Alternatively you can also top up your XEntropy credit by paying with cryptocurrency.\u001b[39;00m\n\u001b[1;32m      2\u001b[0m \u001b[38;5;66;03m# We accept USDT, USDC, and DAI on the ethereum blockchain.\u001b[39;00m\n\u001b[1;32m      3\u001b[0m \u001b[38;5;66;03m# First, register your address.\u001b[39;00m\n\u001b[1;32m      4\u001b[0m \u001b[38;5;28;01mfrom\u001b[39;00m \u001b[38;5;21;01meth_account\u001b[39;00m \u001b[38;5;28;01mimport\u001b[39;00m Account\n\u001b[0;32m----> 5\u001b[0m account \u001b[38;5;241m=\u001b[39m \u001b[43mAccount\u001b[49m\u001b[38;5;241;43m.\u001b[39;49m\u001b[43mfrom_key\u001b[49m\u001b[43m(\u001b[49m\u001b[38;5;124;43m'\u001b[39;49m\u001b[38;5;124;43mYOUR_PRIVATE_KEY\u001b[39;49m\u001b[38;5;124;43m'\u001b[39;49m\u001b[43m)\u001b[49m\n\u001b[1;32m      6\u001b[0m \u001b[38;5;66;03m# you can also use mnemonic phrase\u001b[39;00m\n\u001b[1;32m      7\u001b[0m \u001b[38;5;66;03m# account = Account.from_mnemonic('YOUR_MNEMONIC_PHRASE')\u001b[39;00m\n\u001b[1;32m      8\u001b[0m response \u001b[38;5;241m=\u001b[39m client\u001b[38;5;241m.\u001b[39mregister_ethereum_address(account\u001b[38;5;241m=\u001b[39maccount)\n",
      "File \u001b[0;32m~/.local/lib/python3.12/site-packages/eth_utils/decorators.py:31\u001b[0m, in \u001b[0;36mcombomethod.__get__.<locals>._wrapper\u001b[0;34m(*args, **kwargs)\u001b[0m\n\u001b[1;32m     29\u001b[0m     \u001b[38;5;28;01mreturn\u001b[39;00m \u001b[38;5;28mself\u001b[39m\u001b[38;5;241m.\u001b[39mmethod(obj, \u001b[38;5;241m*\u001b[39margs, \u001b[38;5;241m*\u001b[39m\u001b[38;5;241m*\u001b[39mkwargs)\n\u001b[1;32m     30\u001b[0m \u001b[38;5;28;01melse\u001b[39;00m:\n\u001b[0;32m---> 31\u001b[0m     \u001b[38;5;28;01mreturn\u001b[39;00m \u001b[38;5;28;43mself\u001b[39;49m\u001b[38;5;241;43m.\u001b[39;49m\u001b[43mmethod\u001b[49m\u001b[43m(\u001b[49m\u001b[43mobjtype\u001b[49m\u001b[43m,\u001b[49m\u001b[43m \u001b[49m\u001b[38;5;241;43m*\u001b[39;49m\u001b[43margs\u001b[49m\u001b[43m,\u001b[49m\u001b[43m \u001b[49m\u001b[38;5;241;43m*\u001b[39;49m\u001b[38;5;241;43m*\u001b[39;49m\u001b[43mkwargs\u001b[49m\u001b[43m)\u001b[49m\n",
      "File \u001b[0;32m~/.local/lib/python3.12/site-packages/eth_account/account.py:266\u001b[0m, in \u001b[0;36mAccount.from_key\u001b[0;34m(self, private_key)\u001b[0m\n\u001b[1;32m    243\u001b[0m \u001b[38;5;129m@combomethod\u001b[39m\n\u001b[1;32m    244\u001b[0m \u001b[38;5;28;01mdef\u001b[39;00m \u001b[38;5;21mfrom_key\u001b[39m(\u001b[38;5;28mself\u001b[39m, private_key):\n\u001b[1;32m    245\u001b[0m \u001b[38;5;250m    \u001b[39m\u001b[38;5;124mr\u001b[39m\u001b[38;5;124;03m\"\"\"\u001b[39;00m\n\u001b[1;32m    246\u001b[0m \u001b[38;5;124;03m    Returns a convenient object for working with the given private key.\u001b[39;00m\n\u001b[1;32m    247\u001b[0m \n\u001b[0;32m   (...)\u001b[0m\n\u001b[1;32m    264\u001b[0m \u001b[38;5;124;03m        # but without the private key argument\u001b[39;00m\n\u001b[1;32m    265\u001b[0m \u001b[38;5;124;03m    \"\"\"\u001b[39;00m\n\u001b[0;32m--> 266\u001b[0m     key \u001b[38;5;241m=\u001b[39m \u001b[38;5;28;43mself\u001b[39;49m\u001b[38;5;241;43m.\u001b[39;49m\u001b[43m_parsePrivateKey\u001b[49m\u001b[43m(\u001b[49m\u001b[43mprivate_key\u001b[49m\u001b[43m)\u001b[49m\n\u001b[1;32m    267\u001b[0m     \u001b[38;5;28;01mreturn\u001b[39;00m LocalAccount(key, \u001b[38;5;28mself\u001b[39m)\n",
      "File \u001b[0;32m~/.local/lib/python3.12/site-packages/eth_utils/decorators.py:31\u001b[0m, in \u001b[0;36mcombomethod.__get__.<locals>._wrapper\u001b[0;34m(*args, **kwargs)\u001b[0m\n\u001b[1;32m     29\u001b[0m     \u001b[38;5;28;01mreturn\u001b[39;00m \u001b[38;5;28mself\u001b[39m\u001b[38;5;241m.\u001b[39mmethod(obj, \u001b[38;5;241m*\u001b[39margs, \u001b[38;5;241m*\u001b[39m\u001b[38;5;241m*\u001b[39mkwargs)\n\u001b[1;32m     30\u001b[0m \u001b[38;5;28;01melse\u001b[39;00m:\n\u001b[0;32m---> 31\u001b[0m     \u001b[38;5;28;01mreturn\u001b[39;00m \u001b[38;5;28;43mself\u001b[39;49m\u001b[38;5;241;43m.\u001b[39;49m\u001b[43mmethod\u001b[49m\u001b[43m(\u001b[49m\u001b[43mobjtype\u001b[49m\u001b[43m,\u001b[49m\u001b[43m \u001b[49m\u001b[38;5;241;43m*\u001b[39;49m\u001b[43margs\u001b[49m\u001b[43m,\u001b[49m\u001b[43m \u001b[49m\u001b[38;5;241;43m*\u001b[39;49m\u001b[38;5;241;43m*\u001b[39;49m\u001b[43mkwargs\u001b[49m\u001b[43m)\u001b[49m\n",
      "File \u001b[0;32m~/.local/lib/python3.12/site-packages/eth_account/account.py:801\u001b[0m, in \u001b[0;36mAccount._parsePrivateKey\u001b[0;34m(self, key)\u001b[0m\n\u001b[1;32m    798\u001b[0m     \u001b[38;5;28;01mreturn\u001b[39;00m key\n\u001b[1;32m    800\u001b[0m \u001b[38;5;28;01mtry\u001b[39;00m:\n\u001b[0;32m--> 801\u001b[0m     \u001b[38;5;28;01mreturn\u001b[39;00m \u001b[38;5;28mself\u001b[39m\u001b[38;5;241m.\u001b[39m_keys\u001b[38;5;241m.\u001b[39mPrivateKey(\u001b[43mHexBytes\u001b[49m\u001b[43m(\u001b[49m\u001b[43mkey\u001b[49m\u001b[43m)\u001b[49m)\n\u001b[1;32m    802\u001b[0m \u001b[38;5;28;01mexcept\u001b[39;00m ValidationError \u001b[38;5;28;01mas\u001b[39;00m original_exception:\n\u001b[1;32m    803\u001b[0m     \u001b[38;5;28;01mraise\u001b[39;00m \u001b[38;5;167;01mValueError\u001b[39;00m(\n\u001b[1;32m    804\u001b[0m         \u001b[38;5;124m\"\u001b[39m\u001b[38;5;124mThe private key must be exactly 32 bytes long, instead of \u001b[39m\u001b[38;5;124m\"\u001b[39m\n\u001b[1;32m    805\u001b[0m         \u001b[38;5;124m\"\u001b[39m\u001b[38;5;132;01m%d\u001b[39;00m\u001b[38;5;124m bytes.\u001b[39m\u001b[38;5;124m\"\u001b[39m \u001b[38;5;241m%\u001b[39m \u001b[38;5;28mlen\u001b[39m(key)\n\u001b[1;32m    806\u001b[0m     ) \u001b[38;5;28;01mfrom\u001b[39;00m \u001b[38;5;21;01moriginal_exception\u001b[39;00m\n",
      "File \u001b[0;32m~/.local/lib/python3.12/site-packages/hexbytes/main.py:42\u001b[0m, in \u001b[0;36mHexBytes.__new__\u001b[0;34m(cls, val)\u001b[0m\n\u001b[1;32m     41\u001b[0m \u001b[38;5;28;01mdef\u001b[39;00m \u001b[38;5;21m__new__\u001b[39m(\u001b[38;5;28mcls\u001b[39m: Type[\u001b[38;5;28mbytes\u001b[39m], val: BytesLike) \u001b[38;5;241m-\u001b[39m\u001b[38;5;241m>\u001b[39m \u001b[38;5;124m\"\u001b[39m\u001b[38;5;124mHexBytes\u001b[39m\u001b[38;5;124m\"\u001b[39m:\n\u001b[0;32m---> 42\u001b[0m     bytesval \u001b[38;5;241m=\u001b[39m \u001b[43mto_bytes\u001b[49m\u001b[43m(\u001b[49m\u001b[43mval\u001b[49m\u001b[43m)\u001b[49m\n\u001b[1;32m     43\u001b[0m     \u001b[38;5;28;01mreturn\u001b[39;00m cast(HexBytes, \u001b[38;5;28msuper\u001b[39m()\u001b[38;5;241m.\u001b[39m\u001b[38;5;21m__new__\u001b[39m(\u001b[38;5;28mcls\u001b[39m, bytesval))\n",
      "File \u001b[0;32m~/.local/lib/python3.12/site-packages/hexbytes/_utils.py:17\u001b[0m, in \u001b[0;36mto_bytes\u001b[0;34m(val)\u001b[0m\n\u001b[1;32m     15\u001b[0m     \u001b[38;5;28;01mreturn\u001b[39;00m val\n\u001b[1;32m     16\u001b[0m \u001b[38;5;28;01melif\u001b[39;00m \u001b[38;5;28misinstance\u001b[39m(val, \u001b[38;5;28mstr\u001b[39m):\n\u001b[0;32m---> 17\u001b[0m     \u001b[38;5;28;01mreturn\u001b[39;00m \u001b[43mhexstr_to_bytes\u001b[49m\u001b[43m(\u001b[49m\u001b[43mval\u001b[49m\u001b[43m)\u001b[49m\n\u001b[1;32m     18\u001b[0m \u001b[38;5;28;01melif\u001b[39;00m \u001b[38;5;28misinstance\u001b[39m(val, \u001b[38;5;28mbytearray\u001b[39m):\n\u001b[1;32m     19\u001b[0m     \u001b[38;5;28;01mreturn\u001b[39;00m \u001b[38;5;28mbytes\u001b[39m(val)\n",
      "File \u001b[0;32m~/.local/lib/python3.12/site-packages/hexbytes/_utils.py:54\u001b[0m, in \u001b[0;36mhexstr_to_bytes\u001b[0;34m(hexstr)\u001b[0m\n\u001b[1;32m     50\u001b[0m     \u001b[38;5;28;01mraise\u001b[39;00m \u001b[38;5;167;01mValueError\u001b[39;00m(\n\u001b[1;32m     51\u001b[0m         \u001b[38;5;124mf\u001b[39m\u001b[38;5;124m\"\u001b[39m\u001b[38;5;124mhex string \u001b[39m\u001b[38;5;132;01m{\u001b[39;00mpadded_hex\u001b[38;5;132;01m}\u001b[39;00m\u001b[38;5;124m may only contain [0-9a-fA-F] characters\u001b[39m\u001b[38;5;124m\"\u001b[39m\n\u001b[1;32m     52\u001b[0m     )\n\u001b[1;32m     53\u001b[0m \u001b[38;5;28;01melse\u001b[39;00m:\n\u001b[0;32m---> 54\u001b[0m     \u001b[38;5;28;01mreturn\u001b[39;00m \u001b[43mbinascii\u001b[49m\u001b[38;5;241;43m.\u001b[39;49m\u001b[43munhexlify\u001b[49m\u001b[43m(\u001b[49m\u001b[43mascii_hex\u001b[49m\u001b[43m)\u001b[49m\n",
      "\u001b[0;31mError\u001b[0m: Non-hexadecimal digit found"
     ]
    }
   ],
   "source": [
    "# Alternatively you can also top up your XEntropy credit by paying with cryptocurrency.\n",
    "# We accept USDT, USDC, and DAI on the ethereum blockchain.\n",
    "# First, register your address.\n",
    "from eth_account import Account\n",
    "account = Account.from_key('YOUR_PRIVATE_KEY')\n",
    "# you can also use mnemonic phrase\n",
    "# account = Account.from_mnemonic('YOUR_MNEMONIC_PHRASE')\n",
    "response = client.register_ethereum_address(account=account)\n",
    "print(response.json())"
   ]
  },
  {
   "cell_type": "code",
   "execution_count": null,
   "id": "6f6d83ec",
   "metadata": {},
   "outputs": [],
   "source": [
    "# Sometimes you'd like to modify your published tool\n",
    "# Example 1: Making the tool public to XEntropy platform user\n",
    "client.modify_tool(\n",
    "    tool=\"YOUR_TOOL_NAME\",\n",
    "    key=\"public\",\n",
    "    value=True,\n",
    ")"
   ]
  },
  {
   "cell_type": "code",
   "execution_count": null,
   "id": "98d08e51",
   "metadata": {},
   "outputs": [],
   "source": [
    "# Example 2: Tool description acts as a prompt to LLM, and hence it can be optimised through prompt engineering.\n",
    "# You may want to modify it for improved performance.\n",
    "# Check out https://github.com/microsoft/LMOps/tree/main/prompt_optimization for inspiration.\n",
    "client.modify_tool(\n",
    "    tool=\"YOUR_TOOL_NAME\",\n",
    "    key=\"description\",\n",
    "    value=\"YOU_NEW_DESCRIPTION\",\n",
    ")"
   ]
  },
  {
   "cell_type": "code",
   "execution_count": null,
   "id": "ec90d792",
   "metadata": {},
   "outputs": [],
   "source": [
    "# You can take your tool away anytime.\n",
    "client.delete_tool(\n",
    "    tool=\"YOUR_TOOL_NAME\"\n",
    ")"
   ]
  },
  {
   "cell_type": "markdown",
   "id": "0996095c",
   "metadata": {},
   "source": [
    "XEntropy pays 80% of the tool-use revenue to tool developers's `payout` wallet. There is also a 5% bonus paid to the `balance` wallet to incentivize tool developers for consuming other tools on XEntropy.\n",
    "\n",
    "At this moment we only support withdrawl on the ethereum network for selected stable coins. More withdrawal method is on the way."
   ]
  },
  {
   "cell_type": "code",
   "execution_count": null,
   "id": "b30b09a1",
   "metadata": {},
   "outputs": [],
   "source": [
    "# To withdraw from your payout wallet\n",
    "client.stable_coin_payout(\n",
    "    amount=100000,  # amount to withdraw denominated in XEntropy Credit. i.e. 100000 XEntropy Credit = 1 USD\n",
    "    address=\"YOUR_ETHEREUM_ADDRESS\", # your ethereum network address\n",
    "    stable_coin='USDT' # choose between ['USDT', 'USDC', 'DAI']\n",
    ")"
   ]
  },
  {
   "cell_type": "code",
   "execution_count": null,
   "id": "2024e13d",
   "metadata": {},
   "outputs": [],
   "source": []
  }
 ],
 "metadata": {
  "kernelspec": {
   "display_name": "Python 3.9.6 64-bit",
   "language": "python",
   "name": "python3"
  },
  "language_info": {
   "codemirror_mode": {
    "name": "ipython",
    "version": 3
   },
   "file_extension": ".py",
   "mimetype": "text/x-python",
   "name": "python",
   "nbconvert_exporter": "python",
   "pygments_lexer": "ipython3",
   "version": "3.12.2"
  },
  "vscode": {
   "interpreter": {
    "hash": "31f2aee4e71d21fbe5cf8b01ff0e069b9275f58929596ceb00d14d90e3e16cd6"
   }
  }
 },
 "nbformat": 4,
 "nbformat_minor": 5
}

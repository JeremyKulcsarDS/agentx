{
 "cells": [
  {
   "cell_type": "markdown",
   "metadata": {},
   "source": [
    "# Develop and publish tools - logic\n",
    "\n",
    "LLM agents can struggle to carry out deterministic logics and complex arithmetics. This is because the token generation process is stochastic in nature. However, we can develop tools that can carry out such tasks and equip them to LLM agents. This notebook shows how to do so."
   ]
  },
  {
   "cell_type": "code",
   "execution_count": null,
   "metadata": {},
   "outputs": [],
   "source": [
    "from hashlib import sha256\n",
    "from dotenv import load_dotenv\n",
    "import os\n",
    "# Developing the geodesic calculation tool used in the quickstart\n",
    "# XEntropy will send a Webhook-Secret header to your endpoint for authentication.\n",
    "load_dotenv()\n",
    "\n",
    "webhook_secret = sha256(b'YOUR OWN SEED').hexdigest()\n",
    "\n",
    "# Replace with your own google cloud api key\n",
    "env = {\n",
    "    \"WEBHOOK_SECRET\": webhook_secret,\n",
    "}\n",
    "\n",
    "with open('.env', 'w') as f:\n",
    "    f.write('\\n'.join([f'{key}={value}' for key, value in env.items()]))"
   ]
  },
  {
   "cell_type": "code",
   "execution_count": null,
   "metadata": {},
   "outputs": [],
   "source": [
    "from pydantic import BaseModel\n",
    "from geopy import distance\n",
    "\n",
    "# Code snippet for wrapping some custom logic into a tool to be published on XEntropy\n",
    "class Coordinate(BaseModel):\n",
    "    latitude: float\n",
    "    longitude: float\n",
    "\n",
    "\n",
    "class CoordinatePair(BaseModel):\n",
    "    coordinate_0: Coordinate\n",
    "    coordinate_1: Coordinate\n",
    "\n",
    "def geodesic(coordinate_pair: CoordinatePair):\n",
    "\n",
    "    geodesic_distance = distance.distance(\n",
    "        tuple(coordinate_pair.coordinate_0.dict().values()),\n",
    "        tuple(coordinate_pair.coordinate_1.dict().values()),\n",
    "    ).km\n",
    "\n",
    "    result = {'geodesic_distance': geodesic_distance, 'unit': 'km'}\n",
    "\n",
    "    return result"
   ]
  },
  {
   "cell_type": "code",
   "execution_count": null,
   "metadata": {},
   "outputs": [],
   "source": [
    "# test the function\n",
    "geodesic(\n",
    "    CoordinatePair(\n",
    "        coordinate_0=Coordinate(latitude=0, longitude=0), \n",
    "        coordinate_1=Coordinate(latitude=1, longitude=1)\n",
    "    )\n",
    ")"
   ]
  },
  {
   "cell_type": "markdown",
   "metadata": {},
   "source": [
    "Execute the following to start a FastAPI server on your virtual machine.\n",
    "```bash\n",
    "uvicorn server:app --host 0.0.0.0 --port 80 --reload\n",
    "```"
   ]
  },
  {
   "cell_type": "code",
   "execution_count": null,
   "metadata": {},
   "outputs": [],
   "source": [
    "import requests\n",
    "# Test if the server is working\n",
    "url = f'http://IP_OF_YOUR_VIRTUAL_MACHINE/geodesic'\n",
    "response = requests.post(\n",
    "    url,\n",
    "    json={\n",
    "        'coordinate_0': {'latitude': 40.6446245, 'longitude': -73.7797035},\n",
    "        'coordinate_1': {'latitude': 41.6446245, 'longitude': -72.7797035}\n",
    "    },\n",
    "    headers={\n",
    "        'Webhook-Secret': webhook_secret\n",
    "    }\n",
    ")\n",
    "response.json()"
   ]
  },
  {
   "cell_type": "code",
   "execution_count": null,
   "metadata": {},
   "outputs": [],
   "source": [
    "\n",
    "from xentropy.tool import Tool\n",
    "from pydantic import BaseModel\n",
    "\n",
    "geodesic = Tool(\n",
    "    api_key='YOUR OWN XENTROPY API KEY',\n",
    "    name='geodesic',\n",
    "    description='Calculate the earth surface distance between two latitude and longitude coordinate',\n",
    "    endpoint=url,\n",
    "    input_model=CoordinatePair,\n",
    "    price=0,  # xentropy_credit per request. 0 means free to use. 1 USD = 100,000 xentropy_credit\n",
    ")\n",
    "\n",
    "tool_upload = geodesic.publish(webhook_secret=webhook_secret, public=True)"
   ]
  },
  {
   "cell_type": "code",
   "execution_count": null,
   "metadata": {},
   "outputs": [],
   "source": [
    "# confirm that the tool works\n",
    "geodesic = Tool.load(\n",
    "    tool_upload['name'],\n",
    "    api_key=os.environ.get('XENTROPY_API_KEY')\n",
    ")\n",
    "coordinatePair = CoordinatePair(coordinate_0=Coordinate(latitude=22.3193039, longitude=114.1693611), coordinate_1=Coordinate(\n",
    "    latitude=35.6764225, longitude=139.650027))\n",
    "geodesic.run(**coordinatePair.model_dump())"
   ]
  }
 ],
 "metadata": {
  "kernelspec": {
   "display_name": "Python 3.9.6 64-bit",
   "language": "python",
   "name": "python3"
  },
  "language_info": {
   "codemirror_mode": {
    "name": "ipython",
    "version": 3
   },
   "file_extension": ".py",
   "mimetype": "text/x-python",
   "name": "python",
   "nbconvert_exporter": "python",
   "pygments_lexer": "ipython3",
   "version": "3.9.6"
  },
  "orig_nbformat": 4,
  "vscode": {
   "interpreter": {
    "hash": "31f2aee4e71d21fbe5cf8b01ff0e069b9275f58929596ceb00d14d90e3e16cd6"
   }
  }
 },
 "nbformat": 4,
 "nbformat_minor": 2
}
